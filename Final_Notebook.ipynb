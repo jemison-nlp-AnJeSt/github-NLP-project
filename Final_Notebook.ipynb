{
 "cells": [
  {
   "cell_type": "markdown",
   "id": "c80ce190",
   "metadata": {},
   "source": [
    "# Linux NLP - SUDO GET LANGUAGE COUNT"
   ]
  },
  {
   "cell_type": "markdown",
   "id": "b7488ead",
   "metadata": {},
   "source": [
    "## PREDICTING PROGRAMMING LANGUAGE WITHIN LINUX README REPOS"
   ]
  },
  {
   "cell_type": "markdown",
   "id": "b45c148b",
   "metadata": {},
   "source": [
    "by Andrew Rachuig, Stephen Fitzsimon and Jennifer Eyring"
   ]
  },
  {
   "cell_type": "markdown",
   "id": "49ba4040",
   "metadata": {},
   "source": [
    "_______________________________"
   ]
  },
  {
   "cell_type": "markdown",
   "id": "c34174c8",
   "metadata": {},
   "source": [
    "<b>Introduction Notes:</b> This NLP project is based on utilizing webscraping methods to create a predictive Logistical Regression Model.\n",
    "<br>\n",
    "<br>\n",
    "Our team scraped the top 3,300 most-forked Linux Github repositories (as of July 20, 2022) to determine what are the top programming languages being used on Github projects.\n",
    "<br>\n",
    "<br>\n",
    "After finding the top languages being used for each Github repo, we then took the words/wording within the README sections of the repos to see if we could build a model that could predict what programming language was used; solely based on the README content and text.\n",
    "<br>\n",
    "<br>\n",
    "### <b>Audience Notes about the Data:</b> \n",
    "The source of our data came from webscraping the top-forked Linux Github repositiories, by searching Linux and then also pulling the content of Linux's three common flavors: Arch, Debian and Ubuntu. You can read more of the step-by-step of how to replicate this repo in the README section.\n"
   ]
  },
  {
   "cell_type": "markdown",
   "id": "6b60f7b0",
   "metadata": {},
   "source": [
    "__________________"
   ]
  },
  {
   "cell_type": "markdown",
   "id": "dea587cd",
   "metadata": {},
   "source": [
    "## Initial Questions when starting this project:"
   ]
  },
  {
   "cell_type": "markdown",
   "id": "477ae07a",
   "metadata": {},
   "source": [
    "> - How many & what are the unique words to each specific programming language?<br><br>\n",
    "> - Are there any bigrams/trigrams that are specific to certain programming languages?<br><br>\n",
    "> - Are there differences in words/phrases to Linux-flavors- specifically Ubuntu, Debian and Archlinux.<br><br>\n",
    "> - Do certain programming languages have larger README sections than others? And if so, which ones?<br><br>\n",
    "> - With Linux-flavors-Debian, Arch and Ubuntu-are there differences in README lengths? (ie does one flavor over the others seem to have more details needed or explained than others?)"
   ]
  },
  {
   "cell_type": "markdown",
   "id": "9125b9ba",
   "metadata": {},
   "source": [
    "__________________________"
   ]
  },
  {
   "cell_type": "markdown",
   "id": "d27a1dce",
   "metadata": {},
   "source": [
    "# Project Goals:"
   ]
  },
  {
   "cell_type": "markdown",
   "id": "691c5c77",
   "metadata": {},
   "source": [
    "> - Utilize Codeup's webscraping function and apply it to our project's parameters of obtaining the top-forked Linux repositories.<br><br>\n",
    "> - To determine any commonalities/differences between programming languages and the README sections of the repositories.<br><br>\n",
    "> - Create a classification model that can predict what programming language is used, solely based on the README content/words."
   ]
  },
  {
   "cell_type": "markdown",
   "id": "73f35daf",
   "metadata": {},
   "source": [
    "# Executive Summary:"
   ]
  },
  {
   "cell_type": "code",
   "execution_count": null,
   "id": "0e510a11",
   "metadata": {},
   "outputs": [],
   "source": []
  },
  {
   "cell_type": "code",
   "execution_count": null,
   "id": "e59b0bcf",
   "metadata": {},
   "outputs": [],
   "source": []
  },
  {
   "cell_type": "markdown",
   "id": "019da0b4",
   "metadata": {},
   "source": [
    "___________________________________________"
   ]
  },
  {
   "cell_type": "markdown",
   "id": "627b858a",
   "metadata": {},
   "source": [
    "<h1>ABOUT THE DATA:</h1>\n",
    "\n",
    "Our team collected 3,300 top-forked Github repos that were specific flavors of Linux: Archlinux, Ubuntu, and Debian repositiores. Each flavor we pulled 1,100 and then combined these webscraped repositories into one large dataframe.\n",
    "\n",
    "### Key notes:\n",
    "- 3,300 repositories were collected.\n",
    "- 2,805 were used in this model, after clean/normalizing data.\n",
    "- <b>Top 3 programming languages used in all the repos:\n",
    "    - 1) Shell\n",
    "    - 2) Python\n",
    "    - 3) C\n"
   ]
  },
  {
   "cell_type": "markdown",
   "id": "564da268",
   "metadata": {},
   "source": [
    "<div class=\"alert alert-info\">\n",
    "    \n",
    "### Size of data:\n",
    "<b>Pre-Clean/Normalize: 3,300 rows | 3 columns\n",
    "\n",
    "<b>After cleaning & normalizing: 2,805 rows | 6 columns\n",
    "</div>"
   ]
  },
  {
   "cell_type": "markdown",
   "id": "0b2a6a97",
   "metadata": {},
   "source": [
    "## Wrangle Process:"
   ]
  },
  {
   "cell_type": "markdown",
   "id": "fdeee94e",
   "metadata": {},
   "source": [
    "#### Measures taken to clean and normalize the data:"
   ]
  },
  {
   "cell_type": "markdown",
   "id": "58e702f4",
   "metadata": {},
   "source": [
    "> 1) We dropped all nulls as these related to repos that had no languages defined.<br><br>\n",
    "> 2) Using NLTK tools, we replaced any abnormal symbols and https-related phrases with single spaces on the readme_contents column.<br><br>\n",
    "> 3) We tokenized the dataset on this same column.<br><br>\n",
    "> 4) After cleaning/normalizing, we had used the proportions of most common words throughout the repos across every programming language to determine which words need to be removed as they took away from the information the corpus was provided on predictability.<br><br>\n",
    "> 5) We lowered all capitilizations within the readme content.<br><br>\n",
    "> 6) And finally we stemmed all words so keep key words/phrases similar.<br><br>\n",
    "> 7) We added the following columns:\n",
    "- `disto` : to label which repos were Arch, Ubuntu or Debian\n",
    "- `clean_readme` : to have a comparison of the original collected text `readme_contents`\n",
    "- `length_readme`: counts how many unique words are in each repo."
   ]
  },
  {
   "cell_type": "markdown",
   "id": "26b6dba0",
   "metadata": {},
   "source": [
    "______________________"
   ]
  },
  {
   "cell_type": "markdown",
   "id": "f1fe9868",
   "metadata": {},
   "source": [
    "## Exploring the main dataset:"
   ]
  },
  {
   "cell_type": "markdown",
   "id": "80ae101a",
   "metadata": {},
   "source": [
    "#### Calling in the data:"
   ]
  },
  {
   "cell_type": "code",
   "execution_count": 1,
   "id": "d20823d0",
   "metadata": {},
   "outputs": [],
   "source": [
    "#imports:\n",
    "\n",
    "#tools for web scraping:\n",
    "from requests import get\n",
    "from bs4 import BeautifulSoup\n",
    "import os\n",
    "import pandas as pd\n",
    "import numpy as np\n",
    "\n",
    "#group imports\n",
    "import env\n",
    "import acquire\n",
    "import constants_prepare as c\n",
    "\n",
    "import json\n",
    "from typing import Dict, List, Optional, Union, cast\n",
    "import requests\n",
    "import nltk\n",
    "\n",
    "#visualizations:\n",
    "import matplotlib.pyplot as plt\n",
    "import seaborn as sns"
   ]
  },
  {
   "cell_type": "code",
   "execution_count": 2,
   "id": "4b7ece61",
   "metadata": {},
   "outputs": [
    {
     "data": {
      "text/html": [
       "<div>\n",
       "<style scoped>\n",
       "    .dataframe tbody tr th:only-of-type {\n",
       "        vertical-align: middle;\n",
       "    }\n",
       "\n",
       "    .dataframe tbody tr th {\n",
       "        vertical-align: top;\n",
       "    }\n",
       "\n",
       "    .dataframe thead th {\n",
       "        text-align: right;\n",
       "    }\n",
       "</style>\n",
       "<table border=\"1\" class=\"dataframe\">\n",
       "  <thead>\n",
       "    <tr style=\"text-align: right;\">\n",
       "      <th></th>\n",
       "      <th>repo</th>\n",
       "      <th>language</th>\n",
       "      <th>readme_contents</th>\n",
       "      <th>distro</th>\n",
       "      <th>clean_readme</th>\n",
       "      <th>length_of_readme</th>\n",
       "    </tr>\n",
       "  </thead>\n",
       "  <tbody>\n",
       "    <tr>\n",
       "      <th>0</th>\n",
       "      <td>dockerfile/ubuntu</td>\n",
       "      <td>Shell</td>\n",
       "      <td>## Ubuntu Dockerfile\\n\\n\\nThis repository cont...</td>\n",
       "      <td>ubuntu</td>\n",
       "      <td>[ubuntu, dockerfil, repositori, contain, docke...</td>\n",
       "      <td>31</td>\n",
       "    </tr>\n",
       "    <tr>\n",
       "      <th>1</th>\n",
       "      <td>boxcutter/ubuntu</td>\n",
       "      <td>Shell</td>\n",
       "      <td># Packer templates for Ubuntu written in legac...</td>\n",
       "      <td>ubuntu</td>\n",
       "      <td>[packer, templat, ubuntu, written, legaci, jso...</td>\n",
       "      <td>501</td>\n",
       "    </tr>\n",
       "    <tr>\n",
       "      <th>2</th>\n",
       "      <td>wszqkzqk/deepin-wine-ubuntu</td>\n",
       "      <td>C</td>\n",
       "      <td># Deepin wine for Ubuntu and Debian\\n\\n## 一、项目...</td>\n",
       "      <td>ubuntu</td>\n",
       "      <td>[deepin, wine, ubuntu, debian, deepinwin, ubun...</td>\n",
       "      <td>164</td>\n",
       "    </tr>\n",
       "    <tr>\n",
       "      <th>3</th>\n",
       "      <td>fcwu/docker-ubuntu-vnc-desktop</td>\n",
       "      <td>HTML</td>\n",
       "      <td># docker-ubuntu-vnc-desktop\\n\\n[![Docker Pulls...</td>\n",
       "      <td>ubuntu</td>\n",
       "      <td>[dockerubuntuvncdesktop, docker, pull, docker,...</td>\n",
       "      <td>386</td>\n",
       "    </tr>\n",
       "    <tr>\n",
       "      <th>4</th>\n",
       "      <td>docker-32bit/ubuntu</td>\n",
       "      <td>Shell</td>\n",
       "      <td>ubuntu\\n======\\n\\nBuild a docker image for ubu...</td>\n",
       "      <td>ubuntu</td>\n",
       "      <td>[ubuntu, build, docker, imag, ubuntu, i386, ru...</td>\n",
       "      <td>14</td>\n",
       "    </tr>\n",
       "  </tbody>\n",
       "</table>\n",
       "</div>"
      ],
      "text/plain": [
       "                             repo language  \\\n",
       "0               dockerfile/ubuntu    Shell   \n",
       "1                boxcutter/ubuntu    Shell   \n",
       "2     wszqkzqk/deepin-wine-ubuntu        C   \n",
       "3  fcwu/docker-ubuntu-vnc-desktop     HTML   \n",
       "4             docker-32bit/ubuntu    Shell   \n",
       "\n",
       "                                     readme_contents  distro  \\\n",
       "0  ## Ubuntu Dockerfile\\n\\n\\nThis repository cont...  ubuntu   \n",
       "1  # Packer templates for Ubuntu written in legac...  ubuntu   \n",
       "2  # Deepin wine for Ubuntu and Debian\\n\\n## 一、项目...  ubuntu   \n",
       "3  # docker-ubuntu-vnc-desktop\\n\\n[![Docker Pulls...  ubuntu   \n",
       "4  ubuntu\\n======\\n\\nBuild a docker image for ubu...  ubuntu   \n",
       "\n",
       "                                        clean_readme  length_of_readme  \n",
       "0  [ubuntu, dockerfil, repositori, contain, docke...                31  \n",
       "1  [packer, templat, ubuntu, written, legaci, jso...               501  \n",
       "2  [deepin, wine, ubuntu, debian, deepinwin, ubun...               164  \n",
       "3  [dockerubuntuvncdesktop, docker, pull, docker,...               386  \n",
       "4  [ubuntu, build, docker, imag, ubuntu, i386, ru...                14  "
      ]
     },
     "execution_count": 2,
     "metadata": {},
     "output_type": "execute_result"
    }
   ],
   "source": [
    "#calling in master_df:\n",
    "master_df = pd.read_csv('master_list.csv')\n",
    "\n",
    "#handling nulls of rows that do not have languages mentioned:\n",
    "master_df = c.drop_nulls(master_df)\n",
    "\n",
    "#importing our clean/normalization function\n",
    "master_df = c.adding_columns(master_df)\n",
    "master_df.head()"
   ]
  },
  {
   "cell_type": "markdown",
   "id": "eea1681b",
   "metadata": {},
   "source": [
    "### Average length of Repositories:"
   ]
  },
  {
   "cell_type": "code",
   "execution_count": 3,
   "id": "dab5a018",
   "metadata": {},
   "outputs": [
    {
     "data": {
      "image/png": "[encoded data removed]",
      "text/plain": [
       "<Figure size 1296x864 with 1 Axes>"
      ]
     },
     "metadata": {
      "needs_background": "light"
     },
     "output_type": "display_data"
    }
   ],
   "source": [
    "plt.figure(figsize=(18, 12))\n",
    "sns.barplot(data = master_df.groupby('language').mean().reset_index().sort_values('length_of_readme', ascending=False), x = 'length_of_readme', y='language')\n",
    "plt.title('Average Readme length by Language')\n",
    "plt.show()"
   ]
  },
  {
   "cell_type": "markdown",
   "id": "2ccf8c58",
   "metadata": {},
   "source": [
    "_____________________________________"
   ]
  },
  {
   "cell_type": "markdown",
   "id": "edaf1ccb",
   "metadata": {},
   "source": [
    "### TOP 10 COMMON LANGUAGES USED IN FULL CORPUS:"
   ]
  },
  {
   "cell_type": "code",
   "execution_count": 4,
   "id": "6c1e4fa1",
   "metadata": {},
   "outputs": [
    {
     "data": {
      "text/html": [
       "<div>\n",
       "<style scoped>\n",
       "    .dataframe tbody tr th:only-of-type {\n",
       "        vertical-align: middle;\n",
       "    }\n",
       "\n",
       "    .dataframe tbody tr th {\n",
       "        vertical-align: top;\n",
       "    }\n",
       "\n",
       "    .dataframe thead th {\n",
       "        text-align: right;\n",
       "    }\n",
       "</style>\n",
       "<table border=\"1\" class=\"dataframe\">\n",
       "  <thead>\n",
       "    <tr style=\"text-align: right;\">\n",
       "      <th></th>\n",
       "      <th>language</th>\n",
       "      <th>language</th>\n",
       "    </tr>\n",
       "  </thead>\n",
       "  <tbody>\n",
       "    <tr>\n",
       "      <th>Shell</th>\n",
       "      <td>1598</td>\n",
       "      <td>0.569697</td>\n",
       "    </tr>\n",
       "    <tr>\n",
       "      <th>Python</th>\n",
       "      <td>289</td>\n",
       "      <td>0.103030</td>\n",
       "    </tr>\n",
       "    <tr>\n",
       "      <th>C</th>\n",
       "      <td>141</td>\n",
       "      <td>0.050267</td>\n",
       "    </tr>\n",
       "    <tr>\n",
       "      <th>Dockerfile</th>\n",
       "      <td>99</td>\n",
       "      <td>0.035294</td>\n",
       "    </tr>\n",
       "    <tr>\n",
       "      <th>C++</th>\n",
       "      <td>63</td>\n",
       "      <td>0.022460</td>\n",
       "    </tr>\n",
       "    <tr>\n",
       "      <th>HTML</th>\n",
       "      <td>59</td>\n",
       "      <td>0.021034</td>\n",
       "    </tr>\n",
       "    <tr>\n",
       "      <th>JavaScript</th>\n",
       "      <td>53</td>\n",
       "      <td>0.018895</td>\n",
       "    </tr>\n",
       "    <tr>\n",
       "      <th>Makefile</th>\n",
       "      <td>52</td>\n",
       "      <td>0.018538</td>\n",
       "    </tr>\n",
       "    <tr>\n",
       "      <th>CSS</th>\n",
       "      <td>48</td>\n",
       "      <td>0.017112</td>\n",
       "    </tr>\n",
       "    <tr>\n",
       "      <th>Ruby</th>\n",
       "      <td>48</td>\n",
       "      <td>0.017112</td>\n",
       "    </tr>\n",
       "  </tbody>\n",
       "</table>\n",
       "</div>"
      ],
      "text/plain": [
       "            language  language\n",
       "Shell           1598  0.569697\n",
       "Python           289  0.103030\n",
       "C                141  0.050267\n",
       "Dockerfile        99  0.035294\n",
       "C++               63  0.022460\n",
       "HTML              59  0.021034\n",
       "JavaScript        53  0.018895\n",
       "Makefile          52  0.018538\n",
       "CSS               48  0.017112\n",
       "Ruby              48  0.017112"
      ]
     },
     "execution_count": 4,
     "metadata": {},
     "output_type": "execute_result"
    }
   ],
   "source": [
    "master_language_count=pd.concat([master_df.language.value_counts(), master_df.language.value_counts(normalize=True)], axis = 1). head(10)\n",
    "master_language_count"
   ]
  },
  {
   "cell_type": "code",
   "execution_count": 5,
   "id": "925fa193",
   "metadata": {},
   "outputs": [],
   "source": [
    "m_count = master_df.language.value_counts(normalize=True).head(10)"
   ]
  },
  {
   "cell_type": "code",
   "execution_count": 6,
   "id": "baa6728a",
   "metadata": {},
   "outputs": [],
   "source": [
    "#creating a df of the percentages to prep for charts:\n",
    "temp = pd.DataFrame({'language' : m_count.index, 'percentage': m_count.values})"
   ]
  },
  {
   "cell_type": "code",
   "execution_count": 7,
   "id": "46112077",
   "metadata": {},
   "outputs": [
    {
     "data": {
      "text/plain": [
       "Text(0.5, 1.0, 'Percentages of the Top 10 Linux Repo languages')"
      ]
     },
     "execution_count": 7,
     "metadata": {},
     "output_type": "execute_result"
    },
    {
     "data": {
      "image/png": "[encoded data removed]",
      "text/plain": [
       "<Figure size 720x576 with 1 Axes>"
      ]
     },
     "metadata": {
      "needs_background": "light"
     },
     "output_type": "display_data"
    }
   ],
   "source": [
    "#plotting out the percentages of the Top 10 languages used in Ubuntu repos:\n",
    "plt.figure(figsize=(10,8))\n",
    "sns.barplot(data=temp, x = 'language', y = 'percentage')\n",
    "plt.title('Percentages of the Top 10 Linux Repo languages')"
   ]
  },
  {
   "cell_type": "markdown",
   "id": "3fb9c4fd",
   "metadata": {},
   "source": [
    "### Top Words & Bigrams found in Shell:"
   ]
  },
  {
   "cell_type": "code",
   "execution_count": 8,
   "id": "33a4ce53",
   "metadata": {},
   "outputs": [],
   "source": [
    "shell_words = master_df[master_df.language == 'Shell'].clean_readme\n",
    "shell_freq = pd.Series(shell_words.str.split()).value_counts()"
   ]
  },
  {
   "cell_type": "code",
   "execution_count": 9,
   "id": "cafe441c",
   "metadata": {},
   "outputs": [
    {
     "data": {
      "text/plain": [
       "arch        95\n",
       "ubuntu      65\n",
       "debian      50\n",
       "applic      32\n",
       "dotfil      27\n",
       "instal      26\n",
       "script      22\n",
       "p           20\n",
       "build       20\n",
       "pkgbuild    18\n",
       "dtype: int64"
      ]
     },
     "execution_count": 9,
     "metadata": {},
     "output_type": "execute_result"
    }
   ],
   "source": [
    "shell_list = pd.Series((i[0] for i in shell_words))\n",
    "shell_list.value_counts().nlargest(10)"
   ]
  },
  {
   "cell_type": "code",
   "execution_count": 10,
   "id": "216ba751",
   "metadata": {},
   "outputs": [
    {
     "data": {
      "text/plain": [
       "count     1598\n",
       "unique     861\n",
       "top       arch\n",
       "freq        95\n",
       "dtype: object"
      ]
     },
     "execution_count": 10,
     "metadata": {},
     "output_type": "execute_result"
    }
   ],
   "source": [
    "#taking a look at Shell words:\n",
    "shell_list.describe()"
   ]
  },
  {
   "cell_type": "markdown",
   "id": "87163416",
   "metadata": {},
   "source": [
    "#### Top Bigrams found in Shell:"
   ]
  },
  {
   "cell_type": "code",
   "execution_count": 11,
   "id": "d6d5c3f4",
   "metadata": {},
   "outputs": [],
   "source": [
    "#top bigrams of Shell language in Linux repos:\n",
    "top_20_shell_bigrams = (pd.Series(nltk.ngrams(shell_list, 2))\n",
    "                      .value_counts()\n",
    "                      .head(20))"
   ]
  },
  {
   "cell_type": "code",
   "execution_count": 12,
   "id": "8d44c4a9",
   "metadata": {},
   "outputs": [
    {
     "data": {
      "text/plain": [
       "(arch, arch)              15\n",
       "(dotfil, arch)            10\n",
       "(debian, debian)           7\n",
       "(applic, applic)           6\n",
       "(ubuntu, ubuntu)           6\n",
       "(arch, pkgbuild)           5\n",
       "(script, applic)           4\n",
       "(alignc, arch)             4\n",
       "(p, ubuntu)                4\n",
       "(arch, link)               4\n",
       "(arch, applic)             4\n",
       "(pkgbuild, dotfil)         3\n",
       "(packer, ubuntu)           3\n",
       "(ubuntu, packer)           3\n",
       "(ubuntu, termuxubuntu)     3\n",
       "(arch, linux)              3\n",
       "(archbootstrap, luke)      2\n",
       "(arch, vdr4arch)           2\n",
       "(arch, archfi)             2\n",
       "(archtitu, arch)           2\n",
       "dtype: int64"
      ]
     },
     "execution_count": 12,
     "metadata": {},
     "output_type": "execute_result"
    }
   ],
   "source": [
    "top_20_shell_bigrams"
   ]
  },
  {
   "cell_type": "code",
   "execution_count": 13,
   "id": "46f46723",
   "metadata": {},
   "outputs": [
    {
     "data": {
      "image/png": "[encoded data removed]",
      "text/plain": [
       "<Figure size 720x432 with 1 Axes>"
      ]
     },
     "metadata": {
      "needs_background": "light"
     },
     "output_type": "display_data"
    }
   ],
   "source": [
    "top_20_shell_bigrams.sort_values().plot.barh(color='#1E8FBF', width=.9, figsize=(10, 6))\n",
    "\n",
    "plt.title('20 Most frequently occuring Shell bigrams')\n",
    "plt.ylabel('Bigram')\n",
    "plt.xlabel('# Occurances')\n",
    "\n",
    "# make the labels pretty\n",
    "ticks, _ = plt.yticks()\n",
    "labels = top_20_shell_bigrams.reset_index().sort_index(ascending=False)['index'].apply(lambda t: t[0] + ' ' + t[1])\n",
    "_ = plt.yticks(ticks, labels)\n"
   ]
  },
  {
   "cell_type": "markdown",
   "id": "2dadbee4",
   "metadata": {},
   "source": [
    "### Top Words & Bigrams found in Python:"
   ]
  },
  {
   "cell_type": "code",
   "execution_count": 14,
   "id": "1cf0076d",
   "metadata": {},
   "outputs": [],
   "source": [
    "python_words = master_df[master_df.language == 'Python'].clean_readme\n",
    "python_freq = pd.Series(python_words.str.split()).value_counts()"
   ]
  },
  {
   "cell_type": "code",
   "execution_count": 15,
   "id": "b206b9d9",
   "metadata": {},
   "outputs": [
    {
     "data": {
      "text/plain": [
       "15      [ubuntu, tweak, introduct, ubuntu, tweak, tool...\n",
       "51      [consoleconf, ubuntu, server, instal, snappi, ...\n",
       "70      [ubuntu, postinst, script, python, script, avo...\n",
       "79      [openstack, ubuntu, 1210, ubuntu, 1210ubuntu, ...\n",
       "81      [formerli, known, ucustom, advanc, live, cd, c...\n",
       "                              ...                        \n",
       "3203    [helper, script, creat, arch, linux, iso, supp...\n",
       "3209    [pynej, multi, arch, python, frontend, focu, l...\n",
       "3257    [simpl, declar, packag, manag, arch, linux, li...\n",
       "3262    [need, equiti, otherwi, sellbuy, gener, reduce...\n",
       "3293    [need, use, rapidli, expand, linux, world, man...\n",
       "Name: clean_readme, Length: 289, dtype: object"
      ]
     },
     "execution_count": 15,
     "metadata": {},
     "output_type": "execute_result"
    }
   ],
   "source": [
    "#looking at where index starts?\n",
    "python_words"
   ]
  },
  {
   "cell_type": "code",
   "execution_count": 16,
   "id": "4d7cf1b1",
   "metadata": {},
   "outputs": [
    {
     "ename": "IndexError",
     "evalue": "list index out of range",
     "output_type": "error",
     "traceback": [
      "\u001b[0;31m---------------------------------------------------------------------------\u001b[0m",
      "\u001b[0;31mIndexError\u001b[0m                                Traceback (most recent call last)",
      "\u001b[0;32m/var/folders/d3/11nygz6126ndxvtrp12687680000gn/T/ipykernel_14460/2748476111.py\u001b[0m in \u001b[0;36m<module>\u001b[0;34m\u001b[0m\n\u001b[0;32m----> 1\u001b[0;31m \u001b[0mpython_list\u001b[0m \u001b[0;34m=\u001b[0m \u001b[0mpd\u001b[0m\u001b[0;34m.\u001b[0m\u001b[0mSeries\u001b[0m\u001b[0;34m(\u001b[0m\u001b[0;34m(\u001b[0m\u001b[0mi\u001b[0m\u001b[0;34m[\u001b[0m\u001b[0;36m14\u001b[0m\u001b[0;34m]\u001b[0m \u001b[0;32mfor\u001b[0m \u001b[0mi\u001b[0m \u001b[0;32min\u001b[0m \u001b[0mpython_words\u001b[0m\u001b[0;34m)\u001b[0m\u001b[0;34m)\u001b[0m\u001b[0;34m\u001b[0m\u001b[0;34m\u001b[0m\u001b[0m\n\u001b[0m\u001b[1;32m      2\u001b[0m \u001b[0mpython_list\u001b[0m\u001b[0;34m.\u001b[0m\u001b[0mvalue_counts\u001b[0m\u001b[0;34m(\u001b[0m\u001b[0;34m)\u001b[0m\u001b[0;34m.\u001b[0m\u001b[0mnlargest\u001b[0m\u001b[0;34m(\u001b[0m\u001b[0;36m10\u001b[0m\u001b[0;34m)\u001b[0m\u001b[0;34m\u001b[0m\u001b[0;34m\u001b[0m\u001b[0m\n",
      "\u001b[0;32m/usr/local/anaconda3/lib/python3.9/site-packages/pandas/core/series.py\u001b[0m in \u001b[0;36m__init__\u001b[0;34m(self, data, index, dtype, name, copy, fastpath)\u001b[0m\n\u001b[1;32m    421\u001b[0m                 \u001b[0;32mpass\u001b[0m\u001b[0;34m\u001b[0m\u001b[0;34m\u001b[0m\u001b[0m\n\u001b[1;32m    422\u001b[0m             \u001b[0;32melse\u001b[0m\u001b[0;34m:\u001b[0m\u001b[0;34m\u001b[0m\u001b[0;34m\u001b[0m\u001b[0m\n\u001b[0;32m--> 423\u001b[0;31m                 \u001b[0mdata\u001b[0m \u001b[0;34m=\u001b[0m \u001b[0mcom\u001b[0m\u001b[0;34m.\u001b[0m\u001b[0mmaybe_iterable_to_list\u001b[0m\u001b[0;34m(\u001b[0m\u001b[0mdata\u001b[0m\u001b[0;34m)\u001b[0m\u001b[0;34m\u001b[0m\u001b[0;34m\u001b[0m\u001b[0m\n\u001b[0m\u001b[1;32m    424\u001b[0m \u001b[0;34m\u001b[0m\u001b[0m\n\u001b[1;32m    425\u001b[0m             \u001b[0;32mif\u001b[0m \u001b[0mindex\u001b[0m \u001b[0;32mis\u001b[0m \u001b[0;32mNone\u001b[0m\u001b[0;34m:\u001b[0m\u001b[0;34m\u001b[0m\u001b[0;34m\u001b[0m\u001b[0m\n",
      "\u001b[0;32m/usr/local/anaconda3/lib/python3.9/site-packages/pandas/core/common.py\u001b[0m in \u001b[0;36mmaybe_iterable_to_list\u001b[0;34m(obj)\u001b[0m\n\u001b[1;32m    290\u001b[0m     \"\"\"\n\u001b[1;32m    291\u001b[0m     \u001b[0;32mif\u001b[0m \u001b[0misinstance\u001b[0m\u001b[0;34m(\u001b[0m\u001b[0mobj\u001b[0m\u001b[0;34m,\u001b[0m \u001b[0mabc\u001b[0m\u001b[0;34m.\u001b[0m\u001b[0mIterable\u001b[0m\u001b[0;34m)\u001b[0m \u001b[0;32mand\u001b[0m \u001b[0;32mnot\u001b[0m \u001b[0misinstance\u001b[0m\u001b[0;34m(\u001b[0m\u001b[0mobj\u001b[0m\u001b[0;34m,\u001b[0m \u001b[0mabc\u001b[0m\u001b[0;34m.\u001b[0m\u001b[0mSized\u001b[0m\u001b[0;34m)\u001b[0m\u001b[0;34m:\u001b[0m\u001b[0;34m\u001b[0m\u001b[0;34m\u001b[0m\u001b[0m\n\u001b[0;32m--> 292\u001b[0;31m         \u001b[0;32mreturn\u001b[0m \u001b[0mlist\u001b[0m\u001b[0;34m(\u001b[0m\u001b[0mobj\u001b[0m\u001b[0;34m)\u001b[0m\u001b[0;34m\u001b[0m\u001b[0;34m\u001b[0m\u001b[0m\n\u001b[0m\u001b[1;32m    293\u001b[0m     \u001b[0mobj\u001b[0m \u001b[0;34m=\u001b[0m \u001b[0mcast\u001b[0m\u001b[0;34m(\u001b[0m\u001b[0mCollection\u001b[0m\u001b[0;34m,\u001b[0m \u001b[0mobj\u001b[0m\u001b[0;34m)\u001b[0m\u001b[0;34m\u001b[0m\u001b[0;34m\u001b[0m\u001b[0m\n\u001b[1;32m    294\u001b[0m     \u001b[0;32mreturn\u001b[0m \u001b[0mobj\u001b[0m\u001b[0;34m\u001b[0m\u001b[0;34m\u001b[0m\u001b[0m\n",
      "\u001b[0;32m/var/folders/d3/11nygz6126ndxvtrp12687680000gn/T/ipykernel_14460/2748476111.py\u001b[0m in \u001b[0;36m<genexpr>\u001b[0;34m(.0)\u001b[0m\n\u001b[0;32m----> 1\u001b[0;31m \u001b[0mpython_list\u001b[0m \u001b[0;34m=\u001b[0m \u001b[0mpd\u001b[0m\u001b[0;34m.\u001b[0m\u001b[0mSeries\u001b[0m\u001b[0;34m(\u001b[0m\u001b[0;34m(\u001b[0m\u001b[0mi\u001b[0m\u001b[0;34m[\u001b[0m\u001b[0;36m14\u001b[0m\u001b[0;34m]\u001b[0m \u001b[0;32mfor\u001b[0m \u001b[0mi\u001b[0m \u001b[0;32min\u001b[0m \u001b[0mpython_words\u001b[0m\u001b[0;34m)\u001b[0m\u001b[0;34m)\u001b[0m\u001b[0;34m\u001b[0m\u001b[0;34m\u001b[0m\u001b[0m\n\u001b[0m\u001b[1;32m      2\u001b[0m \u001b[0mpython_list\u001b[0m\u001b[0;34m.\u001b[0m\u001b[0mvalue_counts\u001b[0m\u001b[0;34m(\u001b[0m\u001b[0;34m)\u001b[0m\u001b[0;34m.\u001b[0m\u001b[0mnlargest\u001b[0m\u001b[0;34m(\u001b[0m\u001b[0;36m10\u001b[0m\u001b[0;34m)\u001b[0m\u001b[0;34m\u001b[0m\u001b[0;34m\u001b[0m\u001b[0m\n",
      "\u001b[0;31mIndexError\u001b[0m: list index out of range"
     ]
    }
   ],
   "source": [
    "python_list = pd.Series((i[14] for i in python_words))\n",
    "python_list.value_counts().nlargest(10)"
   ]
  },
  {
   "cell_type": "markdown",
   "id": "55d6b095",
   "metadata": {},
   "source": [
    "### Top Words and Bigrams found in C:"
   ]
  },
  {
   "cell_type": "code",
   "execution_count": 17,
   "id": "5370af6a",
   "metadata": {},
   "outputs": [],
   "source": [
    "#taking all 'C' lanugage repos from the clean_readme \n",
    "C_words = master_df[master_df.language == 'C'].clean_readme\n",
    "#finding the frequency of C words/grams\n",
    "C_freq = pd.Series(C_words.str.split()).value_counts()"
   ]
  },
  {
   "cell_type": "code",
   "execution_count": 19,
   "id": "85893656",
   "metadata": {},
   "outputs": [
    {
     "data": {
      "text/plain": [
       "linux      16\n",
       "ubuntu      5\n",
       "deepin      4\n",
       "alpm        4\n",
       "readm       3\n",
       "build       3\n",
       "noah        2\n",
       "dpkg        2\n",
       "obsolet     2\n",
       "w3m         2\n",
       "dtype: int64"
      ]
     },
     "execution_count": 19,
     "metadata": {},
     "output_type": "execute_result"
    }
   ],
   "source": [
    "#creating a series for just unique C_words\n",
    "C_list = pd.Series((i[0] for i in C_words))\n",
    "C_list.value_counts().nlargest(10)"
   ]
  },
  {
   "cell_type": "code",
   "execution_count": 20,
   "id": "dc6ac399",
   "metadata": {},
   "outputs": [
    {
     "data": {
      "text/plain": [
       "count       141\n",
       "unique      105\n",
       "top       linux\n",
       "freq         16\n",
       "dtype: object"
      ]
     },
     "execution_count": 20,
     "metadata": {},
     "output_type": "execute_result"
    }
   ],
   "source": [
    "#taking a look at C_words\n",
    "C_list.describe()"
   ]
  },
  {
   "cell_type": "markdown",
   "id": "689cf6d4",
   "metadata": {},
   "source": [
    "#### Looking at Top 20 Bigrams of C language in repos:"
   ]
  },
  {
   "cell_type": "code",
   "execution_count": 21,
   "id": "26a64616",
   "metadata": {},
   "outputs": [],
   "source": [
    "#top bigrams of C language in Linux repos:\n",
    "top_20_c_bigrams = (pd.Series(nltk.ngrams(C_list, 2))\n",
    "                      .value_counts()\n",
    "                      .head(20))"
   ]
  },
  {
   "cell_type": "code",
   "execution_count": 22,
   "id": "c6f1da93",
   "metadata": {},
   "outputs": [
    {
     "data": {
      "text/plain": [
       "(deepin, noah)                     2\n",
       "(run, linux)                       2\n",
       "(16github, obsolet)                2\n",
       "(w3m, linux)                       2\n",
       "(linux, w3m)                       2\n",
       "(linux, 16github)                  2\n",
       "(noah, ubuntu)                     2\n",
       "(deepin, run)                      2\n",
       "(ubuntu, cve20213493)              2\n",
       "(set, openblock)                   1\n",
       "(thcbtcrngbruteforc, repo)         1\n",
       "(mupdf, set)                       1\n",
       "(internet, mupdf)                  1\n",
       "(well, internet)                   1\n",
       "(debian, well)                     1\n",
       "(readm, debian)                    1\n",
       "(opennhrp, readm)                  1\n",
       "(repo, opennhrp)                   1\n",
       "(file, zynqlinux)                  1\n",
       "(zynqlinux, thcbtcrngbruteforc)    1\n",
       "dtype: int64"
      ]
     },
     "execution_count": 22,
     "metadata": {},
     "output_type": "execute_result"
    }
   ],
   "source": [
    "top_20_c_bigrams"
   ]
  },
  {
   "cell_type": "code",
   "execution_count": 23,
   "id": "6d5947ba",
   "metadata": {},
   "outputs": [
    {
     "data": {
      "image/png": "[encoded data removed]",
      "text/plain": [
       "<Figure size 720x432 with 1 Axes>"
      ]
     },
     "metadata": {
      "needs_background": "light"
     },
     "output_type": "display_data"
    }
   ],
   "source": [
    "top_20_c_bigrams.sort_values().plot.barh(color='#143995', width=.9, figsize=(10, 6))\n",
    "\n",
    "plt.title('20 Most frequently occuring C bigrams')\n",
    "plt.ylabel('Bigram')\n",
    "plt.xlabel('# Occurances')\n",
    "\n",
    "# make the labels pretty\n",
    "ticks, _ = plt.yticks()\n",
    "labels = top_20_c_bigrams.reset_index().sort_index(ascending=False)['index'].apply(lambda t: t[0] + ' ' + t[1])\n",
    "_ = plt.yticks(ticks, labels)\n"
   ]
  },
  {
   "cell_type": "markdown",
   "id": "66c6fe6b",
   "metadata": {},
   "source": [
    "### Overall Takeaways:"
   ]
  },
  {
   "cell_type": "code",
   "execution_count": null,
   "id": "3512d9d9",
   "metadata": {},
   "outputs": [],
   "source": []
  },
  {
   "cell_type": "markdown",
   "id": "99e0782b",
   "metadata": {},
   "source": [
    "_______________________________________"
   ]
  },
  {
   "cell_type": "markdown",
   "id": "9d3622fd",
   "metadata": {},
   "source": [
    "## What words are not associated with a language?"
   ]
  },
  {
   "cell_type": "code",
   "execution_count": 37,
   "id": "d3916481",
   "metadata": {},
   "outputs": [
    {
     "data": {
      "text/plain": [
       "count                                                  2805\n",
       "unique                                                 2427\n",
       "top       [openvpninst, test, visitor, say, thank, openv...\n",
       "freq                                                      6\n",
       "Name: clean_readme, dtype: object"
      ]
     },
     "execution_count": 37,
     "metadata": {},
     "output_type": "execute_result"
    }
   ],
   "source": [
    "master_df.clean_readme.describe()"
   ]
  },
  {
   "cell_type": "code",
   "execution_count": 43,
   "id": "185723f9",
   "metadata": {},
   "outputs": [
    {
     "data": {
      "text/plain": [
       "Shell         1598\n",
       "other          403\n",
       "Python         289\n",
       "C              141\n",
       "Dockerfile      99\n",
       "C++             63\n",
       "HTML            59\n",
       "JavaScript      53\n",
       "Makefile        52\n",
       "Ruby            48\n",
       "Name: language, dtype: int64"
      ]
     },
     "execution_count": 43,
     "metadata": {},
     "output_type": "execute_result"
    }
   ],
   "source": [
    "#creating an 'other' list for languages to help find any words not associated with a language and the count of this:\n",
    "keep_languages = master_df.language.value_counts().nlargest(10).index.tolist()\n",
    "master_df.loc[~(master_df.language.isin(keep_languages)), 'language'] = 'other'\n",
    "\n",
    "master_df.language.value_counts()"
   ]
  },
  {
   "cell_type": "code",
   "execution_count": 44,
   "id": "32992d89",
   "metadata": {},
   "outputs": [],
   "source": [
    "languages = master_df.language.unique().tolist()\n",
    "languages = ['all'] + languages"
   ]
  },
  {
   "cell_type": "code",
   "execution_count": 45,
   "id": "a5832038",
   "metadata": {},
   "outputs": [
    {
     "name": "stdout",
     "output_type": "stream",
     "text": [
      "['all', 'Shell', 'C', 'HTML', 'Ruby', 'C++', 'other', 'Python', 'Dockerfile', 'Makefile', 'JavaScript']\n"
     ]
    }
   ],
   "source": [
    "print(languages)"
   ]
  },
  {
   "cell_type": "code",
   "execution_count": null,
   "id": "bf5175ba",
   "metadata": {},
   "outputs": [],
   "source": [
    "#I don't think that the clean_data is working? (see below)"
   ]
  },
  {
   "cell_type": "code",
   "execution_count": 55,
   "id": "caf464bc",
   "metadata": {},
   "outputs": [
    {
     "ename": "TypeError",
     "evalue": "sequence item 0: expected str instance, list found",
     "output_type": "error",
     "traceback": [
      "\u001b[0;31m---------------------------------------------------------------------------\u001b[0m",
      "\u001b[0;31mTypeError\u001b[0m                                 Traceback (most recent call last)",
      "\u001b[0;32m/var/folders/d3/11nygz6126ndxvtrp12687680000gn/T/ipykernel_14460/4245674312.py\u001b[0m in \u001b[0;36m<module>\u001b[0;34m\u001b[0m\n\u001b[1;32m      2\u001b[0m \u001b[0mcorpora\u001b[0m\u001b[0;34m.\u001b[0m\u001b[0mappend\u001b[0m\u001b[0;34m(\u001b[0m\u001b[0;34m{\u001b[0m\u001b[0;34m'language'\u001b[0m\u001b[0;34m:\u001b[0m\u001b[0;34m'all'\u001b[0m\u001b[0;34m,\u001b[0m \u001b[0;34m'corpus'\u001b[0m\u001b[0;34m:\u001b[0m\u001b[0mlinux_corpus_list\u001b[0m\u001b[0;34m}\u001b[0m\u001b[0;34m)\u001b[0m\u001b[0;34m\u001b[0m\u001b[0;34m\u001b[0m\u001b[0m\n\u001b[1;32m      3\u001b[0m \u001b[0;32mfor\u001b[0m \u001b[0mlang\u001b[0m \u001b[0;32min\u001b[0m \u001b[0mlanguages\u001b[0m\u001b[0;34m[\u001b[0m\u001b[0;36m1\u001b[0m\u001b[0;34m:\u001b[0m\u001b[0;34m]\u001b[0m\u001b[0;34m:\u001b[0m\u001b[0;34m\u001b[0m\u001b[0;34m\u001b[0m\u001b[0m\n\u001b[0;32m----> 4\u001b[0;31m     \u001b[0mcorpora\u001b[0m\u001b[0;34m.\u001b[0m\u001b[0mappend\u001b[0m\u001b[0;34m(\u001b[0m\u001b[0;34m{\u001b[0m\u001b[0;34m'language'\u001b[0m\u001b[0;34m:\u001b[0m\u001b[0mlang\u001b[0m\u001b[0;34m,\u001b[0m \u001b[0;34m'corpus'\u001b[0m\u001b[0;34m:\u001b[0m \u001b[0;34m' '\u001b[0m\u001b[0;34m.\u001b[0m\u001b[0mjoin\u001b[0m\u001b[0;34m(\u001b[0m\u001b[0mmaster_df\u001b[0m\u001b[0;34m[\u001b[0m\u001b[0mmaster_df\u001b[0m\u001b[0;34m.\u001b[0m\u001b[0mlanguage\u001b[0m \u001b[0;34m==\u001b[0m \u001b[0mlang\u001b[0m\u001b[0;34m]\u001b[0m\u001b[0;34m.\u001b[0m\u001b[0mreadme_contents\u001b[0m\u001b[0;34m.\u001b[0m\u001b[0mapply\u001b[0m\u001b[0;34m(\u001b[0m\u001b[0mc\u001b[0m\u001b[0;34m.\u001b[0m\u001b[0mclean_data\u001b[0m\u001b[0;34m)\u001b[0m\u001b[0;34m)\u001b[0m\u001b[0;34m}\u001b[0m\u001b[0;34m)\u001b[0m\u001b[0;34m\u001b[0m\u001b[0;34m\u001b[0m\u001b[0m\n\u001b[0m",
      "\u001b[0;31mTypeError\u001b[0m: sequence item 0: expected str instance, list found"
     ]
    }
   ],
   "source": [
    "corpora = []\n",
    "corpora.append({'language':'all', 'corpus':linux_corpus_list})\n",
    "for lang in languages[1:]:\n",
    "    corpora.append({'language':lang, 'corpus': ' '.join(master_df[master_df.language == lang].readme_contents.apply(c.clean_data))})"
   ]
  },
  {
   "cell_type": "code",
   "execution_count": 47,
   "id": "53e14aa2",
   "metadata": {},
   "outputs": [
    {
     "data": {
      "text/html": [
       "<div>\n",
       "<style scoped>\n",
       "    .dataframe tbody tr th:only-of-type {\n",
       "        vertical-align: middle;\n",
       "    }\n",
       "\n",
       "    .dataframe tbody tr th {\n",
       "        vertical-align: top;\n",
       "    }\n",
       "\n",
       "    .dataframe thead th {\n",
       "        text-align: right;\n",
       "    }\n",
       "</style>\n",
       "<table border=\"1\" class=\"dataframe\">\n",
       "  <thead>\n",
       "    <tr style=\"text-align: right;\">\n",
       "      <th></th>\n",
       "      <th>language</th>\n",
       "      <th>corpus</th>\n",
       "    </tr>\n",
       "  </thead>\n",
       "  <tbody>\n",
       "    <tr>\n",
       "      <th>0</th>\n",
       "      <td>all</td>\n",
       "      <td>[ubuntu, dockerfil, repositori, contain, docke...</td>\n",
       "    </tr>\n",
       "    <tr>\n",
       "      <th>1</th>\n",
       "      <td>Shell</td>\n",
       "      <td>[ubuntu, dockerfil, repositori, contain, docke...</td>\n",
       "    </tr>\n",
       "    <tr>\n",
       "      <th>2</th>\n",
       "      <td>C</td>\n",
       "      <td>[deepin, wine, ubuntu, debian, deepinwin, ubun...</td>\n",
       "    </tr>\n",
       "    <tr>\n",
       "      <th>3</th>\n",
       "      <td>HTML</td>\n",
       "      <td>[dockerubuntuvncdesktop, docker, pull, docker,...</td>\n",
       "    </tr>\n",
       "    <tr>\n",
       "      <th>4</th>\n",
       "      <td>Ruby</td>\n",
       "      <td>[deprec, cookbook, deprec, instead, use, apt_r...</td>\n",
       "    </tr>\n",
       "    <tr>\n",
       "      <th>5</th>\n",
       "      <td>C++</td>\n",
       "      <td>[lightweight, vm, manag, linux, window, maco, ...</td>\n",
       "    </tr>\n",
       "    <tr>\n",
       "      <th>6</th>\n",
       "      <td>other</td>\n",
       "      <td>[ubuntu, 1804, ci, stig, build, statu, ansibl,...</td>\n",
       "    </tr>\n",
       "    <tr>\n",
       "      <th>7</th>\n",
       "      <td>Python</td>\n",
       "      <td>[ubuntu, tweak, introduct, ubuntu, tweak, tool...</td>\n",
       "    </tr>\n",
       "    <tr>\n",
       "      <th>8</th>\n",
       "      <td>Dockerfile</td>\n",
       "      <td>[use, quick, start, run, follow, get, start, e...</td>\n",
       "    </tr>\n",
       "    <tr>\n",
       "      <th>9</th>\n",
       "      <td>Makefile</td>\n",
       "      <td>[circl, ci, dockerfil, build, ubuntu1604, base...</td>\n",
       "    </tr>\n",
       "    <tr>\n",
       "      <th>10</th>\n",
       "      <td>JavaScript</td>\n",
       "      <td>[web, simul, ubuntuo, person, portfolio, websi...</td>\n",
       "    </tr>\n",
       "  </tbody>\n",
       "</table>\n",
       "</div>"
      ],
      "text/plain": [
       "      language                                             corpus\n",
       "0          all  [ubuntu, dockerfil, repositori, contain, docke...\n",
       "1        Shell  [ubuntu, dockerfil, repositori, contain, docke...\n",
       "2            C  [deepin, wine, ubuntu, debian, deepinwin, ubun...\n",
       "3         HTML  [dockerubuntuvncdesktop, docker, pull, docker,...\n",
       "4         Ruby  [deprec, cookbook, deprec, instead, use, apt_r...\n",
       "5          C++  [lightweight, vm, manag, linux, window, maco, ...\n",
       "6        other  [ubuntu, 1804, ci, stig, build, statu, ansibl,...\n",
       "7       Python  [ubuntu, tweak, introduct, ubuntu, tweak, tool...\n",
       "8   Dockerfile  [use, quick, start, run, follow, get, start, e...\n",
       "9     Makefile  [circl, ci, dockerfil, build, ubuntu1604, base...\n",
       "10  JavaScript  [web, simul, ubuntuo, person, portfolio, websi..."
      ]
     },
     "execution_count": 47,
     "metadata": {},
     "output_type": "execute_result"
    }
   ],
   "source": [
    "#creating corpora of these languages:\n",
    "df_corpora = pd.DataFrame(corpora)\n",
    "df_corpora"
   ]
  },
  {
   "cell_type": "code",
   "execution_count": 48,
   "id": "a8bba41c",
   "metadata": {},
   "outputs": [],
   "source": [
    "#now putting these into a series to then turn into a dataframe:\n",
    "corpora_series = []\n",
    "for corpus in corpora:\n",
    "    corpora_series.append(pd.Series(corpus['corpus']).value_counts())\n",
    "    \n",
    "word_counts = pd.concat(corpora_series, axis = 1)\n",
    "word_counts = word_counts.set_axis(languages, axis =1).fillna(0).apply(lambda s: s.astype(int))"
   ]
  },
  {
   "cell_type": "code",
   "execution_count": 50,
   "id": "96722025",
   "metadata": {},
   "outputs": [
    {
     "data": {
      "text/html": [
       "<div>\n",
       "<style scoped>\n",
       "    .dataframe tbody tr th:only-of-type {\n",
       "        vertical-align: middle;\n",
       "    }\n",
       "\n",
       "    .dataframe tbody tr th {\n",
       "        vertical-align: top;\n",
       "    }\n",
       "\n",
       "    .dataframe thead th {\n",
       "        text-align: right;\n",
       "    }\n",
       "</style>\n",
       "<table border=\"1\" class=\"dataframe\">\n",
       "  <thead>\n",
       "    <tr style=\"text-align: right;\">\n",
       "      <th></th>\n",
       "      <th>all</th>\n",
       "      <th>Shell</th>\n",
       "      <th>C</th>\n",
       "      <th>HTML</th>\n",
       "      <th>Ruby</th>\n",
       "      <th>C++</th>\n",
       "      <th>other</th>\n",
       "      <th>Python</th>\n",
       "      <th>Dockerfile</th>\n",
       "      <th>Makefile</th>\n",
       "      <th>JavaScript</th>\n",
       "    </tr>\n",
       "  </thead>\n",
       "  <tbody>\n",
       "    <tr>\n",
       "      <th>instal</th>\n",
       "      <td>15559</td>\n",
       "      <td>9719</td>\n",
       "      <td>650</td>\n",
       "      <td>321</td>\n",
       "      <td>234</td>\n",
       "      <td>319</td>\n",
       "      <td>1856</td>\n",
       "      <td>1771</td>\n",
       "      <td>155</td>\n",
       "      <td>229</td>\n",
       "      <td>304</td>\n",
       "    </tr>\n",
       "    <tr>\n",
       "      <th>use</th>\n",
       "      <td>13566</td>\n",
       "      <td>6848</td>\n",
       "      <td>1243</td>\n",
       "      <td>296</td>\n",
       "      <td>183</td>\n",
       "      <td>301</td>\n",
       "      <td>1954</td>\n",
       "      <td>1733</td>\n",
       "      <td>576</td>\n",
       "      <td>204</td>\n",
       "      <td>228</td>\n",
       "    </tr>\n",
       "    <tr>\n",
       "      <th>file</th>\n",
       "      <td>8417</td>\n",
       "      <td>4137</td>\n",
       "      <td>716</td>\n",
       "      <td>292</td>\n",
       "      <td>109</td>\n",
       "      <td>234</td>\n",
       "      <td>1168</td>\n",
       "      <td>1211</td>\n",
       "      <td>185</td>\n",
       "      <td>155</td>\n",
       "      <td>210</td>\n",
       "    </tr>\n",
       "    <tr>\n",
       "      <th>run</th>\n",
       "      <td>7918</td>\n",
       "      <td>4516</td>\n",
       "      <td>414</td>\n",
       "      <td>252</td>\n",
       "      <td>115</td>\n",
       "      <td>176</td>\n",
       "      <td>914</td>\n",
       "      <td>802</td>\n",
       "      <td>450</td>\n",
       "      <td>124</td>\n",
       "      <td>155</td>\n",
       "    </tr>\n",
       "    <tr>\n",
       "      <th>packag</th>\n",
       "      <td>7234</td>\n",
       "      <td>3564</td>\n",
       "      <td>433</td>\n",
       "      <td>71</td>\n",
       "      <td>130</td>\n",
       "      <td>105</td>\n",
       "      <td>1039</td>\n",
       "      <td>1388</td>\n",
       "      <td>67</td>\n",
       "      <td>219</td>\n",
       "      <td>218</td>\n",
       "    </tr>\n",
       "    <tr>\n",
       "      <th>...</th>\n",
       "      <td>...</td>\n",
       "      <td>...</td>\n",
       "      <td>...</td>\n",
       "      <td>...</td>\n",
       "      <td>...</td>\n",
       "      <td>...</td>\n",
       "      <td>...</td>\n",
       "      <td>...</td>\n",
       "      <td>...</td>\n",
       "      <td>...</td>\n",
       "      <td>...</td>\n",
       "    </tr>\n",
       "    <tr>\n",
       "      <th>0u</th>\n",
       "      <td>1</td>\n",
       "      <td>1</td>\n",
       "      <td>0</td>\n",
       "      <td>0</td>\n",
       "      <td>0</td>\n",
       "      <td>0</td>\n",
       "      <td>0</td>\n",
       "      <td>0</td>\n",
       "      <td>0</td>\n",
       "      <td>0</td>\n",
       "      <td>0</td>\n",
       "    </tr>\n",
       "    <tr>\n",
       "      <th>ciscoipsecvpninst</th>\n",
       "      <td>0</td>\n",
       "      <td>1</td>\n",
       "      <td>0</td>\n",
       "      <td>0</td>\n",
       "      <td>0</td>\n",
       "      <td>0</td>\n",
       "      <td>0</td>\n",
       "      <td>0</td>\n",
       "      <td>0</td>\n",
       "      <td>0</td>\n",
       "      <td>0</td>\n",
       "    </tr>\n",
       "    <tr>\n",
       "      <th>devwithdockeronubuntu</th>\n",
       "      <td>0</td>\n",
       "      <td>1</td>\n",
       "      <td>0</td>\n",
       "      <td>0</td>\n",
       "      <td>0</td>\n",
       "      <td>0</td>\n",
       "      <td>0</td>\n",
       "      <td>0</td>\n",
       "      <td>0</td>\n",
       "      <td>0</td>\n",
       "      <td>0</td>\n",
       "    </tr>\n",
       "    <tr>\n",
       "      <th>pythonpacman</th>\n",
       "      <td>0</td>\n",
       "      <td>0</td>\n",
       "      <td>0</td>\n",
       "      <td>0</td>\n",
       "      <td>0</td>\n",
       "      <td>0</td>\n",
       "      <td>0</td>\n",
       "      <td>1</td>\n",
       "      <td>0</td>\n",
       "      <td>0</td>\n",
       "      <td>0</td>\n",
       "    </tr>\n",
       "    <tr>\n",
       "      <th>archlinuxondesktop</th>\n",
       "      <td>0</td>\n",
       "      <td>0</td>\n",
       "      <td>0</td>\n",
       "      <td>0</td>\n",
       "      <td>0</td>\n",
       "      <td>0</td>\n",
       "      <td>0</td>\n",
       "      <td>1</td>\n",
       "      <td>0</td>\n",
       "      <td>0</td>\n",
       "      <td>0</td>\n",
       "    </tr>\n",
       "  </tbody>\n",
       "</table>\n",
       "<p>85835 rows × 11 columns</p>\n",
       "</div>"
      ],
      "text/plain": [
       "                         all  Shell     C  HTML  Ruby  C++  other  Python  \\\n",
       "instal                 15559   9719   650   321   234  319   1856    1771   \n",
       "use                    13566   6848  1243   296   183  301   1954    1733   \n",
       "file                    8417   4137   716   292   109  234   1168    1211   \n",
       "run                     7918   4516   414   252   115  176    914     802   \n",
       "packag                  7234   3564   433    71   130  105   1039    1388   \n",
       "...                      ...    ...   ...   ...   ...  ...    ...     ...   \n",
       "0u                         1      1     0     0     0    0      0       0   \n",
       "ciscoipsecvpninst          0      1     0     0     0    0      0       0   \n",
       "devwithdockeronubuntu      0      1     0     0     0    0      0       0   \n",
       "pythonpacman               0      0     0     0     0    0      0       1   \n",
       "archlinuxondesktop         0      0     0     0     0    0      0       1   \n",
       "\n",
       "                       Dockerfile  Makefile  JavaScript  \n",
       "instal                        155       229         304  \n",
       "use                           576       204         228  \n",
       "file                          185       155         210  \n",
       "run                           450       124         155  \n",
       "packag                         67       219         218  \n",
       "...                           ...       ...         ...  \n",
       "0u                              0         0           0  \n",
       "ciscoipsecvpninst               0         0           0  \n",
       "devwithdockeronubuntu           0         0           0  \n",
       "pythonpacman                    0         0           0  \n",
       "archlinuxondesktop              0         0           0  \n",
       "\n",
       "[85835 rows x 11 columns]"
      ]
     },
     "execution_count": 50,
     "metadata": {},
     "output_type": "execute_result"
    }
   ],
   "source": [
    "word_counts"
   ]
  },
  {
   "cell_type": "code",
   "execution_count": 39,
   "id": "8470913f",
   "metadata": {},
   "outputs": [
    {
     "data": {
      "text/plain": [
       "instal      15559\n",
       "use         13566\n",
       "file         8417\n",
       "run          7918\n",
       "packag       7234\n",
       "sudo         6455\n",
       "script       5839\n",
       "build        5256\n",
       "configur     5071\n",
       "linux        5006\n",
       "set          4957\n",
       "system       4517\n",
       "default      4484\n",
       "imag         4393\n",
       "ubuntu       4384\n",
       "version      4148\n",
       "make         4079\n",
       "kernel       3730\n",
       "option       3682\n",
       "need         3676\n",
       "dtype: int64"
      ]
     },
     "execution_count": 39,
     "metadata": {},
     "output_type": "execute_result"
    }
   ],
   "source": [
    "linux_corpus_list = c.clean_data(linux_corpus)\n",
    "pd.Series(linux_corpus_list).value_counts().nlargest(20)"
   ]
  },
  {
   "cell_type": "markdown",
   "id": "728bbdf8",
   "metadata": {},
   "source": [
    "#next steps:\n",
    "\n",
    "-Explore by flavors of:\n",
    "    \n",
    "-Hypothesis/questions:\n",
    "    \n",
    "-Results/takeaways\n",
    "\n",
    "-modeling\n",
    "\n",
    "-results/takeaways\n",
    "\n"
   ]
  },
  {
   "cell_type": "code",
   "execution_count": null,
   "id": "505b5c73",
   "metadata": {},
   "outputs": [],
   "source": []
  }
 ],
 "metadata": {
  "kernelspec": {
   "display_name": "Python 3 (ipykernel)",
   "language": "python",
   "name": "python3"
  },
  "language_info": {
   "codemirror_mode": {
    "name": "ipython",
    "version": 3
   },
   "file_extension": ".py",
   "mimetype": "text/x-python",
   "name": "python",
   "nbconvert_exporter": "python",
   "pygments_lexer": "ipython3",
   "version": "3.9.7"
  }
 },
 "nbformat": 4,
 "nbformat_minor": 5
}

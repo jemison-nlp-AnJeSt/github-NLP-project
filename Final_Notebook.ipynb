{
 "cells": [
  {
   "cell_type": "markdown",
   "id": "c80ce190",
   "metadata": {},
   "source": [
    "# Linux NLP - SUDO GET LANGUAGE COUNT"
   ]
  },
  {
   "cell_type": "markdown",
   "id": "b7488ead",
   "metadata": {},
   "source": [
    "### PREDICTING PROGRAMMING LANGUAGE WITHIN LINUX README REPOS"
   ]
  },
  {
   "cell_type": "markdown",
   "id": "b45c148b",
   "metadata": {},
   "source": [
    "by Andrew Rachuig, Stephen Fitzsimon and Jennifer Eyring"
   ]
  },
  {
   "cell_type": "markdown",
   "id": "49ba4040",
   "metadata": {},
   "source": [
    "_______________________________"
   ]
  },
  {
   "cell_type": "markdown",
   "id": "c34174c8",
   "metadata": {},
   "source": [
    "<b>Introduction Notes:</b> This NLP project is based on utilizing webscraping methods to create a predictive Logistical Regression Model on. \n",
    "<br>\n",
    "<br>\n",
    "Our team scraped the top 3,300 most-forked Linux Github repositories (as of July 20, 2022) to determine what are the top programming languages being used on Github projects.\n",
    "<br>\n",
    "<br>\n",
    "After finding the top languages being used for each Github repo, we then took the words/wording within the README sections of the repos to see if we could build a model that could predict what programming language was used; solely based on the README content.\n",
    "<br>\n",
    "<br>\n",
    "### <b>Audience Notes about the Data:</b> \n",
    "The source of our data came from webscraping the top-forked Linux Github repositiories, by searching Linux and then also pulling the content of Linux's three common flavors: Arch, Debian and Ubuntu. You can read more of the step-by-step of how to replicate this repo in the README section.\n"
   ]
  },
  {
   "cell_type": "markdown",
   "id": "6b60f7b0",
   "metadata": {},
   "source": [
    "__________________"
   ]
  },
  {
   "cell_type": "markdown",
   "id": "dea587cd",
   "metadata": {},
   "source": [
    "## Initial Questions when starting this project:"
   ]
  },
  {
   "cell_type": "markdown",
   "id": "477ae07a",
   "metadata": {},
   "source": [
    "> - How many unique words are there to each specific programming language?<br><br>\n",
    "> - Are there any bigrams/trigrams that are specific to certain programming languages?<br><br>\n",
    "> - Are there differences in words/phrases to Linux-flavors- specifically Ubuntu, Debian and Archlinux.<br><br>\n",
    "> - Do certain programming languages have larger README sections than others? And if so, which ones?<br><br>\n",
    "> - With Linux-flavors-Debian, Arch and Ubuntu-are there differences in README lengths? (ie does one flavor over the others seem to have more details needed or explained than others?)"
   ]
  },
  {
   "cell_type": "markdown",
   "id": "9125b9ba",
   "metadata": {},
   "source": [
    "__________________________"
   ]
  },
  {
   "cell_type": "markdown",
   "id": "d27a1dce",
   "metadata": {},
   "source": [
    "## Project Goals:"
   ]
  },
  {
   "cell_type": "markdown",
   "id": "691c5c77",
   "metadata": {},
   "source": [
    "> - Utilize Codeup's webscraping function and apply it to our project's parameters of obtaining the top-forked Linux repositories.<br><br>\n",
    "> - To determine any commonalities/differences between programming languages and the README sections of the repositories.<br><br>\n",
    "> - Create a classification model that can predict what programming language is used, solely based on the README content/words."
   ]
  },
  {
   "cell_type": "markdown",
   "id": "73f35daf",
   "metadata": {},
   "source": [
    "## Executive Summary:"
   ]
  },
  {
   "cell_type": "code",
   "execution_count": null,
   "id": "0e510a11",
   "metadata": {},
   "outputs": [],
   "source": []
  },
  {
   "cell_type": "code",
   "execution_count": null,
   "id": "e59b0bcf",
   "metadata": {},
   "outputs": [],
   "source": []
  },
  {
   "cell_type": "markdown",
   "id": "019da0b4",
   "metadata": {},
   "source": [
    "___________________________________________"
   ]
  },
  {
   "cell_type": "markdown",
   "id": "0b2a6a97",
   "metadata": {},
   "source": [
    "## Wrangle Process:"
   ]
  },
  {
   "cell_type": "markdown",
   "id": "fdeee94e",
   "metadata": {},
   "source": [
    "#### Measures taken to clean and normalize the data:"
   ]
  },
  {
   "cell_type": "markdown",
   "id": "58e702f4",
   "metadata": {},
   "source": [
    "> 1) We dropped all nulls as these related to repos that had no languages defined.<br><br>\n",
    "> 2) Using NLTK tools, we replaced any abnormal symbols and https-related phrases with single spaces on the readme_contents column.<br><br>\n",
    "> 3) We tokenized the dataset on this same column.<br><br>\n",
    "> 4) After cleaning/normalizing, we had used the proportions of most common words throughout the repos across every programming language to determine which words need to be removed as they took away from the information the corpus was provided on predictability.<br><br>\n",
    "> 5) We lowered all capitilizations within the readme content.<br><br>\n",
    "> 6) And finally we stemmed all words so keep key words/phrases similar."
   ]
  },
  {
   "cell_type": "markdown",
   "id": "26b6dba0",
   "metadata": {},
   "source": [
    "______________________"
   ]
  },
  {
   "cell_type": "markdown",
   "id": "f1fe9868",
   "metadata": {},
   "source": [
    "## Exploring the main dataset:"
   ]
  },
  {
   "cell_type": "markdown",
   "id": "80ae101a",
   "metadata": {},
   "source": [
    "#### Calling in the data:"
   ]
  },
  {
   "cell_type": "code",
   "execution_count": 1,
   "id": "d20823d0",
   "metadata": {},
   "outputs": [],
   "source": [
    "#imports:\n",
    "\n",
    "#tools for web scraping:\n",
    "from requests import get\n",
    "from bs4 import BeautifulSoup\n",
    "import os\n",
    "import pandas as pd\n",
    "\n",
    "#group imports\n",
    "import env\n",
    "import acquire\n",
    "import constants_prepare\n",
    "\n",
    "import json\n",
    "from typing import Dict, List, Optional, Union, cast\n",
    "import requests\n",
    "\n",
    "#visualizations:\n",
    "import matplotlib.pyplot as plt\n",
    "import seaborn as sns"
   ]
  },
  {
   "cell_type": "code",
   "execution_count": 4,
   "id": "4b7ece61",
   "metadata": {},
   "outputs": [
    {
     "data": {
      "text/html": [
       "<div>\n",
       "<style scoped>\n",
       "    .dataframe tbody tr th:only-of-type {\n",
       "        vertical-align: middle;\n",
       "    }\n",
       "\n",
       "    .dataframe tbody tr th {\n",
       "        vertical-align: top;\n",
       "    }\n",
       "\n",
       "    .dataframe thead th {\n",
       "        text-align: right;\n",
       "    }\n",
       "</style>\n",
       "<table border=\"1\" class=\"dataframe\">\n",
       "  <thead>\n",
       "    <tr style=\"text-align: right;\">\n",
       "      <th></th>\n",
       "      <th>repo</th>\n",
       "      <th>language</th>\n",
       "      <th>readme_contents</th>\n",
       "      <th>distro</th>\n",
       "      <th>clean_readme</th>\n",
       "      <th>length_of_readme</th>\n",
       "    </tr>\n",
       "  </thead>\n",
       "  <tbody>\n",
       "    <tr>\n",
       "      <th>0</th>\n",
       "      <td>dockerfile/ubuntu</td>\n",
       "      <td>Shell</td>\n",
       "      <td>## Ubuntu Dockerfile\\n\\n\\nThis repository cont...</td>\n",
       "      <td>ubuntu</td>\n",
       "      <td>[ubuntu, dockerfil, repositori, contain, docke...</td>\n",
       "      <td>31</td>\n",
       "    </tr>\n",
       "    <tr>\n",
       "      <th>1</th>\n",
       "      <td>boxcutter/ubuntu</td>\n",
       "      <td>Shell</td>\n",
       "      <td># Packer templates for Ubuntu written in legac...</td>\n",
       "      <td>ubuntu</td>\n",
       "      <td>[packer, templat, ubuntu, written, legaci, jso...</td>\n",
       "      <td>501</td>\n",
       "    </tr>\n",
       "    <tr>\n",
       "      <th>2</th>\n",
       "      <td>wszqkzqk/deepin-wine-ubuntu</td>\n",
       "      <td>C</td>\n",
       "      <td># Deepin wine for Ubuntu and Debian\\n\\n## 一、项目...</td>\n",
       "      <td>ubuntu</td>\n",
       "      <td>[deepin, wine, ubuntu, debian, deepinwin, ubun...</td>\n",
       "      <td>164</td>\n",
       "    </tr>\n",
       "    <tr>\n",
       "      <th>3</th>\n",
       "      <td>fcwu/docker-ubuntu-vnc-desktop</td>\n",
       "      <td>HTML</td>\n",
       "      <td># docker-ubuntu-vnc-desktop\\n\\n[![Docker Pulls...</td>\n",
       "      <td>ubuntu</td>\n",
       "      <td>[dockerubuntuvncdesktop, docker, pull, docker,...</td>\n",
       "      <td>386</td>\n",
       "    </tr>\n",
       "    <tr>\n",
       "      <th>4</th>\n",
       "      <td>docker-32bit/ubuntu</td>\n",
       "      <td>Shell</td>\n",
       "      <td>ubuntu\\n======\\n\\nBuild a docker image for ubu...</td>\n",
       "      <td>ubuntu</td>\n",
       "      <td>[ubuntu, build, docker, imag, ubuntu, i386, ru...</td>\n",
       "      <td>14</td>\n",
       "    </tr>\n",
       "  </tbody>\n",
       "</table>\n",
       "</div>"
      ],
      "text/plain": [
       "                             repo language  \\\n",
       "0               dockerfile/ubuntu    Shell   \n",
       "1                boxcutter/ubuntu    Shell   \n",
       "2     wszqkzqk/deepin-wine-ubuntu        C   \n",
       "3  fcwu/docker-ubuntu-vnc-desktop     HTML   \n",
       "4             docker-32bit/ubuntu    Shell   \n",
       "\n",
       "                                     readme_contents  distro  \\\n",
       "0  ## Ubuntu Dockerfile\\n\\n\\nThis repository cont...  ubuntu   \n",
       "1  # Packer templates for Ubuntu written in legac...  ubuntu   \n",
       "2  # Deepin wine for Ubuntu and Debian\\n\\n## 一、项目...  ubuntu   \n",
       "3  # docker-ubuntu-vnc-desktop\\n\\n[![Docker Pulls...  ubuntu   \n",
       "4  ubuntu\\n======\\n\\nBuild a docker image for ubu...  ubuntu   \n",
       "\n",
       "                                        clean_readme  length_of_readme  \n",
       "0  [ubuntu, dockerfil, repositori, contain, docke...                31  \n",
       "1  [packer, templat, ubuntu, written, legaci, jso...               501  \n",
       "2  [deepin, wine, ubuntu, debian, deepinwin, ubun...               164  \n",
       "3  [dockerubuntuvncdesktop, docker, pull, docker,...               386  \n",
       "4  [ubuntu, build, docker, imag, ubuntu, i386, ru...                14  "
      ]
     },
     "execution_count": 4,
     "metadata": {},
     "output_type": "execute_result"
    }
   ],
   "source": [
    "#calling in master_df:\n",
    "master_df = pd.read_csv('master_list.csv')\n",
    "\n",
    "master_df = constants_prepare.drop_nulls(master_df)\n",
    "\n",
    "master_df = constants_prepare.adding_columns(master_df)\n",
    "master_df.head()"
   ]
  },
  {
   "cell_type": "code",
   "execution_count": null,
   "id": "99f9c919",
   "metadata": {},
   "outputs": [],
   "source": []
  }
 ],
 "metadata": {
  "kernelspec": {
   "display_name": "Python 3 (ipykernel)",
   "language": "python",
   "name": "python3"
  },
  "language_info": {
   "codemirror_mode": {
    "name": "ipython",
    "version": 3
   },
   "file_extension": ".py",
   "mimetype": "text/x-python",
   "name": "python",
   "nbconvert_exporter": "python",
   "pygments_lexer": "ipython3",
   "version": "3.9.7"
  }
 },
 "nbformat": 4,
 "nbformat_minor": 5
}

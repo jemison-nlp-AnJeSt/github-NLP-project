{
 "cells": [
  {
   "cell_type": "code",
   "execution_count": 46,
   "id": "bd5a636b",
   "metadata": {},
   "outputs": [],
   "source": [
    "#import tools for web scraping:\n",
    "from requests import get\n",
    "from bs4 import BeautifulSoup\n",
    "import os\n",
    "import pandas as pd\n",
    "\n",
    "#group imports\n",
    "import env\n",
    "import acquire\n",
    "import os\n",
    "import json\n",
    "from typing import Dict, List, Optional, Union, cast\n",
    "import requests"
   ]
  },
  {
   "cell_type": "code",
   "execution_count": 12,
   "id": "09d9f5ca",
   "metadata": {},
   "outputs": [],
   "source": [
    "url = \"https://github.com/search?o=desc&q=archlinux&s=forks&type=Repositories\"\n",
    "headers = {\"Authorization\": f\"token {env.github_token}\", \"User-Agent\": env.github_username}\n",
    "response = get(url, headers=headers)"
   ]
  },
  {
   "cell_type": "code",
   "execution_count": 13,
   "id": "bb6808ab",
   "metadata": {},
   "outputs": [],
   "source": [
    "soup = BeautifulSoup(response.content, 'html.parser')"
   ]
  },
  {
   "cell_type": "code",
   "execution_count": 18,
   "id": "36976d0f",
   "metadata": {},
   "outputs": [
    {
     "data": {
      "text/plain": [
       "'helmuthdu/aui'"
      ]
     },
     "execution_count": 18,
     "metadata": {},
     "output_type": "execute_result"
    }
   ],
   "source": [
    "# see also `soup.find_all`\n",
    "#\n",
    "# beautiful soup uses `class_` as the keyword argument for searching\n",
    "# for a class because `class` is a reserved word in python\n",
    "# we'll use the class name that we identified from looking in the inspector in chrome\n",
    "link = soup.find('a', class_='v-align-middle')\n",
    "link.text"
   ]
  },
  {
   "cell_type": "markdown",
   "id": "2f5a9a59",
   "metadata": {},
   "source": [
    "#### Need to make these a list:"
   ]
  },
  {
   "cell_type": "code",
   "execution_count": null,
   "id": "a19ae5d5",
   "metadata": {},
   "outputs": [],
   "source": [
    "#putting it altogether:\n",
    "url = '\"https://github.com/search?o=desc&q=archlinux&s=forks&type=Repositories'\n",
    "headers = {\"Authorization\": f\"token {env.github_token}\", \"User-Agent\": env.github_username}\n",
    "response = get(url, headers=headers)\n",
    "\n",
    "soup = BeautifulSoup(response.content, 'html.parser')\n",
    "\n",
    "links = [a['class'] for a in soup.find('a[class]')]\n",
    "\n",
    "articles = []\n",
    "\n",
    "for url in links:\n",
    "    \n",
    "    url_response = get(url, headers=headers)\n",
    "    soup = BeautifulSoup(url_response.text)\n",
    "    \n",
    "    title = soup.find('h1', class_='entry-title').text.strip()\n",
    "    content = soup.find('div', class_='entry-content').text.strip().replace('\\n', ' ')\n",
    "    \n",
    "    article_dict = {\n",
    "        'title': title,\n",
    "        'content': content,\n",
    "    }\n",
    "    \n",
    "    articles.append(article_dict)"
   ]
  },
  {
   "cell_type": "code",
   "execution_count": 42,
   "id": "f7b1e4de",
   "metadata": {},
   "outputs": [
    {
     "name": "stdout",
     "output_type": "stream",
     "text": [
      "page0\n",
      "page1\n",
      "page2\n",
      "page3\n",
      "page4\n",
      "page5\n",
      "page6\n",
      "page7\n",
      "page8\n",
      "page9\n",
      "page10\n",
      "page11\n"
     ]
    }
   ],
   "source": [
    "#pulling 1100 repos from Ubuntu \n",
    "def github_api_query(page):\n",
    "    url = f\"https://api.github.com/search/repositories?q=ubuntu&s=forks&page={page}&per_page=100\"\n",
    "    response = requests.get(url, headers=headers)\n",
    "    return response.json()\n",
    "\n",
    "\n",
    "urls = []\n",
    "c = 0\n",
    "while True:\n",
    "    print(f\"page{c}\")\n",
    "    try:\n",
    "        req = github_api_query(page=c)\n",
    "        for item in req['items']:\n",
    "            urls.append(item['html_url'])\n",
    "        c += 1\n",
    "    except:\n",
    "        break"
   ]
  },
  {
   "cell_type": "code",
   "execution_count": 52,
   "id": "734a2aa4",
   "metadata": {},
   "outputs": [],
   "source": [
    "u_links= pd.Series(urls)"
   ]
  },
  {
   "cell_type": "code",
   "execution_count": 53,
   "id": "51512c39",
   "metadata": {},
   "outputs": [],
   "source": [
    "links = {'links':u_links }"
   ]
  },
  {
   "cell_type": "code",
   "execution_count": 54,
   "id": "2785c864",
   "metadata": {},
   "outputs": [],
   "source": [
    "ubuntu = pd.DataFrame(links)"
   ]
  },
  {
   "cell_type": "code",
   "execution_count": 51,
   "id": "9d7552dd",
   "metadata": {},
   "outputs": [
    {
     "data": {
      "text/html": [
       "<div>\n",
       "<style scoped>\n",
       "    .dataframe tbody tr th:only-of-type {\n",
       "        vertical-align: middle;\n",
       "    }\n",
       "\n",
       "    .dataframe tbody tr th {\n",
       "        vertical-align: top;\n",
       "    }\n",
       "\n",
       "    .dataframe thead th {\n",
       "        text-align: right;\n",
       "    }\n",
       "</style>\n",
       "<table border=\"1\" class=\"dataframe\">\n",
       "  <thead>\n",
       "    <tr style=\"text-align: right;\">\n",
       "      <th></th>\n",
       "      <th>links</th>\n",
       "    </tr>\n",
       "  </thead>\n",
       "  <tbody>\n",
       "    <tr>\n",
       "      <th>0</th>\n",
       "      <td>https://github.com/dockerfile/ubuntu</td>\n",
       "    </tr>\n",
       "    <tr>\n",
       "      <th>1</th>\n",
       "      <td>https://github.com/boxcutter/ubuntu</td>\n",
       "    </tr>\n",
       "    <tr>\n",
       "      <th>2</th>\n",
       "      <td>https://github.com/wszqkzqk/deepin-wine-ubuntu</td>\n",
       "    </tr>\n",
       "    <tr>\n",
       "      <th>3</th>\n",
       "      <td>https://github.com/fcwu/docker-ubuntu-vnc-desktop</td>\n",
       "    </tr>\n",
       "    <tr>\n",
       "      <th>4</th>\n",
       "      <td>https://github.com/docker-32bit/ubuntu</td>\n",
       "    </tr>\n",
       "    <tr>\n",
       "      <th>...</th>\n",
       "      <td>...</td>\n",
       "    </tr>\n",
       "    <tr>\n",
       "      <th>1095</th>\n",
       "      <td>https://github.com/kurniawandata/nasihosting</td>\n",
       "    </tr>\n",
       "    <tr>\n",
       "      <th>1096</th>\n",
       "      <td>https://github.com/hortonworks/docker-protractor</td>\n",
       "    </tr>\n",
       "    <tr>\n",
       "      <th>1097</th>\n",
       "      <td>https://github.com/mastermindg/trac-docker-ubuntu</td>\n",
       "    </tr>\n",
       "    <tr>\n",
       "      <th>1098</th>\n",
       "      <td>https://github.com/rubiojr/surface3-kernel</td>\n",
       "    </tr>\n",
       "    <tr>\n",
       "      <th>1099</th>\n",
       "      <td>https://github.com/sh0rez/vSphere-terraform_ub...</td>\n",
       "    </tr>\n",
       "  </tbody>\n",
       "</table>\n",
       "<p>1100 rows × 1 columns</p>\n",
       "</div>"
      ],
      "text/plain": [
       "                                                  links\n",
       "0                  https://github.com/dockerfile/ubuntu\n",
       "1                   https://github.com/boxcutter/ubuntu\n",
       "2        https://github.com/wszqkzqk/deepin-wine-ubuntu\n",
       "3     https://github.com/fcwu/docker-ubuntu-vnc-desktop\n",
       "4                https://github.com/docker-32bit/ubuntu\n",
       "...                                                 ...\n",
       "1095       https://github.com/kurniawandata/nasihosting\n",
       "1096   https://github.com/hortonworks/docker-protractor\n",
       "1097  https://github.com/mastermindg/trac-docker-ubuntu\n",
       "1098         https://github.com/rubiojr/surface3-kernel\n",
       "1099  https://github.com/sh0rez/vSphere-terraform_ub...\n",
       "\n",
       "[1100 rows x 1 columns]"
      ]
     },
     "execution_count": 51,
     "metadata": {},
     "output_type": "execute_result"
    }
   ],
   "source": [
    "ubuntu"
   ]
  },
  {
   "cell_type": "code",
   "execution_count": 56,
   "id": "1a31dc59",
   "metadata": {},
   "outputs": [],
   "source": [
    "ubuntu.to_csv('ubuntu_repo_link', index=False)"
   ]
  },
  {
   "cell_type": "code",
   "execution_count": null,
   "id": "a6939cff",
   "metadata": {},
   "outputs": [],
   "source": []
  }
 ],
 "metadata": {
  "kernelspec": {
   "display_name": "Python 3 (ipykernel)",
   "language": "python",
   "name": "python3"
  },
  "language_info": {
   "codemirror_mode": {
    "name": "ipython",
    "version": 3
   },
   "file_extension": ".py",
   "mimetype": "text/x-python",
   "name": "python",
   "nbconvert_exporter": "python",
   "pygments_lexer": "ipython3",
   "version": "3.9.7"
  }
 },
 "nbformat": 4,
 "nbformat_minor": 5
}

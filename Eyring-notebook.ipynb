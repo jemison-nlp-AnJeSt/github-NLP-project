{
 "cells": [
  {
   "cell_type": "code",
   "execution_count": 1,
   "id": "bd5a636b",
   "metadata": {},
   "outputs": [],
   "source": [
    "#import tools for web scraping:\n",
    "from requests import get\n",
    "from bs4 import BeautifulSoup\n",
    "import os\n",
    "import pandas as pd\n",
    "\n",
    "#group imports\n",
    "import env\n",
    "import acquire\n",
    "import constants_prepare\n",
    "\n",
    "import json\n",
    "from typing import Dict, List, Optional, Union, cast\n",
    "import requests\n",
    "\n",
    "#visualizations:\n",
    "import matplotlib.pyplot as plt\n",
    "import seaborn as sns"
   ]
  },
  {
   "cell_type": "markdown",
   "id": "323307b2",
   "metadata": {},
   "source": [
    "_____________________________________________________________________________"
   ]
  },
  {
   "cell_type": "markdown",
   "id": "1ed23733",
   "metadata": {},
   "source": [
    "## Exploring Ubuntu:"
   ]
  },
  {
   "cell_type": "code",
   "execution_count": 2,
   "id": "cf4d7e34",
   "metadata": {},
   "outputs": [],
   "source": [
    "ubuntu = pd.read_json('ubuntu_data.json')"
   ]
  },
  {
   "cell_type": "code",
   "execution_count": 3,
   "id": "72ee9e9f",
   "metadata": {},
   "outputs": [
    {
     "data": {
      "text/html": [
       "<div>\n",
       "<style scoped>\n",
       "    .dataframe tbody tr th:only-of-type {\n",
       "        vertical-align: middle;\n",
       "    }\n",
       "\n",
       "    .dataframe tbody tr th {\n",
       "        vertical-align: top;\n",
       "    }\n",
       "\n",
       "    .dataframe thead th {\n",
       "        text-align: right;\n",
       "    }\n",
       "</style>\n",
       "<table border=\"1\" class=\"dataframe\">\n",
       "  <thead>\n",
       "    <tr style=\"text-align: right;\">\n",
       "      <th></th>\n",
       "      <th>repo</th>\n",
       "      <th>language</th>\n",
       "      <th>readme_contents</th>\n",
       "    </tr>\n",
       "  </thead>\n",
       "  <tbody>\n",
       "    <tr>\n",
       "      <th>0</th>\n",
       "      <td>dockerfile/ubuntu</td>\n",
       "      <td>Shell</td>\n",
       "      <td>## Ubuntu Dockerfile\\n\\n\\nThis repository cont...</td>\n",
       "    </tr>\n",
       "    <tr>\n",
       "      <th>1</th>\n",
       "      <td>boxcutter/ubuntu</td>\n",
       "      <td>Shell</td>\n",
       "      <td># Packer templates for Ubuntu written in legac...</td>\n",
       "    </tr>\n",
       "    <tr>\n",
       "      <th>2</th>\n",
       "      <td>wszqkzqk/deepin-wine-ubuntu</td>\n",
       "      <td>C</td>\n",
       "      <td># Deepin wine for Ubuntu and Debian\\n\\n## 一、项目...</td>\n",
       "    </tr>\n",
       "    <tr>\n",
       "      <th>3</th>\n",
       "      <td>fcwu/docker-ubuntu-vnc-desktop</td>\n",
       "      <td>HTML</td>\n",
       "      <td># docker-ubuntu-vnc-desktop\\n\\n[![Docker Pulls...</td>\n",
       "    </tr>\n",
       "    <tr>\n",
       "      <th>4</th>\n",
       "      <td>docker-32bit/ubuntu</td>\n",
       "      <td>Shell</td>\n",
       "      <td>ubuntu\\n======\\n\\nBuild a docker image for ubu...</td>\n",
       "    </tr>\n",
       "  </tbody>\n",
       "</table>\n",
       "</div>"
      ],
      "text/plain": [
       "                             repo language  \\\n",
       "0               dockerfile/ubuntu    Shell   \n",
       "1                boxcutter/ubuntu    Shell   \n",
       "2     wszqkzqk/deepin-wine-ubuntu        C   \n",
       "3  fcwu/docker-ubuntu-vnc-desktop     HTML   \n",
       "4             docker-32bit/ubuntu    Shell   \n",
       "\n",
       "                                     readme_contents  \n",
       "0  ## Ubuntu Dockerfile\\n\\n\\nThis repository cont...  \n",
       "1  # Packer templates for Ubuntu written in legac...  \n",
       "2  # Deepin wine for Ubuntu and Debian\\n\\n## 一、项目...  \n",
       "3  # docker-ubuntu-vnc-desktop\\n\\n[![Docker Pulls...  \n",
       "4  ubuntu\\n======\\n\\nBuild a docker image for ubu...  "
      ]
     },
     "execution_count": 3,
     "metadata": {},
     "output_type": "execute_result"
    }
   ],
   "source": [
    "ubuntu.head()"
   ]
  },
  {
   "cell_type": "markdown",
   "id": "179a890a",
   "metadata": {},
   "source": [
    "#### Normalizing the data:"
   ]
  },
  {
   "cell_type": "code",
   "execution_count": 4,
   "id": "227211bc",
   "metadata": {},
   "outputs": [],
   "source": [
    "import unicodedata\n",
    "import re\n",
    "\n",
    "import nltk\n",
    "from nltk.tokenize.toktok import ToktokTokenizer\n",
    "from nltk.corpus import stopwords"
   ]
  },
  {
   "cell_type": "code",
   "execution_count": 5,
   "id": "12a1779b",
   "metadata": {},
   "outputs": [
    {
     "data": {
      "text/plain": [
       "Ubuntu 18.04 CIS STIG\n",
       "================\n",
       "\n",
       "[![Build Status](https://travis-ci.com/florianutz/Ubuntu1804-CIS.svg?branch=master)](https://travis-ci.com/florianutz/Ubuntu1804-CIS)\n",
       "[![Ansible Role](https://img.shields.io/badge/role-florianutz.Ubuntu1804--CIS-blue.svg)](https://galaxy.ansible.com/florianutz/Ubuntu1804-CIS/)\n",
       "\n",
       "Configure Ubuntu 18.04 machine to be CIS compliant. Level 1 and 2 findings will be corrected by default.\n",
       "\n",
       "This role **will make changes to the system** that could break things. This is not an auditing tool but rather a remediation tool to be used after an audit has been conducted.\n",
       "\n",
       "## IMPORTANT INSTALL STEP\n",
       "\n",
       "If you want to install this via the `ansible-galaxy` command you'll need to run it like this:\n",
       "\n",
       "`ansible-galaxy install -p roles -r requirements.yml`\n",
       "\n",
       "With this in the file requirements.yml:\n",
       "\n",
       "```\n",
       "- src: https://github.com/florianutz/Ubuntu1804-CIS.git\n",
       "```\n",
       "\n",
       "Based on [CIS Ubuntu Benchmark v2.0.1 - 01-03-2020 ](https://www.cisecurity.org/cis-benchmarks/).\n",
       "\n",
       "This repo originated from work done by [MindPointGroup](https://github.com/MindPointGroup/RHEL7-CIS)\n",
       "\n",
       "Requirements\n",
       "------------\n",
       "\n",
       "You should carefully read through the tasks to make sure these changes will not break your systems before running this playbook.\n",
       "\n",
       "Role Variables\n",
       "--------------\n",
       "There are many role variables defined in defaults/main.yml. This list shows the most important.\n",
       "\n",
       "**ubuntu1804cis_notauto**: Run CIS checks that we typically do NOT want to automate due to the high probability of breaking the system (Default: false)\n",
       "\n",
       "**ubuntu1804cis_section1**: CIS - General Settings (Section 1) (Default: true)\n",
       "\n",
       "**ubuntu1804cis_section2**: CIS - Services settings (Section 2) (Default: true)\n",
       "\n",
       "**ubuntu1804cis_section3**: CIS - Network settings (Section 3) (Default: true)\n",
       "\n",
       "**ubuntu1804cis_section4**: CIS - Logging and Auditing settings (Section 4) (Default: true)\n",
       "\n",
       "**ubuntu1804cis_section5**: CIS - Access, Authentication and Authorization settings (Section 5) (Default: true)\n",
       "\n",
       "**ubuntu1804cis_section6**: CIS - System Maintenance settings (Section 6) (Default: true)  \n",
       "\n",
       "##### Disable all selinux functions\n",
       "`ubuntu1804cis_selinux_disable: false`\n",
       "\n",
       "##### Service variables:\n",
       "###### These control whether a server should or should not be allowed to continue to run these services\n",
       "\n",
       "```\n",
       "ubuntu1804cis_avahi_server: false  \n",
       "ubuntu1804cis_cups_server: false  \n",
       "ubuntu1804cis_dhcp_server: false  \n",
       "ubuntu1804cis_ldap_server: false  \n",
       "ubuntu1804cis_telnet_server: false  \n",
       "ubuntu1804cis_nfs_server: false  \n",
       "ubuntu1804cis_rpc_server: false  \n",
       "ubuntu1804cis_ntalk_server: false  \n",
       "ubuntu1804cis_rsyncd_server: false  \n",
       "ubuntu1804cis_tftp_server: false  \n",
       "ubuntu1804cis_rsh_server: false  \n",
       "ubuntu1804cis_nis_server: false  \n",
       "ubuntu1804cis_snmp_server: false  \n",
       "ubuntu1804cis_squid_server: false  \n",
       "ubuntu1804cis_smb_server: false  \n",
       "ubuntu1804cis_dovecot_server: false  \n",
       "ubuntu1804cis_httpd_server: false  \n",
       "ubuntu1804cis_vsftpd_server: false  \n",
       "ubuntu1804cis_named_server: false  \n",
       "ubuntu1804cis_bind: false  \n",
       "ubuntu1804cis_vsftpd: false  \n",
       "ubuntu1804cis_httpd: false  \n",
       "ubuntu1804cis_dovecot: false  \n",
       "ubuntu1804cis_samba: false  \n",
       "ubuntu1804cis_squid: false  \n",
       "ubuntu1804cis_net_snmp: false  \n",
       "```  \n",
       "\n",
       "##### Designate server as a Mail server\n",
       "`ubuntu1804cis_is_mail_server: false`\n",
       "\n",
       "\n",
       "##### System network parameters (host only OR host and router)\n",
       "`ubuntu1804cis_is_router: false`  \n",
       "\n",
       "\n",
       "##### IPv6 required\n",
       "`ubuntu1804cis_ipv6_required: true`  \n",
       "\n",
       "\n",
       "##### AIDE\n",
       "`ubuntu1804cis_config_aide: true`\n",
       "\n",
       "###### AIDE cron settings\n",
       "```\n",
       "ubuntu1804cis_aide_cron:\n",
       "  cron_user: root\n",
       "  cron_file: /etc/crontab\n",
       "  aide_job: '/usr/sbin/aide --check'\n",
       "  aide_minute: 0\n",
       "  aide_hour: 5\n",
       "  aide_day: '*'\n",
       "  aide_month: '*'\n",
       "  aide_weekday: '*'  \n",
       "```\n",
       "\n",
       "\n",
       "##### Set to 'true' if X Windows is needed in your environment\n",
       "`ubuntu1804cis_xwindows_required: no`\n",
       "\n",
       "\n",
       "##### Client application requirements\n",
       "```\n",
       "ubuntu1804cis_openldap_clients_required: false\n",
       "ubuntu1804cis_telnet_required: false\n",
       "ubuntu1804cis_talk_required: false  \n",
       "ubuntu1804cis_rsh_required: false\n",
       "ubuntu1804cis_ypbind_required: false\n",
       "```\n",
       "\n",
       "##### Time Synchronization\n",
       "```\n",
       "ubuntu1804cis_time_synchronization: chrony\n",
       "ubuntu1804cis_time_Synchronization: ntp\n",
       "\n",
       "ubuntu1804cis_time_synchronization_servers:\n",
       "  - uri: \"0.pool.ntp.org\"\n",
       "    config: \"minpoll 8\"\n",
       "  - uri: \"1.pool.ntp.org\"\n",
       "    config: \"minpoll 8\"\n",
       "  - uri: \"2.pool.ntp.org\"\n",
       "    config: \"minpoll 8\"\n",
       "  - uri: \"3.pool.ntp.org\"\n",
       "    config: \"minpoll 8\"\n",
       "\n",
       "```\n",
       "##### - name: \"SCORED | 1.1.5 | PATCH | Ensure noexec option set on /tmp partition\"\n",
       "It is not implemented, noexec for /tmp will disrupt apt. /tmp contains executable scripts during package installation\n",
       "```\n",
       "\n",
       "```  \n",
       "##### 1.5.3 | PATCH | Ensure authentication required for single user mode\n",
       "It is disabled by default as it is setting random password for root. To enable it set:\n",
       "```yaml\n",
       "ubuntu1804cis_rule_1_5_3: true\n",
       "```\n",
       "To use other than random password:\n",
       "```yaml\n",
       "ubuntu1804cis_root_password: 'new password'\n",
       "```\n",
       "\n",
       "##### 3.4.2 | PATCH | Ensure /etc/hosts.allow is configured\n",
       "```\n",
       "ubuntu1804cis_host_allow:\n",
       "  - \"10.0.0.0/255.0.0.0\"  \n",
       "  - \"172.16.0.0/255.240.0.0\"  \n",
       "  - \"192.168.0.0/255.255.0.0\"    \n",
       "```  \n",
       "\n",
       "```\n",
       "ubuntu1804cis_firewall: firewalld\n",
       "ubuntu1804cis_firewall: iptables\n",
       "```\n",
       "\n",
       "##### 5.3.1 | PATCH | Ensure password creation requirements are configured\n",
       "```\n",
       "ubuntu1804cis_pwquality:\n",
       "  - key: 'minlen'\n",
       "    value: '14'\n",
       "  - key: 'dcredit'\n",
       "    value: '-1'\n",
       "  - key: 'ucredit'\n",
       "    value: '-1'\n",
       "  - key: 'ocredit'\n",
       "    value: '-1'\n",
       "  - key: 'lcredit'\n",
       "    value: '-1'\n",
       "```\n",
       "\n",
       "\n",
       "Dependencies\n",
       "------------\n",
       "\n",
       "Ansible &gt;= 2.4 and &lt;= 2.7 (2.8 is not yet supported)\n",
       "\n",
       "Example Playbook\n",
       "-------------------------\n",
       "\n",
       "```\n",
       "- name: Harden Server\n",
       "  hosts: servers\n",
       "  become: yes\n",
       "\n",
       "  roles:\n",
       "    - Ubuntu1804-CIS\n",
       "```\n",
       "\n",
       "To run the tasks in this repository, first create this file one level above the repository\n",
       "(i.e. the playbook .yml and the directory `Ubuntu1804-CIS` should be next to each other),\n",
       "then review the file `defaults/main.yml` and disable any rule/section you do not wish to execute.\n",
       "\n",
       "Assuming you named the file `site.yml`, run it with:\n",
       "```bash\n",
       "ansible-playbook site.yml\n",
       "```\n",
       "\n",
       "Tags\n",
       "----\n",
       "Many tags are available for precise control of what is and is not changed.\n",
       "\n",
       "Some examples of using tags:\n",
       "\n",
       "```\n",
       "    # Audit and patch the site\n",
       "    ansible-playbook site.yml --tags=\"patch\"\n",
       "```\n",
       "\n",
       "License\n",
       "-------\n",
       "\n",
       "MIT"
      ]
     },
     "execution_count": 5,
     "metadata": {},
     "output_type": "execute_result"
    }
   ],
   "source": [
    "#to view just one of the readme docs and see what kind of normalizing is needed:\n",
    "soup = BeautifulSoup(ubuntu.readme_contents.iloc[10], 'html.parser')\n",
    "soup"
   ]
  },
  {
   "cell_type": "code",
   "execution_count": 6,
   "id": "eb5f7b19",
   "metadata": {},
   "outputs": [
    {
     "name": "stdout",
     "output_type": "stream",
     "text": [
      "<class 'pandas.core.frame.DataFrame'>\n",
      "RangeIndex: 1100 entries, 0 to 1099\n",
      "Data columns (total 3 columns):\n",
      " #   Column           Non-Null Count  Dtype \n",
      "---  ------           --------------  ----- \n",
      " 0   repo             1100 non-null   object\n",
      " 1   language         964 non-null    object\n",
      " 2   readme_contents  1100 non-null   object\n",
      "dtypes: object(3)\n",
      "memory usage: 25.9+ KB\n"
     ]
    }
   ],
   "source": [
    "#getting an overall view of the data:\n",
    "ubuntu.info()"
   ]
  },
  {
   "cell_type": "code",
   "execution_count": 7,
   "id": "1b369a15",
   "metadata": {},
   "outputs": [
    {
     "data": {
      "text/plain": [
       "repo                 0\n",
       "language           136\n",
       "readme_contents      0\n",
       "dtype: int64"
      ]
     },
     "execution_count": 7,
     "metadata": {},
     "output_type": "execute_result"
    }
   ],
   "source": [
    "#looking at any nulls:\n",
    "ubuntu.isnull().sum()"
   ]
  },
  {
   "cell_type": "code",
   "execution_count": 8,
   "id": "abc4638a",
   "metadata": {},
   "outputs": [
    {
     "data": {
      "text/plain": [
       "Shell               502\n",
       "Python              105\n",
       "Dockerfile           51\n",
       "C                    44\n",
       "C++                  34\n",
       "HTML                 33\n",
       "Ruby                 27\n",
       "JavaScript           24\n",
       "Jinja                18\n",
       "Go                   12\n",
       "PHP                  12\n",
       "CSS                  11\n",
       "Makefile             11\n",
       "Puppet               10\n",
       "HCL                   9\n",
       "Jupyter Notebook      8\n",
       "Vim script            6\n",
       "Dart                  6\n",
       "PowerShell            4\n",
       "QML                   4\n",
       "Nginx                 3\n",
       "Perl                  3\n",
       "Objective-C           3\n",
       "Scheme                2\n",
       "C#                    2\n",
       "TeX                   2\n",
       "SCSS                  2\n",
       "Haskell               2\n",
       "R                     2\n",
       "M4                    1\n",
       "YAML                  1\n",
       "Rich Text Format      1\n",
       "Vue                   1\n",
       "Java                  1\n",
       "Scala                 1\n",
       "Smarty                1\n",
       "Groovy                1\n",
       "VimL                  1\n",
       "Emacs Lisp            1\n",
       "Tcl                   1\n",
       "Batchfile             1\n",
       "Name: language, dtype: int64"
      ]
     },
     "execution_count": 8,
     "metadata": {},
     "output_type": "execute_result"
    }
   ],
   "source": [
    "#seeing the unique languages:\n",
    "ubuntu.language.value_counts()"
   ]
  },
  {
   "cell_type": "markdown",
   "id": "5fd03636",
   "metadata": {},
   "source": [
    "______________________________________________"
   ]
  },
  {
   "cell_type": "markdown",
   "id": "36a41ba3",
   "metadata": {},
   "source": [
    "## Ubuntu Languages:"
   ]
  },
  {
   "cell_type": "code",
   "execution_count": 52,
   "id": "12d0cede",
   "metadata": {},
   "outputs": [
    {
     "data": {
      "text/plain": [
       "Shell         0.520747\n",
       "Python        0.108921\n",
       "Dockerfile    0.052905\n",
       "C             0.045643\n",
       "C++           0.035270\n",
       "HTML          0.034232\n",
       "Ruby          0.028008\n",
       "JavaScript    0.024896\n",
       "Jinja         0.018672\n",
       "Go            0.012448\n",
       "Name: language, dtype: float64"
      ]
     },
     "execution_count": 52,
     "metadata": {},
     "output_type": "execute_result"
    }
   ],
   "source": [
    "#looking at the overall percentages of the top 10 languages used in Ubuntu repos:\n",
    "language_counts=ubuntu.language.value_counts(normalize=True).head(10)\n",
    "language_counts"
   ]
  },
  {
   "cell_type": "code",
   "execution_count": 37,
   "id": "4745a7df",
   "metadata": {},
   "outputs": [
    {
     "data": {
      "text/html": [
       "<div>\n",
       "<style scoped>\n",
       "    .dataframe tbody tr th:only-of-type {\n",
       "        vertical-align: middle;\n",
       "    }\n",
       "\n",
       "    .dataframe tbody tr th {\n",
       "        vertical-align: top;\n",
       "    }\n",
       "\n",
       "    .dataframe thead th {\n",
       "        text-align: right;\n",
       "    }\n",
       "</style>\n",
       "<table border=\"1\" class=\"dataframe\">\n",
       "  <thead>\n",
       "    <tr style=\"text-align: right;\">\n",
       "      <th></th>\n",
       "      <th>language</th>\n",
       "      <th>percentage</th>\n",
       "    </tr>\n",
       "  </thead>\n",
       "  <tbody>\n",
       "    <tr>\n",
       "      <th>0</th>\n",
       "      <td>Shell</td>\n",
       "      <td>0.520747</td>\n",
       "    </tr>\n",
       "    <tr>\n",
       "      <th>1</th>\n",
       "      <td>Python</td>\n",
       "      <td>0.108921</td>\n",
       "    </tr>\n",
       "    <tr>\n",
       "      <th>2</th>\n",
       "      <td>Dockerfile</td>\n",
       "      <td>0.052905</td>\n",
       "    </tr>\n",
       "    <tr>\n",
       "      <th>3</th>\n",
       "      <td>C</td>\n",
       "      <td>0.045643</td>\n",
       "    </tr>\n",
       "    <tr>\n",
       "      <th>4</th>\n",
       "      <td>C++</td>\n",
       "      <td>0.035270</td>\n",
       "    </tr>\n",
       "    <tr>\n",
       "      <th>5</th>\n",
       "      <td>HTML</td>\n",
       "      <td>0.034232</td>\n",
       "    </tr>\n",
       "    <tr>\n",
       "      <th>6</th>\n",
       "      <td>Ruby</td>\n",
       "      <td>0.028008</td>\n",
       "    </tr>\n",
       "    <tr>\n",
       "      <th>7</th>\n",
       "      <td>JavaScript</td>\n",
       "      <td>0.024896</td>\n",
       "    </tr>\n",
       "    <tr>\n",
       "      <th>8</th>\n",
       "      <td>Jinja</td>\n",
       "      <td>0.018672</td>\n",
       "    </tr>\n",
       "    <tr>\n",
       "      <th>9</th>\n",
       "      <td>Go</td>\n",
       "      <td>0.012448</td>\n",
       "    </tr>\n",
       "  </tbody>\n",
       "</table>\n",
       "</div>"
      ],
      "text/plain": [
       "     language  percentage\n",
       "0       Shell    0.520747\n",
       "1      Python    0.108921\n",
       "2  Dockerfile    0.052905\n",
       "3           C    0.045643\n",
       "4         C++    0.035270\n",
       "5        HTML    0.034232\n",
       "6        Ruby    0.028008\n",
       "7  JavaScript    0.024896\n",
       "8       Jinja    0.018672\n",
       "9          Go    0.012448"
      ]
     },
     "execution_count": 37,
     "metadata": {},
     "output_type": "execute_result"
    }
   ],
   "source": [
    "#creating a df of the percentages to prep for charts:\n",
    "temp = pd.DataFrame({'language' : language_counts.index, 'percentage': language_counts.values})\n",
    "temp"
   ]
  },
  {
   "cell_type": "code",
   "execution_count": 49,
   "id": "b4785192",
   "metadata": {},
   "outputs": [
    {
     "data": {
      "text/plain": [
       "<AxesSubplot:xlabel='language', ylabel='percentage'>"
      ]
     },
     "execution_count": 49,
     "metadata": {},
     "output_type": "execute_result"
    },
    {
     "data": {
      "image/png": "[encoded data removed]",
      "text/plain": [
       "<Figure size 720x576 with 1 Axes>"
      ]
     },
     "metadata": {
      "needs_background": "light"
     },
     "output_type": "display_data"
    }
   ],
   "source": [
    "#plotting out the percentages of the Top 10 languages used in Ubuntu repos:\n",
    "plt.figure(figsize=(10,8))\n",
    "sns.barplot(data=temp, x = 'language', y = 'percentage')"
   ]
  },
  {
   "cell_type": "markdown",
   "id": "85bcbe46",
   "metadata": {},
   "source": [
    "## Cleaning the Data:"
   ]
  },
  {
   "cell_type": "markdown",
   "id": "ca05915f",
   "metadata": {},
   "source": [
    "Steps to parsing data:\n",
    "- 1) Convert text to all lower case for normalcy.\n",
    "- 2) Remove any accented characters, non-ASCII characters.\n",
    "- 3) Remove special characters and html and linux related words.\n",
    "- 4) Stem or lemmatize the words.(stem = \"if b, then c\")\n",
    "- 5) Remove stopwords.(if, and, the, etc)\n",
    "- 6) Store the clean text and the original text for use in future notebooks."
   ]
  },
  {
   "cell_type": "code",
   "execution_count": 53,
   "id": "3b1484f7",
   "metadata": {},
   "outputs": [],
   "source": [
    "ADDITIONAL_STOPWORDS = [\n",
    "    'sudo',\n",
    "    'distro',\n",
    "    'linux',\n",
    "    'aptget',\n",
    "    'ubuntu',\n",
    "    'debian',\n",
    "    'arch',\n",
    "    'archlinux',\n",
    "    'git',\n",
    "    'root',\n",
    "    'img'\n",
    "] \n",
    "\n",
    "def clean_data(text):\n",
    "    ps = nltk.porter.PorterStemmer()\n",
    "    stopwords = nltk.corpus.stopwords.words('english') + ADDITIONAL_STOPWORDS\n",
    "    text = (unicodedata.normalize('NFKD', text)\n",
    "             .encode('ascii', 'ignore')\n",
    "             .decode('utf-8', 'ignore')\n",
    "             .lower())\n",
    "    words = re.sub(r'[\\(<\\\"]?http.*[\\)>\\\"\\s]', ' ', text).split()\n",
    "    words = [re.sub(r'[^\\w\\s]', '', text) for text in words]\n",
    "    try:\n",
    "        while True:\n",
    "            words.remove('')\n",
    "    except ValueError:\n",
    "        pass\n",
    "    \n",
    "    return [ps.stem(word) for word in words if word not in stopwords]"
   ]
  },
  {
   "cell_type": "code",
   "execution_count": 54,
   "id": "cdf434f7",
   "metadata": {},
   "outputs": [
    {
     "data": {
      "text/plain": [
       "'## Ubuntu Dockerfile\\n\\n\\nThis repository contains **Dockerfile** of [Ubuntu](http://www.ubuntu.com/) f'"
      ]
     },
     "execution_count": 54,
     "metadata": {},
     "output_type": "execute_result"
    }
   ],
   "source": [
    "#grabbing text from df:\n",
    "ubuntu_corpus = ' '.join(ubuntu['readme_contents'])\n",
    "ubuntu_corpus[:100]"
   ]
  },
  {
   "cell_type": "code",
   "execution_count": 55,
   "id": "1e25abc2",
   "metadata": {},
   "outputs": [],
   "source": [
    "#creating a list \n",
    "ubuntu_corpus_list = clean_data(ubuntu_corpus)"
   ]
  },
  {
   "cell_type": "markdown",
   "id": "9b52180f",
   "metadata": {},
   "source": [
    "______________________________"
   ]
  },
  {
   "cell_type": "markdown",
   "id": "bbba6a10",
   "metadata": {},
   "source": [
    "## Creating a df for the top 10 languages:"
   ]
  },
  {
   "cell_type": "code",
   "execution_count": 56,
   "id": "c549c2c1",
   "metadata": {},
   "outputs": [],
   "source": [
    "#finding all shell readmes:\n",
    "shell_readme =' '.join(ubuntu[ubuntu['language'] == 'Shell'].readme_contents)"
   ]
  },
  {
   "cell_type": "code",
   "execution_count": 58,
   "id": "66d2f6a8",
   "metadata": {},
   "outputs": [],
   "source": [
    "#renaming to shell words and cleaning data:\n",
    "shell_words=clean_data(shell_readme)"
   ]
  },
  {
   "cell_type": "code",
   "execution_count": 59,
   "id": "53177e6a",
   "metadata": {},
   "outputs": [],
   "source": [
    "#finding all python readmes:\n",
    "python_readme =' '.join(ubuntu[ubuntu['language'] == 'Python'].readme_contents)"
   ]
  },
  {
   "cell_type": "code",
   "execution_count": 60,
   "id": "2de8bc3e",
   "metadata": {},
   "outputs": [],
   "source": [
    "#renaming to python words and cleaning data:\n",
    "python_words=clean_data(python_readme)"
   ]
  },
  {
   "cell_type": "code",
   "execution_count": 61,
   "id": "b8ab0146",
   "metadata": {},
   "outputs": [],
   "source": [
    "#finding all dockerfile readmes:\n",
    "dockerfile_readme =' '.join(ubuntu[ubuntu['language'] == 'Dockerfile'].readme_contents)"
   ]
  },
  {
   "cell_type": "code",
   "execution_count": 62,
   "id": "d4c8f5c7",
   "metadata": {},
   "outputs": [],
   "source": [
    "#renaming to dockerfile words and cleaning data:\n",
    "dockerfile_words=clean_data(dockerfile_readme)"
   ]
  },
  {
   "cell_type": "code",
   "execution_count": 63,
   "id": "e1bdffb5",
   "metadata": {},
   "outputs": [],
   "source": [
    "#finding all C readmes:\n",
    "C_readme =' '.join(ubuntu[ubuntu['language'] == 'C'].readme_contents)"
   ]
  },
  {
   "cell_type": "code",
   "execution_count": 64,
   "id": "01c78d0a",
   "metadata": {},
   "outputs": [],
   "source": [
    "#renaming to C words and cleaning data:\n",
    "C_words=clean_data(C_readme)"
   ]
  },
  {
   "cell_type": "code",
   "execution_count": 66,
   "id": "7a039111",
   "metadata": {},
   "outputs": [],
   "source": [
    "#finding all C ++ readmes:\n",
    "Cplus_readme =' '.join(ubuntu[ubuntu['language'] == 'C++'].readme_contents)"
   ]
  },
  {
   "cell_type": "code",
   "execution_count": 67,
   "id": "f48c65c2",
   "metadata": {},
   "outputs": [],
   "source": [
    "#renaming to C++ words and cleaning data:\n",
    "Cplus_words=clean_data(Cplus_readme)"
   ]
  },
  {
   "cell_type": "code",
   "execution_count": null,
   "id": "556407df",
   "metadata": {},
   "outputs": [],
   "source": []
  },
  {
   "cell_type": "code",
   "execution_count": null,
   "id": "bcbf5a14",
   "metadata": {},
   "outputs": [],
   "source": []
  },
  {
   "cell_type": "markdown",
   "id": "64565c3e",
   "metadata": {},
   "source": [
    "___________________________________"
   ]
  },
  {
   "cell_type": "code",
   "execution_count": null,
   "id": "a15e0ddf",
   "metadata": {},
   "outputs": [],
   "source": [
    "#creating df on languages:\n",
    "shell_words = ubuntu_df.clean(' '.join(ubuntu_df[ubuntu_df.language == 'Shell']))\n",
    "python_words = ubuntu_df.clean(' '.join(ubuntu_df[ubuntu_df.language == 'Python']))\n",
    "all_words = ubuntu_df.clean(' '.join(ubuntu_df.str.text))\n"
   ]
  },
  {
   "cell_type": "code",
   "execution_count": null,
   "id": "5d7d1e0b",
   "metadata": {},
   "outputs": [],
   "source": []
  },
  {
   "cell_type": "code",
   "execution_count": null,
   "id": "8d1eed15",
   "metadata": {},
   "outputs": [],
   "source": []
  }
 ],
 "metadata": {
  "kernelspec": {
   "display_name": "Python 3 (ipykernel)",
   "language": "python",
   "name": "python3"
  },
  "language_info": {
   "codemirror_mode": {
    "name": "ipython",
    "version": 3
   },
   "file_extension": ".py",
   "mimetype": "text/x-python",
   "name": "python",
   "nbconvert_exporter": "python",
   "pygments_lexer": "ipython3",
   "version": "3.9.7"
  }
 },
 "nbformat": 4,
 "nbformat_minor": 5
}

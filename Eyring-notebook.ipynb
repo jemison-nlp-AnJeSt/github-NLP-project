{
 "cells": [
  {
   "cell_type": "code",
   "execution_count": 1,
   "id": "bd5a636b",
   "metadata": {},
   "outputs": [],
   "source": [
    "#import tools for web scraping:\n",
    "from requests import get\n",
    "from bs4 import BeautifulSoup\n",
    "import os\n",
    "import pandas as pd\n",
    "\n",
    "#group imports\n",
    "import env\n",
    "import acquire\n",
    "import constants_prepare\n",
    "\n",
    "import json\n",
    "from typing import Dict, List, Optional, Union, cast\n",
    "import requests\n",
    "\n",
    "#visualizations:\n",
    "import matplotlib.pyplot as plt\n",
    "import seaborn as sns"
   ]
  },
  {
   "cell_type": "markdown",
   "id": "323307b2",
   "metadata": {},
   "source": [
    "_____________________________________________________________________________"
   ]
  },
  {
   "cell_type": "markdown",
   "id": "1ed23733",
   "metadata": {},
   "source": [
    "## Exploring Ubuntu:"
   ]
  },
  {
   "cell_type": "code",
   "execution_count": null,
   "id": "cf4d7e34",
   "metadata": {},
   "outputs": [],
   "source": [
    "ubuntu = pd.read_json('ubuntu_data.json')"
   ]
  },
  {
   "cell_type": "code",
   "execution_count": null,
   "id": "72ee9e9f",
   "metadata": {},
   "outputs": [],
   "source": [
    "ubuntu.head()"
   ]
  },
  {
   "cell_type": "markdown",
   "id": "179a890a",
   "metadata": {},
   "source": [
    "#### Normalizing the data:"
   ]
  },
  {
   "cell_type": "code",
   "execution_count": null,
   "id": "227211bc",
   "metadata": {},
   "outputs": [],
   "source": [
    "import unicodedata\n",
    "import re\n",
    "\n",
    "import nltk\n",
    "from nltk.tokenize.toktok import ToktokTokenizer\n",
    "from nltk.corpus import stopwords"
   ]
  },
  {
   "cell_type": "code",
   "execution_count": null,
   "id": "12a1779b",
   "metadata": {},
   "outputs": [],
   "source": [
    "#to view just one of the readme docs and see what kind of normalizing is needed:\n",
    "soup = BeautifulSoup(ubuntu.readme_contents.iloc[10], 'html.parser')\n",
    "soup"
   ]
  },
  {
   "cell_type": "code",
   "execution_count": null,
   "id": "eb5f7b19",
   "metadata": {},
   "outputs": [],
   "source": [
    "#getting an overall view of the data:\n",
    "ubuntu.info()"
   ]
  },
  {
   "cell_type": "code",
   "execution_count": null,
   "id": "1b369a15",
   "metadata": {},
   "outputs": [],
   "source": [
    "#looking at any nulls:\n",
    "ubuntu.isnull().sum()"
   ]
  },
  {
   "cell_type": "code",
   "execution_count": null,
   "id": "72e883fc",
   "metadata": {},
   "outputs": [],
   "source": [
    "#dropping nulls (we found that these repos have no languages attached)\n",
    "ubuntu = ubuntu.dropna()"
   ]
  },
  {
   "cell_type": "code",
   "execution_count": null,
   "id": "9e4feecc",
   "metadata": {},
   "outputs": [],
   "source": [
    "#df w/o nulls:\n",
    "ubuntu.isnull().sum()"
   ]
  },
  {
   "cell_type": "code",
   "execution_count": null,
   "id": "abc4638a",
   "metadata": {},
   "outputs": [],
   "source": [
    "#seeing the unique languages:\n",
    "ubuntu.language.value_counts()"
   ]
  },
  {
   "cell_type": "markdown",
   "id": "5fd03636",
   "metadata": {},
   "source": [
    "______________________________________________"
   ]
  },
  {
   "cell_type": "markdown",
   "id": "36a41ba3",
   "metadata": {},
   "source": [
    "## Ubuntu Languages:"
   ]
  },
  {
   "cell_type": "code",
   "execution_count": null,
   "id": "12d0cede",
   "metadata": {},
   "outputs": [],
   "source": [
    "#looking at the overall percentages of the top 10 languages used in Ubuntu repos:\n",
    "language_counts=ubuntu.language.value_counts(normalize=True).head(10)\n",
    "language_counts"
   ]
  },
  {
   "cell_type": "code",
   "execution_count": null,
   "id": "4745a7df",
   "metadata": {},
   "outputs": [],
   "source": [
    "#creating a df of the percentages to prep for charts:\n",
    "temp = pd.DataFrame({'language' : language_counts.index, 'percentage': language_counts.values})\n",
    "temp"
   ]
  },
  {
   "cell_type": "code",
   "execution_count": null,
   "id": "b4785192",
   "metadata": {
    "scrolled": false
   },
   "outputs": [],
   "source": [
    "#plotting out the percentages of the Top 10 languages used in Ubuntu repos:\n",
    "plt.figure(figsize=(10,8))\n",
    "sns.barplot(data=temp, x = 'language', y = 'percentage')"
   ]
  },
  {
   "cell_type": "markdown",
   "id": "85bcbe46",
   "metadata": {},
   "source": [
    "## Cleaning the Data:"
   ]
  },
  {
   "cell_type": "markdown",
   "id": "ca05915f",
   "metadata": {},
   "source": [
    "Steps to parsing data:\n",
    "- 1) Convert text to all lower case for normalcy.\n",
    "- 2) Remove any accented characters, non-ASCII characters.\n",
    "- 3) Remove special characters and html and linux related words.\n",
    "- 4) Stem or lemmatize the words.(stem = \"if b, then c\")\n",
    "- 5) Remove stopwords.(if, and, the, etc)\n",
    "- 6) Store the clean text and the original text for use in future notebooks."
   ]
  },
  {
   "cell_type": "code",
   "execution_count": null,
   "id": "3b1484f7",
   "metadata": {},
   "outputs": [],
   "source": [
    "ADDITIONAL_STOPWORDS = [\n",
    "    'sudo',\n",
    "    'distro',\n",
    "    'linux',\n",
    "    'aptget',\n",
    "    'ubuntu',\n",
    "    'debian',\n",
    "    'arch',\n",
    "    'archlinux',\n",
    "    'git',\n",
    "    'root',\n",
    "    'image',\n",
    "    'install',\n",
    "    'installed',\n",
    "    'installing',\n",
    "    'use', \n",
    "    'user',\n",
    "    'used',\n",
    "    'using',\n",
    "    'server',\n",
    "    'kernel',\n",
    "    'update',\n",
    "    'package', \n",
    "    'file',\n",
    "    'run', \n",
    "    'system', \n",
    "    'configure',\n",
    "    'configured',\n",
    "    'command',\n",
    "    'script', \n",
    "    'set', \n",
    "    'build',\n",
    "    'need',\n",
    "    'make',\n",
    "    'option',\n",
    "    'contain',\n",
    "    'contained',\n",
    "    1,\n",
    "    'server',\n",
    "    'update',\n",
    "    'updated',\n",
    "    'kerneled',\n",
    "    'version',\n",
    "    '1',\n",
    "    'download',\n",
    "    'create', \n",
    "    'default'\n",
    "    \n",
    "] \n",
    "\n",
    "def clean_data(text):\n",
    "    ps = nltk.porter.PorterStemmer()\n",
    "    stopwords = nltk.corpus.stopwords.words('english') + ADDITIONAL_STOPWORDS\n",
    "    text = (unicodedata.normalize('NFKD', text)\n",
    "             .encode('ascii', 'ignore')\n",
    "             .decode('utf-8', 'ignore')\n",
    "             .lower())\n",
    "    words = re.sub(r'[\\(<\\\"]?http.*[\\)>\\\"\\s]', ' ', text).split()\n",
    "    words = [re.sub(r'[^\\w\\s]', '', text) for text in words]\n",
    "    try:\n",
    "        while True:\n",
    "            words.remove('')\n",
    "    except ValueError:\n",
    "        pass\n",
    "    \n",
    "    return ' '.join([ps.stem(word) for word in words if word not in stopwords])"
   ]
  },
  {
   "cell_type": "code",
   "execution_count": null,
   "id": "cdf434f7",
   "metadata": {},
   "outputs": [],
   "source": [
    "#grabbing text from df:\n",
    "ubuntu_corpus = ' '.join(ubuntu['readme_contents'])\n",
    "ubuntu_corpus[:100]"
   ]
  },
  {
   "cell_type": "code",
   "execution_count": null,
   "id": "1e25abc2",
   "metadata": {},
   "outputs": [],
   "source": [
    "#creating a list \n",
    "ubuntu_corpus_list = clean_data(ubuntu_corpus).split()\n",
    "ubuntu_corpus_list"
   ]
  },
  {
   "cell_type": "code",
   "execution_count": null,
   "id": "60a5c11d",
   "metadata": {},
   "outputs": [],
   "source": [
    "u_count = pd.Series(ubuntu_corpus_list)"
   ]
  },
  {
   "cell_type": "code",
   "execution_count": null,
   "id": "0ee3ed8f",
   "metadata": {},
   "outputs": [],
   "source": [
    "u_count.value_counts().nlargest(20)"
   ]
  },
  {
   "cell_type": "code",
   "execution_count": null,
   "id": "ec8c55ad",
   "metadata": {},
   "outputs": [],
   "source": [
    "#adding the clean function through the readme content and adding \n",
    "#onto a new column in the df:\n",
    "ubuntu['clean_readme'] = ubuntu.readme_contents.apply(clean_data)\n",
    "ubuntu"
   ]
  },
  {
   "cell_type": "markdown",
   "id": "9b52180f",
   "metadata": {},
   "source": [
    "______________________________"
   ]
  },
  {
   "cell_type": "markdown",
   "id": "bbba6a10",
   "metadata": {},
   "source": [
    "## Creating a df for the top 10 languages:"
   ]
  },
  {
   "cell_type": "code",
   "execution_count": null,
   "id": "c549c2c1",
   "metadata": {},
   "outputs": [],
   "source": [
    "#finding all shell readmes:\n",
    "shell_readme =' '.join(ubuntu[ubuntu['language'] == 'Shell'].clean_readme)"
   ]
  },
  {
   "cell_type": "code",
   "execution_count": null,
   "id": "5c2c94f2",
   "metadata": {},
   "outputs": [],
   "source": [
    "ubuntu[ubuntu['language'] == 'Shell'].clean_readme"
   ]
  },
  {
   "cell_type": "code",
   "execution_count": null,
   "id": "66d2f6a8",
   "metadata": {},
   "outputs": [],
   "source": [
    "#renaming to shell words and cleaning data:\n",
    "shell_words=clean_data(shell_readme)"
   ]
  },
  {
   "cell_type": "code",
   "execution_count": null,
   "id": "53177e6a",
   "metadata": {},
   "outputs": [],
   "source": [
    "#finding all python readmes:\n",
    "python_readme =' '.join(ubuntu[ubuntu['language'] == 'Python'].clean_readme)"
   ]
  },
  {
   "cell_type": "code",
   "execution_count": null,
   "id": "2de8bc3e",
   "metadata": {},
   "outputs": [],
   "source": [
    "#renaming to python words and cleaning data:\n",
    "python_words=clean_data(python_readme)"
   ]
  },
  {
   "cell_type": "code",
   "execution_count": null,
   "id": "b8ab0146",
   "metadata": {},
   "outputs": [],
   "source": [
    "#finding all dockerfile readmes:\n",
    "dockerfile_readme =' '.join(ubuntu[ubuntu['language'] == 'Dockerfile'].clean_readme)"
   ]
  },
  {
   "cell_type": "code",
   "execution_count": null,
   "id": "d4c8f5c7",
   "metadata": {},
   "outputs": [],
   "source": [
    "#renaming to dockerfile words and cleaning data:\n",
    "dockerfile_words=clean_data(dockerfile_readme)"
   ]
  },
  {
   "cell_type": "code",
   "execution_count": null,
   "id": "e1bdffb5",
   "metadata": {},
   "outputs": [],
   "source": [
    "#finding all C readmes:\n",
    "C_readme =' '.join(ubuntu[ubuntu['language'] == 'C'].clean_readme)"
   ]
  },
  {
   "cell_type": "code",
   "execution_count": null,
   "id": "01c78d0a",
   "metadata": {},
   "outputs": [],
   "source": [
    "#renaming to C words and cleaning data:\n",
    "C_words=clean_data(C_readme)"
   ]
  },
  {
   "cell_type": "code",
   "execution_count": null,
   "id": "7a039111",
   "metadata": {},
   "outputs": [],
   "source": [
    "#finding all C ++ readmes:\n",
    "Cplus_readme =' '.join(ubuntu[ubuntu['language'] == 'C++'].clean_readme)"
   ]
  },
  {
   "cell_type": "code",
   "execution_count": null,
   "id": "f48c65c2",
   "metadata": {},
   "outputs": [],
   "source": [
    "#renaming to C++ words and cleaning data:\n",
    "Cplus_words=clean_data(Cplus_readme)"
   ]
  },
  {
   "cell_type": "markdown",
   "id": "0da8e5da",
   "metadata": {},
   "source": [
    "### Finding word frequencies per language:"
   ]
  },
  {
   "cell_type": "code",
   "execution_count": null,
   "id": "bcbf5a14",
   "metadata": {},
   "outputs": [],
   "source": [
    "#creating series with frequencies by putting the clean_readme strings\n",
    "#as series (but use split to split up words into a list)\n",
    "\n",
    "shell_freq = pd.Series(shell_words.split()).value_counts()\n",
    "python_freq = pd.Series(python_words.split()).value_counshets()\n",
    "dockerfile_freq = pd.Series(dockerfile_words.split()).value_counts()\n",
    "C_freq = pd.Series(C_words.split()).value_counts()\n",
    "Cplus_freq = pd.Series(Cplus_words.split()).value_counts()"
   ]
  },
  {
   "cell_type": "code",
   "execution_count": null,
   "id": "b98e1d15",
   "metadata": {},
   "outputs": [],
   "source": [
    "#looking at how we need to split:\n",
    "pd.Series(shell_words.split()).value_counts()"
   ]
  },
  {
   "cell_type": "code",
   "execution_count": null,
   "id": "13a591c5",
   "metadata": {},
   "outputs": [],
   "source": [
    "#combining frequencies into dataframes:\n",
    "word_counts = (pd.concat([shell_freq, python_freq, dockerfile_freq, C_freq, Cplus_freq], axis=1, sort=True)\n",
    "              .set_axis(['shell','python','dockerfile','C','Cplus'], axis=1, inplace=False)\n",
    "              .fillna(0)\n",
    "              .apply(lambda s: s.astype(int)))"
   ]
  },
  {
   "cell_type": "code",
   "execution_count": null,
   "id": "6eb5c9ba",
   "metadata": {},
   "outputs": [],
   "source": [
    "word_counts.head()"
   ]
  },
  {
   "cell_type": "markdown",
   "id": "94606fd7",
   "metadata": {},
   "source": [
    "### What are the most occuring words across these languages?"
   ]
  },
  {
   "cell_type": "code",
   "execution_count": null,
   "id": "33ac766c",
   "metadata": {},
   "outputs": [],
   "source": [
    "word_counts.sort_values(by='shell', ascending=False).head(10)"
   ]
  },
  {
   "cell_type": "markdown",
   "id": "64565c3e",
   "metadata": {},
   "source": [
    "___________________________________"
   ]
  },
  {
   "cell_type": "markdown",
   "id": "02997d5a",
   "metadata": {},
   "source": [
    "## How long is a typical Ubuntu Readme (after clean)?"
   ]
  },
  {
   "cell_type": "code",
   "execution_count": null,
   "id": "8d1eed15",
   "metadata": {},
   "outputs": [],
   "source": [
    "#creating a column that gives the lenght of the readme_contents after clean_data function\n",
    "ubuntu['length_of_readme'] = ubuntu['readme_contents'].apply(lambda r : len(clean_data(r)))"
   ]
  },
  {
   "cell_type": "code",
   "execution_count": null,
   "id": "6aad1594",
   "metadata": {},
   "outputs": [],
   "source": [
    "#plotting this to show any anomalies:\n",
    "plt.figure(figsize = (10,10))\n",
    "sns.boxplot(data = ubuntu.length_of_readme)"
   ]
  },
  {
   "cell_type": "code",
   "execution_count": null,
   "id": "5b49c906",
   "metadata": {},
   "outputs": [],
   "source": [
    "#finding the mean, min and max of Ubuntu readmes:\n",
    "ubuntu.length_of_readme.describe()"
   ]
  },
  {
   "cell_type": "code",
   "execution_count": null,
   "id": "768272f1",
   "metadata": {},
   "outputs": [],
   "source": [
    "#longest readme info:\n",
    "ubuntu[ubuntu['length_of_readme'] == 147543]"
   ]
  },
  {
   "cell_type": "code",
   "execution_count": null,
   "id": "e225daad",
   "metadata": {},
   "outputs": [],
   "source": [
    "#minimum readmes:\n",
    "ubuntu[ubuntu['length_of_readme'] == 0]"
   ]
  },
  {
   "cell_type": "code",
   "execution_count": null,
   "id": "32a911c4",
   "metadata": {},
   "outputs": [],
   "source": [
    "ubuntu['cleaned_length'] = 0"
   ]
  },
  {
   "cell_type": "code",
   "execution_count": null,
   "id": "ed1851ad",
   "metadata": {},
   "outputs": [],
   "source": [
    "plt.figure(figsize=(18, 8))\n",
    "sns.barplot(data = ubuntu.groupby('language').mean().reset_index().sort_values('length_of_readme', ascending=False), x = 'length_of_readme', y='language')\n",
    "plt.title('Average Readme length by Language')\n",
    "plt.show()"
   ]
  },
  {
   "cell_type": "markdown",
   "id": "7b860b1a",
   "metadata": {},
   "source": [
    "_____________________________________________"
   ]
  },
  {
   "cell_type": "markdown",
   "id": "2da49d51",
   "metadata": {},
   "source": [
    "## Number of unique words in Ubuntu Repos:"
   ]
  },
  {
   "cell_type": "code",
   "execution_count": null,
   "id": "3877ff4b",
   "metadata": {},
   "outputs": [],
   "source": [
    "ubuntu_corpus_series = pd.Series(ubuntu_corpus_list)\n",
    "pd.Series(ubuntu_corpus_list).nunique()"
   ]
  },
  {
   "cell_type": "markdown",
   "id": "ccaf1a46",
   "metadata": {},
   "source": [
    "___________________________________________"
   ]
  },
  {
   "cell_type": "markdown",
   "id": "6a1bd0d5",
   "metadata": {},
   "source": [
    "## Most common bigrams of Ubuntu:"
   ]
  },
  {
   "cell_type": "code",
   "execution_count": null,
   "id": "0fa4afad",
   "metadata": {},
   "outputs": [],
   "source": [
    "ubuntu_bigrams = (pd.Series(nltk.ngrams(ubuntu_corpus_series, 2)).value_counts().head(20))"
   ]
  },
  {
   "cell_type": "code",
   "execution_count": null,
   "id": "1f6072ec",
   "metadata": {},
   "outputs": [],
   "source": [
    "ubuntu_bigrams"
   ]
  },
  {
   "cell_type": "markdown",
   "id": "0ded311f",
   "metadata": {},
   "source": [
    "## Most common trigrams of Ubuntu:"
   ]
  },
  {
   "cell_type": "code",
   "execution_count": null,
   "id": "2c181414",
   "metadata": {},
   "outputs": [],
   "source": [
    "ubuntu_trigrams = (pd.Series(nltk.ngrams(ubuntu_corpus_series, 3)).value_counts().head(20))\n",
    "ubuntu_trigrams"
   ]
  },
  {
   "cell_type": "code",
   "execution_count": null,
   "id": "c10195ba",
   "metadata": {},
   "outputs": [],
   "source": [
    "from wordcloud import WordCloud\n",
    "\n",
    "img = WordCloud(background_color='white').generate(ubuntu_bigrams)\n",
    "# WordCloud() produces an image object, which can be displayed with plt.imshow\n",
    "plt.imshow(img)\n",
    "# axis aren't very useful for a word cloud\n",
    "plt.axis('off')\n"
   ]
  },
  {
   "cell_type": "markdown",
   "id": "85b8a284",
   "metadata": {},
   "source": [
    "________________________________________________"
   ]
  },
  {
   "cell_type": "markdown",
   "id": "0da2e648",
   "metadata": {},
   "source": [
    "## Reading in the master list csv:"
   ]
  },
  {
   "cell_type": "code",
   "execution_count": null,
   "id": "dcd887e5",
   "metadata": {},
   "outputs": [],
   "source": [
    "master_df = pd.read_csv('master_list.csv')"
   ]
  },
  {
   "cell_type": "code",
   "execution_count": null,
   "id": "4c01ab23",
   "metadata": {},
   "outputs": [],
   "source": [
    "master_df"
   ]
  },
  {
   "cell_type": "markdown",
   "id": "3eec5545",
   "metadata": {},
   "source": [
    "### Exploring the data:"
   ]
  },
  {
   "cell_type": "code",
   "execution_count": null,
   "id": "301e79ca",
   "metadata": {},
   "outputs": [],
   "source": [
    "master_df.info()"
   ]
  },
  {
   "cell_type": "code",
   "execution_count": null,
   "id": "d117dd33",
   "metadata": {},
   "outputs": [],
   "source": [
    "master_df.info"
   ]
  },
  {
   "cell_type": "code",
   "execution_count": null,
   "id": "1e8d39fb",
   "metadata": {},
   "outputs": [],
   "source": [
    "master_df.describe()"
   ]
  },
  {
   "cell_type": "code",
   "execution_count": null,
   "id": "c934d508",
   "metadata": {},
   "outputs": [],
   "source": [
    "#any nulls?\n",
    "master_df.isnull().sum()"
   ]
  },
  {
   "cell_type": "code",
   "execution_count": null,
   "id": "73ba1afc",
   "metadata": {},
   "outputs": [],
   "source": [
    "#dropping nulls:\n",
    "master_df = master_df.dropna()"
   ]
  },
  {
   "cell_type": "code",
   "execution_count": null,
   "id": "535b5d4f",
   "metadata": {},
   "outputs": [],
   "source": [
    "#just checking if worked:\n",
    "master_df.isnull().sum()"
   ]
  },
  {
   "cell_type": "markdown",
   "id": "8f0a2814",
   "metadata": {},
   "source": [
    "## Looking at top languages across master_list:"
   ]
  },
  {
   "cell_type": "code",
   "execution_count": null,
   "id": "06085de2",
   "metadata": {},
   "outputs": [],
   "source": [
    "#looking at the overall percentages of the top 10 languages used in all repos:\n",
    "master_language_counts=master_df.language.value_counts(normalize=True).head(10)\n",
    "master_language_counts"
   ]
  },
  {
   "cell_type": "code",
   "execution_count": null,
   "id": "ece24bf3",
   "metadata": {},
   "outputs": [],
   "source": [
    "#creating a df of the percentages to prep for charts:\n",
    "temp = pd.DataFrame({'language' : master_language_counts.index, 'percentage': master_language_counts.values})\n",
    "temp"
   ]
  },
  {
   "cell_type": "code",
   "execution_count": null,
   "id": "924ef348",
   "metadata": {},
   "outputs": [],
   "source": [
    "#plotting out the percentages of the Top 10 languages used in Ubuntu repos:\n",
    "plt.figure(figsize=(10,8))\n",
    "sns.barplot(data=temp, x = 'language', y = 'percentage')"
   ]
  },
  {
   "cell_type": "markdown",
   "id": "9bf53be8",
   "metadata": {},
   "source": [
    "## Finding common words overall for stop_words:"
   ]
  },
  {
   "cell_type": "code",
   "execution_count": null,
   "id": "59e5567b",
   "metadata": {},
   "outputs": [],
   "source": [
    "#grabbing text from df:\n",
    "master_corpus = ' '.join(master_df['readme_contents'])\n",
    "master_corpus[:100]"
   ]
  },
  {
   "cell_type": "code",
   "execution_count": null,
   "id": "1ecacde5",
   "metadata": {},
   "outputs": [],
   "source": [
    "#first, lower all letters:\n",
    "master_corpus = master_corpus.lower()"
   ]
  },
  {
   "cell_type": "code",
   "execution_count": null,
   "id": "bdd0b664",
   "metadata": {},
   "outputs": [],
   "source": [
    "#next, normalize by removing special characters:\n",
    "import unicodedata\n",
    "\n",
    "master_corpus = unicodedata.normalize('NFKD', master_corpus)\\\n",
    "    .encode('ascii', 'ignore')\\\n",
    "    .decode('utf-8', 'ignore')"
   ]
  },
  {
   "cell_type": "code",
   "execution_count": null,
   "id": "9cd975b2",
   "metadata": {},
   "outputs": [],
   "source": [
    "#taking out special characters:\n",
    "# remove anything that is not a through z, a number, a single quote, or whitespace\n",
    "master_corpus = re.sub(r\"[^a-z0-9'\\s]\", '', master_corpus)"
   ]
  },
  {
   "cell_type": "code",
   "execution_count": null,
   "id": "372518a3",
   "metadata": {},
   "outputs": [],
   "source": [
    "#tokenizing:\n",
    "import nltk\n",
    "tokenizer = nltk.tokenize.ToktokTokenizer()\n",
    "\n",
    "print(tokenizer.tokenize(master_corpus, return_str=True)[0:500])\n"
   ]
  },
  {
   "cell_type": "code",
   "execution_count": null,
   "id": "3d24b55a",
   "metadata": {},
   "outputs": [],
   "source": [
    "#removing main stopwords:\n",
    "from nltk.corpus import stopwords\n",
    "stopword_list = stopwords.words('english')\n",
    "\n",
    "stopword_list.remove('no')\n",
    "stopword_list.remove('not')\n",
    "\n",
    "stopword_list[:10]"
   ]
  },
  {
   "cell_type": "code",
   "execution_count": null,
   "id": "0cb354e2",
   "metadata": {},
   "outputs": [],
   "source": [
    "#creating loop for this:\n",
    "words = master_corpus.split()\n",
    "filtered_words = [w for w in words if w not in stopword_list]\n",
    "\n",
    "print('Removed {} stopwords'.format(len(words) - len(filtered_words)))\n",
    "print('---')\n",
    "\n",
    "corpus_without_stopwords = ' '.join(filtered_words)\n",
    "\n",
    "print(corpus_without_stopwords)\n"
   ]
  },
  {
   "cell_type": "code",
   "execution_count": null,
   "id": "ca727649",
   "metadata": {},
   "outputs": [],
   "source": [
    "#creating a list \n",
    "master_corpus_list = corpus_without_stopwords.split()\n",
    "master_corpus_list"
   ]
  },
  {
   "cell_type": "markdown",
   "id": "f07f4ce2",
   "metadata": {},
   "source": [
    "### These should be the top 40 words we include in stopwords for our clean/prep:"
   ]
  },
  {
   "cell_type": "code",
   "execution_count": null,
   "id": "56597eaf",
   "metadata": {
    "scrolled": true
   },
   "outputs": [],
   "source": [
    "main_count = pd.Series(master_corpus_list)\n",
    "main_count.value_counts().nlargest(60)"
   ]
  },
  {
   "cell_type": "code",
   "execution_count": null,
   "id": "bad47754",
   "metadata": {},
   "outputs": [],
   "source": [
    "\n",
    "ADDITIONAL_STOPWORDS=[\n",
    "    'sudo', 'use', 'not', 'run',\n",
    "    'file', 'linux', 3 ,'3', 1 ,'1', 'script', 'ubuntu', \n",
    "    'default', 'build', 'system', 'using', \n",
    "    'docker', 'make', 'kernel',\n",
    "    'version','packages', 'package','image',\n",
    "    'debian', 'server', 'set', 'files',6, \n",
    "    'arch', 'configuration', 'installation',\n",
    "    'user', 'also', 'update', 'see', 'used',\n",
    "    'need', 2, '2', '4', '0', 'git', 'command', 'add',\n",
    "    'following', 'directory', 'no', 'new',\n",
    "    'want', 'create', 'installed', 'e', 'name', \n",
    "    'support', 'root', 'running', 'one', 'p',\n",
    "    'like', 'environment', 'example', 'repository',\n",
    "    'source', 'archlinux','ubuntu','debian','arch'\n",
    "]"
   ]
  },
  {
   "cell_type": "code",
   "execution_count": null,
   "id": "376f9e60",
   "metadata": {},
   "outputs": [],
   "source": [
    "#applying clean and stemming\n",
    "def clean_data(text):\n",
    "    ps = nltk.porter.PorterStemmer()\n",
    "    stopwords = nltk.corpus.stopwords.words('english') + ADDITIONAL_STOPWORDS\n",
    "    text = (unicodedata.normalize('NFKD', text)\n",
    "             .encode('ascii', 'ignore')\n",
    "             .decode('utf-8', 'ignore')\n",
    "             .lower())\n",
    "    words = re.sub(r'[\\(<\\\"]?http.*[\\)>\\\"\\s]', ' ', text).split()\n",
    "    words = [re.sub(r'[^\\w\\s]', '', text) for text in words]\n",
    "    try:\n",
    "        while True:\n",
    "            words.remove('')\n",
    "    except ValueError:\n",
    "        pass\n",
    "    \n",
    "    return [word for word in words if word not in stopwords]"
   ]
  },
  {
   "cell_type": "code",
   "execution_count": null,
   "id": "dae3d6f5",
   "metadata": {},
   "outputs": [],
   "source": [
    "#creating a new list of top mentioned words:\n",
    "main_list = clean_data(master_corpus)\n",
    "main_list"
   ]
  },
  {
   "cell_type": "code",
   "execution_count": null,
   "id": "e402226a",
   "metadata": {},
   "outputs": [],
   "source": [
    "#creating new series\n",
    "main_list_count = pd.Series(main_list)"
   ]
  },
  {
   "cell_type": "markdown",
   "id": "5f6e9f52",
   "metadata": {},
   "source": [
    "### Top words of Full corpus, after clean:"
   ]
  },
  {
   "cell_type": "code",
   "execution_count": null,
   "id": "9a262207",
   "metadata": {
    "scrolled": true
   },
   "outputs": [],
   "source": [
    "#creating new top words list:\n",
    "main_list_count.value_counts().nlargest(50)"
   ]
  },
  {
   "cell_type": "code",
   "execution_count": null,
   "id": "d6f9c65d",
   "metadata": {},
   "outputs": [],
   "source": [
    "#finding all shell readmes:\n",
    "shell_readme =' '.join(master_df[master_df['language'] == 'Shell'].clean_readme)"
   ]
  },
  {
   "cell_type": "code",
   "execution_count": null,
   "id": "389d1202",
   "metadata": {},
   "outputs": [],
   "source": [
    "#renaming to shell words and cleaning data:\n",
    "shell_words=clean_data(shell_readme)"
   ]
  },
  {
   "cell_type": "code",
   "execution_count": null,
   "id": "ac503e83",
   "metadata": {},
   "outputs": [],
   "source": [
    "#finding all python readmes:\n",
    "python_readme =' '.join(master_df[master_df['language'] == 'Python'].clean_readme)"
   ]
  },
  {
   "cell_type": "code",
   "execution_count": null,
   "id": "4596e591",
   "metadata": {},
   "outputs": [],
   "source": [
    "#renaming to python words and cleaning data:\n",
    "python_words=clean_data(python_readme)"
   ]
  },
  {
   "cell_type": "code",
   "execution_count": null,
   "id": "9ac2eb23",
   "metadata": {},
   "outputs": [],
   "source": [
    "#finding all C readmes:\n",
    "C_readme =' '.join(master_df[master_df['language'] == 'C'].clean_readme)"
   ]
  },
  {
   "cell_type": "code",
   "execution_count": null,
   "id": "9f14b261",
   "metadata": {},
   "outputs": [],
   "source": [
    "#renaming to C words and cleaning data:\n",
    "C_words=clean_data(C_readme)"
   ]
  },
  {
   "cell_type": "code",
   "execution_count": null,
   "id": "2c444d2c",
   "metadata": {},
   "outputs": [],
   "source": [
    "#finding all dockerfile readmes:\n",
    "dockerfile_readme =' '.join(master_df[master_df['language'] == 'Dockerfile'].clean_readme)\n"
   ]
  },
  {
   "cell_type": "code",
   "execution_count": null,
   "id": "d18f678c",
   "metadata": {},
   "outputs": [],
   "source": [
    "#renaming to dockerfile words and cleaning data:\n",
    "dockerfile_words=clean_data(dockerfile_readme)"
   ]
  },
  {
   "cell_type": "code",
   "execution_count": null,
   "id": "6d9dc71e",
   "metadata": {},
   "outputs": [],
   "source": [
    "#creating series with frequencies by putting the clean_readme strings\n",
    "#as series (but use split to split up words into a list)\n",
    "\n",
    "shell_freq = pd.Series(shell_words.split()).value_counts()\n",
    "python_freq = pd.Series(python_words.split()).value_counts()\n",
    "dockerfile_freq = pd.Series(dockerfile_words.split()).value_counts()\n",
    "C_freq = pd.Series(C_words.split()).value_counts()"
   ]
  },
  {
   "cell_type": "code",
   "execution_count": null,
   "id": "5cc779fe",
   "metadata": {},
   "outputs": [],
   "source": [
    "#combining frequencies into dataframes:\n",
    "word_counts = (pd.concat([shell_freq, python_freq, C_freq, dockerfile_freq ], axis=1, sort=True)\n",
    "              .set_axis(['shell','python','C','dockerfile'], axis=1, inplace=False)\n",
    "              .fillna(0)\n",
    "              .apply(lambda s: s.astype(int)))"
   ]
  },
  {
   "cell_type": "code",
   "execution_count": null,
   "id": "80787fc3",
   "metadata": {},
   "outputs": [],
   "source": [
    "word_counts"
   ]
  },
  {
   "cell_type": "markdown",
   "id": "02f9bf27",
   "metadata": {},
   "source": [
    "### What are the most occuring words across these languages?"
   ]
  },
  {
   "cell_type": "code",
   "execution_count": null,
   "id": "ffc3e43c",
   "metadata": {},
   "outputs": [],
   "source": [
    "word_counts.sort_values(by='shell', ascending=False).head(10)"
   ]
  },
  {
   "cell_type": "markdown",
   "id": "a4033243",
   "metadata": {},
   "source": [
    "## How long is an average ReadMe across languages?"
   ]
  },
  {
   "cell_type": "code",
   "execution_count": null,
   "id": "52deb8d3",
   "metadata": {},
   "outputs": [],
   "source": [
    "#creating a column that gives the lenght of the readme_contents after clean_data function\n",
    "master_df['length_of_readme'] = master_df['readme_contents'].apply(lambda r : len(clean_data(r)))"
   ]
  },
  {
   "cell_type": "code",
   "execution_count": null,
   "id": "97b706d0",
   "metadata": {},
   "outputs": [],
   "source": [
    "master_df.head()"
   ]
  },
  {
   "cell_type": "code",
   "execution_count": null,
   "id": "8ca81bb9",
   "metadata": {},
   "outputs": [],
   "source": [
    "plt.figure(figsize=(18, 12))\n",
    "sns.barplot(data = master_df.groupby('language').mean().reset_index().sort_values('length_of_readme', ascending=False), x = 'length_of_readme', y='language')\n",
    "plt.title('Average Readme length by Language')\n",
    "plt.show()"
   ]
  },
  {
   "cell_type": "code",
   "execution_count": null,
   "id": "ddb09574",
   "metadata": {},
   "outputs": [],
   "source": [
    "## Number of Unique words:\n",
    "main_corpus_series = pd.Series(master_corpus_list)\n",
    "pd.Series(master_corpus_list).nunique()"
   ]
  },
  {
   "cell_type": "markdown",
   "id": "a7f99e79",
   "metadata": {},
   "source": [
    "### Most common bigrams:"
   ]
  },
  {
   "cell_type": "code",
   "execution_count": null,
   "id": "f42aa16b",
   "metadata": {},
   "outputs": [],
   "source": [
    "master_bigrams = (pd.Series(nltk.ngrams(main_corpus_series, 2)).value_counts().head(20))\n",
    "master_bigrams"
   ]
  },
  {
   "cell_type": "code",
   "execution_count": null,
   "id": "2646c760",
   "metadata": {},
   "outputs": [],
   "source": [
    "##realized I forgot to rename my cleaned df...will need to go back up and find that..."
   ]
  },
  {
   "cell_type": "markdown",
   "id": "975d74a0",
   "metadata": {},
   "source": [
    "__________________________________"
   ]
  },
  {
   "cell_type": "markdown",
   "id": "3f80b102",
   "metadata": {},
   "source": [
    "## Trying out the new stopwords:"
   ]
  },
  {
   "cell_type": "code",
   "execution_count": 2,
   "id": "b8a85868",
   "metadata": {},
   "outputs": [],
   "source": [
    "#calling in master_df:\n",
    "master_df = pd.read_csv('master_list.csv')"
   ]
  },
  {
   "cell_type": "code",
   "execution_count": 3,
   "id": "5dc9b1c8",
   "metadata": {},
   "outputs": [
    {
     "data": {
      "text/html": [
       "<div>\n",
       "<style scoped>\n",
       "    .dataframe tbody tr th:only-of-type {\n",
       "        vertical-align: middle;\n",
       "    }\n",
       "\n",
       "    .dataframe tbody tr th {\n",
       "        vertical-align: top;\n",
       "    }\n",
       "\n",
       "    .dataframe thead th {\n",
       "        text-align: right;\n",
       "    }\n",
       "</style>\n",
       "<table border=\"1\" class=\"dataframe\">\n",
       "  <thead>\n",
       "    <tr style=\"text-align: right;\">\n",
       "      <th></th>\n",
       "      <th>repo</th>\n",
       "      <th>language</th>\n",
       "      <th>readme_contents</th>\n",
       "      <th>distro</th>\n",
       "    </tr>\n",
       "  </thead>\n",
       "  <tbody>\n",
       "    <tr>\n",
       "      <th>0</th>\n",
       "      <td>dockerfile/ubuntu</td>\n",
       "      <td>Shell</td>\n",
       "      <td>## Ubuntu Dockerfile\\n\\n\\nThis repository cont...</td>\n",
       "      <td>ubuntu</td>\n",
       "    </tr>\n",
       "    <tr>\n",
       "      <th>1</th>\n",
       "      <td>boxcutter/ubuntu</td>\n",
       "      <td>Shell</td>\n",
       "      <td># Packer templates for Ubuntu written in legac...</td>\n",
       "      <td>ubuntu</td>\n",
       "    </tr>\n",
       "    <tr>\n",
       "      <th>2</th>\n",
       "      <td>wszqkzqk/deepin-wine-ubuntu</td>\n",
       "      <td>C</td>\n",
       "      <td># Deepin wine for Ubuntu and Debian\\n\\n## 一、项目...</td>\n",
       "      <td>ubuntu</td>\n",
       "    </tr>\n",
       "    <tr>\n",
       "      <th>3</th>\n",
       "      <td>fcwu/docker-ubuntu-vnc-desktop</td>\n",
       "      <td>HTML</td>\n",
       "      <td># docker-ubuntu-vnc-desktop\\n\\n[![Docker Pulls...</td>\n",
       "      <td>ubuntu</td>\n",
       "    </tr>\n",
       "    <tr>\n",
       "      <th>4</th>\n",
       "      <td>docker-32bit/ubuntu</td>\n",
       "      <td>Shell</td>\n",
       "      <td>ubuntu\\n======\\n\\nBuild a docker image for ubu...</td>\n",
       "      <td>ubuntu</td>\n",
       "    </tr>\n",
       "    <tr>\n",
       "      <th>...</th>\n",
       "      <td>...</td>\n",
       "      <td>...</td>\n",
       "      <td>...</td>\n",
       "      <td>...</td>\n",
       "    </tr>\n",
       "    <tr>\n",
       "      <th>3295</th>\n",
       "      <td>gmas/home-router-ansible</td>\n",
       "      <td>Ruby</td>\n",
       "      <td># home-router-ansible\\nAnsible scripts for set...</td>\n",
       "      <td>arch</td>\n",
       "    </tr>\n",
       "    <tr>\n",
       "      <th>3296</th>\n",
       "      <td>Voltasalt/tial</td>\n",
       "      <td>Shell</td>\n",
       "      <td># tial\\nTwitch Installs Arch Linux: Scripts\\n</td>\n",
       "      <td>arch</td>\n",
       "    </tr>\n",
       "    <tr>\n",
       "      <th>3297</th>\n",
       "      <td>Caesim404/sikulix-git</td>\n",
       "      <td>Shell</td>\n",
       "      <td>NaN</td>\n",
       "      <td>arch</td>\n",
       "    </tr>\n",
       "    <tr>\n",
       "      <th>3298</th>\n",
       "      <td>danboid/ZALARM-install</td>\n",
       "      <td>NaN</td>\n",
       "      <td># Installing Arch Linux ARM (ALARM) on the SHA...</td>\n",
       "      <td>arch</td>\n",
       "    </tr>\n",
       "    <tr>\n",
       "      <th>3299</th>\n",
       "      <td>BiteDasher/pacadd</td>\n",
       "      <td>Shell</td>\n",
       "      <td># pacadd\\nA simple tool for managing repositor...</td>\n",
       "      <td>arch</td>\n",
       "    </tr>\n",
       "  </tbody>\n",
       "</table>\n",
       "<p>3300 rows × 4 columns</p>\n",
       "</div>"
      ],
      "text/plain": [
       "                                repo language  \\\n",
       "0                  dockerfile/ubuntu    Shell   \n",
       "1                   boxcutter/ubuntu    Shell   \n",
       "2        wszqkzqk/deepin-wine-ubuntu        C   \n",
       "3     fcwu/docker-ubuntu-vnc-desktop     HTML   \n",
       "4                docker-32bit/ubuntu    Shell   \n",
       "...                              ...      ...   \n",
       "3295        gmas/home-router-ansible     Ruby   \n",
       "3296                  Voltasalt/tial    Shell   \n",
       "3297           Caesim404/sikulix-git    Shell   \n",
       "3298          danboid/ZALARM-install      NaN   \n",
       "3299               BiteDasher/pacadd    Shell   \n",
       "\n",
       "                                        readme_contents  distro  \n",
       "0     ## Ubuntu Dockerfile\\n\\n\\nThis repository cont...  ubuntu  \n",
       "1     # Packer templates for Ubuntu written in legac...  ubuntu  \n",
       "2     # Deepin wine for Ubuntu and Debian\\n\\n## 一、项目...  ubuntu  \n",
       "3     # docker-ubuntu-vnc-desktop\\n\\n[![Docker Pulls...  ubuntu  \n",
       "4     ubuntu\\n======\\n\\nBuild a docker image for ubu...  ubuntu  \n",
       "...                                                 ...     ...  \n",
       "3295  # home-router-ansible\\nAnsible scripts for set...    arch  \n",
       "3296      # tial\\nTwitch Installs Arch Linux: Scripts\\n    arch  \n",
       "3297                                                NaN    arch  \n",
       "3298  # Installing Arch Linux ARM (ALARM) on the SHA...    arch  \n",
       "3299  # pacadd\\nA simple tool for managing repositor...    arch  \n",
       "\n",
       "[3300 rows x 4 columns]"
      ]
     },
     "execution_count": 3,
     "metadata": {},
     "output_type": "execute_result"
    }
   ],
   "source": [
    "master_df"
   ]
  },
  {
   "cell_type": "code",
   "execution_count": 4,
   "id": "e2b1905d",
   "metadata": {},
   "outputs": [],
   "source": [
    "#using drop null function:\n",
    "master_df = constants_prepare.drop_nulls(master_df)"
   ]
  },
  {
   "cell_type": "code",
   "execution_count": 6,
   "id": "7fe9a9d7",
   "metadata": {},
   "outputs": [
    {
     "data": {
      "text/html": [
       "<div>\n",
       "<style scoped>\n",
       "    .dataframe tbody tr th:only-of-type {\n",
       "        vertical-align: middle;\n",
       "    }\n",
       "\n",
       "    .dataframe tbody tr th {\n",
       "        vertical-align: top;\n",
       "    }\n",
       "\n",
       "    .dataframe thead th {\n",
       "        text-align: right;\n",
       "    }\n",
       "</style>\n",
       "<table border=\"1\" class=\"dataframe\">\n",
       "  <thead>\n",
       "    <tr style=\"text-align: right;\">\n",
       "      <th></th>\n",
       "      <th>repo</th>\n",
       "      <th>language</th>\n",
       "      <th>readme_contents</th>\n",
       "      <th>distro</th>\n",
       "      <th>clean_readme</th>\n",
       "      <th>length_of_readme</th>\n",
       "    </tr>\n",
       "  </thead>\n",
       "  <tbody>\n",
       "    <tr>\n",
       "      <th>0</th>\n",
       "      <td>dockerfile/ubuntu</td>\n",
       "      <td>Shell</td>\n",
       "      <td>## Ubuntu Dockerfile\\n\\n\\nThis repository cont...</td>\n",
       "      <td>ubuntu</td>\n",
       "      <td>[ubuntu, dockerfil, repositori, contain, docke...</td>\n",
       "      <td>31</td>\n",
       "    </tr>\n",
       "    <tr>\n",
       "      <th>1</th>\n",
       "      <td>boxcutter/ubuntu</td>\n",
       "      <td>Shell</td>\n",
       "      <td># Packer templates for Ubuntu written in legac...</td>\n",
       "      <td>ubuntu</td>\n",
       "      <td>[packer, templat, ubuntu, written, legaci, jso...</td>\n",
       "      <td>501</td>\n",
       "    </tr>\n",
       "    <tr>\n",
       "      <th>2</th>\n",
       "      <td>wszqkzqk/deepin-wine-ubuntu</td>\n",
       "      <td>C</td>\n",
       "      <td># Deepin wine for Ubuntu and Debian\\n\\n## 一、项目...</td>\n",
       "      <td>ubuntu</td>\n",
       "      <td>[deepin, wine, ubuntu, debian, deepinwin, ubun...</td>\n",
       "      <td>164</td>\n",
       "    </tr>\n",
       "    <tr>\n",
       "      <th>3</th>\n",
       "      <td>fcwu/docker-ubuntu-vnc-desktop</td>\n",
       "      <td>HTML</td>\n",
       "      <td># docker-ubuntu-vnc-desktop\\n\\n[![Docker Pulls...</td>\n",
       "      <td>ubuntu</td>\n",
       "      <td>[dockerubuntuvncdesktop, docker, pull, docker,...</td>\n",
       "      <td>386</td>\n",
       "    </tr>\n",
       "    <tr>\n",
       "      <th>4</th>\n",
       "      <td>docker-32bit/ubuntu</td>\n",
       "      <td>Shell</td>\n",
       "      <td>ubuntu\\n======\\n\\nBuild a docker image for ubu...</td>\n",
       "      <td>ubuntu</td>\n",
       "      <td>[ubuntu, build, docker, imag, ubuntu, i386, ru...</td>\n",
       "      <td>14</td>\n",
       "    </tr>\n",
       "    <tr>\n",
       "      <th>...</th>\n",
       "      <td>...</td>\n",
       "      <td>...</td>\n",
       "      <td>...</td>\n",
       "      <td>...</td>\n",
       "      <td>...</td>\n",
       "      <td>...</td>\n",
       "    </tr>\n",
       "    <tr>\n",
       "      <th>3293</th>\n",
       "      <td>thatch45/varch</td>\n",
       "      <td>Python</td>\n",
       "      <td>==Why Do We Need Varch?==\\nThe use of virtuali...</td>\n",
       "      <td>arch</td>\n",
       "      <td>[need, use, rapidli, expand, linux, world, man...</td>\n",
       "      <td>365</td>\n",
       "    </tr>\n",
       "    <tr>\n",
       "      <th>3294</th>\n",
       "      <td>archclassroom/archclassroom.github.io</td>\n",
       "      <td>HTML</td>\n",
       "      <td># archclassroom.github.io\\nArch Linux Classroo...</td>\n",
       "      <td>arch</td>\n",
       "      <td>[archclassroomgithubio, arch, linux, classroom...</td>\n",
       "      <td>5</td>\n",
       "    </tr>\n",
       "    <tr>\n",
       "      <th>3295</th>\n",
       "      <td>gmas/home-router-ansible</td>\n",
       "      <td>Ruby</td>\n",
       "      <td># home-router-ansible\\nAnsible scripts for set...</td>\n",
       "      <td>arch</td>\n",
       "      <td>[homerouteran, ansibl, script, set, linux, rou...</td>\n",
       "      <td>18</td>\n",
       "    </tr>\n",
       "    <tr>\n",
       "      <th>3296</th>\n",
       "      <td>Voltasalt/tial</td>\n",
       "      <td>Shell</td>\n",
       "      <td># tial\\nTwitch Installs Arch Linux: Scripts\\n</td>\n",
       "      <td>arch</td>\n",
       "      <td>[tial, twitch, instal, arch, linux, script]</td>\n",
       "      <td>6</td>\n",
       "    </tr>\n",
       "    <tr>\n",
       "      <th>3299</th>\n",
       "      <td>BiteDasher/pacadd</td>\n",
       "      <td>Shell</td>\n",
       "      <td># pacadd\\nA simple tool for managing repositor...</td>\n",
       "      <td>arch</td>\n",
       "      <td>[pacadd, simpl, tool, manag, repositori, arch,...</td>\n",
       "      <td>221</td>\n",
       "    </tr>\n",
       "  </tbody>\n",
       "</table>\n",
       "<p>2805 rows × 6 columns</p>\n",
       "</div>"
      ],
      "text/plain": [
       "                                       repo language  \\\n",
       "0                         dockerfile/ubuntu    Shell   \n",
       "1                          boxcutter/ubuntu    Shell   \n",
       "2               wszqkzqk/deepin-wine-ubuntu        C   \n",
       "3            fcwu/docker-ubuntu-vnc-desktop     HTML   \n",
       "4                       docker-32bit/ubuntu    Shell   \n",
       "...                                     ...      ...   \n",
       "3293                         thatch45/varch   Python   \n",
       "3294  archclassroom/archclassroom.github.io     HTML   \n",
       "3295               gmas/home-router-ansible     Ruby   \n",
       "3296                         Voltasalt/tial    Shell   \n",
       "3299                      BiteDasher/pacadd    Shell   \n",
       "\n",
       "                                        readme_contents  distro  \\\n",
       "0     ## Ubuntu Dockerfile\\n\\n\\nThis repository cont...  ubuntu   \n",
       "1     # Packer templates for Ubuntu written in legac...  ubuntu   \n",
       "2     # Deepin wine for Ubuntu and Debian\\n\\n## 一、项目...  ubuntu   \n",
       "3     # docker-ubuntu-vnc-desktop\\n\\n[![Docker Pulls...  ubuntu   \n",
       "4     ubuntu\\n======\\n\\nBuild a docker image for ubu...  ubuntu   \n",
       "...                                                 ...     ...   \n",
       "3293  ==Why Do We Need Varch?==\\nThe use of virtuali...    arch   \n",
       "3294  # archclassroom.github.io\\nArch Linux Classroo...    arch   \n",
       "3295  # home-router-ansible\\nAnsible scripts for set...    arch   \n",
       "3296      # tial\\nTwitch Installs Arch Linux: Scripts\\n    arch   \n",
       "3299  # pacadd\\nA simple tool for managing repositor...    arch   \n",
       "\n",
       "                                           clean_readme  length_of_readme  \n",
       "0     [ubuntu, dockerfil, repositori, contain, docke...                31  \n",
       "1     [packer, templat, ubuntu, written, legaci, jso...               501  \n",
       "2     [deepin, wine, ubuntu, debian, deepinwin, ubun...               164  \n",
       "3     [dockerubuntuvncdesktop, docker, pull, docker,...               386  \n",
       "4     [ubuntu, build, docker, imag, ubuntu, i386, ru...                14  \n",
       "...                                                 ...               ...  \n",
       "3293  [need, use, rapidli, expand, linux, world, man...               365  \n",
       "3294  [archclassroomgithubio, arch, linux, classroom...                 5  \n",
       "3295  [homerouteran, ansibl, script, set, linux, rou...                18  \n",
       "3296        [tial, twitch, instal, arch, linux, script]                 6  \n",
       "3299  [pacadd, simpl, tool, manag, repositori, arch,...               221  \n",
       "\n",
       "[2805 rows x 6 columns]"
      ]
     },
     "execution_count": 6,
     "metadata": {},
     "output_type": "execute_result"
    }
   ],
   "source": [
    "#pulling in new columns:\n",
    "master_df = constants_prepare.adding_columns(master_df)\n",
    "master_df"
   ]
  },
  {
   "cell_type": "code",
   "execution_count": null,
   "id": "54b2b643",
   "metadata": {},
   "outputs": [],
   "source": []
  },
  {
   "cell_type": "code",
   "execution_count": null,
   "id": "e0c88d35",
   "metadata": {},
   "outputs": [],
   "source": []
  }
 ],
 "metadata": {
  "kernelspec": {
   "display_name": "Python 3 (ipykernel)",
   "language": "python",
   "name": "python3"
  },
  "language_info": {
   "codemirror_mode": {
    "name": "ipython",
    "version": 3
   },
   "file_extension": ".py",
   "mimetype": "text/x-python",
   "name": "python",
   "nbconvert_exporter": "python",
   "pygments_lexer": "ipython3",
   "version": "3.9.7"
  }
 },
 "nbformat": 4,
 "nbformat_minor": 5
}

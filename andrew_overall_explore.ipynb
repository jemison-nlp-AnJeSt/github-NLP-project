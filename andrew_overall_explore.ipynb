{
 "cells": [
  {
   "cell_type": "code",
   "execution_count": 28,
   "id": "ef603217",
   "metadata": {},
   "outputs": [],
   "source": [
    "from bs4 import BeautifulSoup\n",
    "import pandas as pd\n",
    "import re\n",
    "import matplotlib.pyplot as plt\n",
    "import seaborn as sns\n",
    "\n",
    "import nltk\n",
    "from nltk.tokenize.toktok import ToktokTokenizer\n",
    "from nltk.corpus import stopwords\n",
    "import unicodedata\n",
    "\n",
    "import constants_prepare as prepare"
   ]
  },
  {
   "cell_type": "code",
   "execution_count": 29,
   "id": "e2483afb",
   "metadata": {},
   "outputs": [],
   "source": [
    "df = pd.read_csv('master_list.csv')"
   ]
  },
  {
   "cell_type": "code",
   "execution_count": 30,
   "id": "ba2c70b7",
   "metadata": {},
   "outputs": [
    {
     "data": {
      "text/html": [
       "<div>\n",
       "<style scoped>\n",
       "    .dataframe tbody tr th:only-of-type {\n",
       "        vertical-align: middle;\n",
       "    }\n",
       "\n",
       "    .dataframe tbody tr th {\n",
       "        vertical-align: top;\n",
       "    }\n",
       "\n",
       "    .dataframe thead th {\n",
       "        text-align: right;\n",
       "    }\n",
       "</style>\n",
       "<table border=\"1\" class=\"dataframe\">\n",
       "  <thead>\n",
       "    <tr style=\"text-align: right;\">\n",
       "      <th></th>\n",
       "      <th>repo</th>\n",
       "      <th>language</th>\n",
       "      <th>readme_contents</th>\n",
       "    </tr>\n",
       "  </thead>\n",
       "  <tbody>\n",
       "    <tr>\n",
       "      <th>0</th>\n",
       "      <td>dockerfile/ubuntu</td>\n",
       "      <td>Shell</td>\n",
       "      <td>## Ubuntu Dockerfile\\n\\n\\nThis repository cont...</td>\n",
       "    </tr>\n",
       "    <tr>\n",
       "      <th>1</th>\n",
       "      <td>boxcutter/ubuntu</td>\n",
       "      <td>Shell</td>\n",
       "      <td># Packer templates for Ubuntu written in legac...</td>\n",
       "    </tr>\n",
       "    <tr>\n",
       "      <th>2</th>\n",
       "      <td>wszqkzqk/deepin-wine-ubuntu</td>\n",
       "      <td>C</td>\n",
       "      <td># Deepin wine for Ubuntu and Debian\\n\\n## 一、项目...</td>\n",
       "    </tr>\n",
       "    <tr>\n",
       "      <th>3</th>\n",
       "      <td>fcwu/docker-ubuntu-vnc-desktop</td>\n",
       "      <td>HTML</td>\n",
       "      <td># docker-ubuntu-vnc-desktop\\n\\n[![Docker Pulls...</td>\n",
       "    </tr>\n",
       "    <tr>\n",
       "      <th>4</th>\n",
       "      <td>docker-32bit/ubuntu</td>\n",
       "      <td>Shell</td>\n",
       "      <td>ubuntu\\n======\\n\\nBuild a docker image for ubu...</td>\n",
       "    </tr>\n",
       "    <tr>\n",
       "      <th>...</th>\n",
       "      <td>...</td>\n",
       "      <td>...</td>\n",
       "      <td>...</td>\n",
       "    </tr>\n",
       "    <tr>\n",
       "      <th>3295</th>\n",
       "      <td>gmas/home-router-ansible</td>\n",
       "      <td>Ruby</td>\n",
       "      <td># home-router-ansible\\nAnsible scripts for set...</td>\n",
       "    </tr>\n",
       "    <tr>\n",
       "      <th>3296</th>\n",
       "      <td>Voltasalt/tial</td>\n",
       "      <td>Shell</td>\n",
       "      <td># tial\\nTwitch Installs Arch Linux: Scripts\\n</td>\n",
       "    </tr>\n",
       "    <tr>\n",
       "      <th>3297</th>\n",
       "      <td>Caesim404/sikulix-git</td>\n",
       "      <td>Shell</td>\n",
       "      <td>NaN</td>\n",
       "    </tr>\n",
       "    <tr>\n",
       "      <th>3298</th>\n",
       "      <td>danboid/ZALARM-install</td>\n",
       "      <td>NaN</td>\n",
       "      <td># Installing Arch Linux ARM (ALARM) on the SHA...</td>\n",
       "    </tr>\n",
       "    <tr>\n",
       "      <th>3299</th>\n",
       "      <td>BiteDasher/pacadd</td>\n",
       "      <td>Shell</td>\n",
       "      <td># pacadd\\nA simple tool for managing repositor...</td>\n",
       "    </tr>\n",
       "  </tbody>\n",
       "</table>\n",
       "<p>3300 rows × 3 columns</p>\n",
       "</div>"
      ],
      "text/plain": [
       "                                repo language  \\\n",
       "0                  dockerfile/ubuntu    Shell   \n",
       "1                   boxcutter/ubuntu    Shell   \n",
       "2        wszqkzqk/deepin-wine-ubuntu        C   \n",
       "3     fcwu/docker-ubuntu-vnc-desktop     HTML   \n",
       "4                docker-32bit/ubuntu    Shell   \n",
       "...                              ...      ...   \n",
       "3295        gmas/home-router-ansible     Ruby   \n",
       "3296                  Voltasalt/tial    Shell   \n",
       "3297           Caesim404/sikulix-git    Shell   \n",
       "3298          danboid/ZALARM-install      NaN   \n",
       "3299               BiteDasher/pacadd    Shell   \n",
       "\n",
       "                                        readme_contents  \n",
       "0     ## Ubuntu Dockerfile\\n\\n\\nThis repository cont...  \n",
       "1     # Packer templates for Ubuntu written in legac...  \n",
       "2     # Deepin wine for Ubuntu and Debian\\n\\n## 一、项目...  \n",
       "3     # docker-ubuntu-vnc-desktop\\n\\n[![Docker Pulls...  \n",
       "4     ubuntu\\n======\\n\\nBuild a docker image for ubu...  \n",
       "...                                                 ...  \n",
       "3295  # home-router-ansible\\nAnsible scripts for set...  \n",
       "3296      # tial\\nTwitch Installs Arch Linux: Scripts\\n  \n",
       "3297                                                NaN  \n",
       "3298  # Installing Arch Linux ARM (ALARM) on the SHA...  \n",
       "3299  # pacadd\\nA simple tool for managing repositor...  \n",
       "\n",
       "[3300 rows x 3 columns]"
      ]
     },
     "execution_count": 30,
     "metadata": {},
     "output_type": "execute_result"
    }
   ],
   "source": [
    "df"
   ]
  },
  {
   "cell_type": "code",
   "execution_count": 31,
   "id": "ad57b1ce",
   "metadata": {},
   "outputs": [],
   "source": [
    "def no_stem_clean_data(text):\n",
    "    ps = nltk.porter.PorterStemmer()\n",
    "    stopwords = nltk.corpus.stopwords.words('english') + prepare.ADDITIONAL_STOPWORDS\n",
    "    text = (unicodedata.normalize('NFKD', text)\n",
    "             .encode('ascii', 'ignore')\n",
    "             .decode('utf-8', 'ignore')\n",
    "             .lower())\n",
    "    words = re.sub(r'[\\(<\\\"]?http.*[\\)>\\\"\\s]', ' ', text).split()\n",
    "    words = [re.sub(r'[^\\w\\s]', '', text) for text in words]\n",
    "    try:\n",
    "        while True:\n",
    "            words.remove('')\n",
    "    except ValueError:\n",
    "        pass\n",
    "    \n",
    "    return [word for word in words if word not in stopwords]"
   ]
  },
  {
   "cell_type": "code",
   "execution_count": 32,
   "id": "6a364713",
   "metadata": {
    "scrolled": true
   },
   "outputs": [],
   "source": [
    "df = df.dropna().reset_index().drop(columns= 'index')"
   ]
  },
  {
   "cell_type": "code",
   "execution_count": 33,
   "id": "e82f7abf",
   "metadata": {},
   "outputs": [],
   "source": [
    "df['cleaned_readme'] = df.readme_contents.apply(no_stem_clean_data)"
   ]
  },
  {
   "cell_type": "code",
   "execution_count": 34,
   "id": "b84f4ce8",
   "metadata": {},
   "outputs": [
    {
     "name": "stderr",
     "output_type": "stream",
     "text": [
      "/var/folders/r6/g880v64s6vj401drwcc37nf00000gn/T/ipykernel_18025/3436486525.py:3: SettingWithCopyWarning: \n",
      "A value is trying to be set on a copy of a slice from a DataFrame\n",
      "\n",
      "See the caveats in the documentation: https://pandas.pydata.org/pandas-docs/stable/user_guide/indexing.html#returning-a-view-versus-a-copy\n",
      "  df['cleaned_length'][i] = len(df.cleaned_readme[i])\n"
     ]
    }
   ],
   "source": [
    "df['cleaned_length'] = 0\n",
    "for i in range(len(df.cleaned_readme)):\n",
    "    df['cleaned_length'][i] = len(df.cleaned_readme[i])"
   ]
  },
  {
   "cell_type": "code",
   "execution_count": 35,
   "id": "55d329f3",
   "metadata": {},
   "outputs": [
    {
     "data": {
      "text/html": [
       "<div>\n",
       "<style scoped>\n",
       "    .dataframe tbody tr th:only-of-type {\n",
       "        vertical-align: middle;\n",
       "    }\n",
       "\n",
       "    .dataframe tbody tr th {\n",
       "        vertical-align: top;\n",
       "    }\n",
       "\n",
       "    .dataframe thead th {\n",
       "        text-align: right;\n",
       "    }\n",
       "</style>\n",
       "<table border=\"1\" class=\"dataframe\">\n",
       "  <thead>\n",
       "    <tr style=\"text-align: right;\">\n",
       "      <th></th>\n",
       "      <th>repo</th>\n",
       "      <th>language</th>\n",
       "      <th>readme_contents</th>\n",
       "      <th>cleaned_readme</th>\n",
       "      <th>cleaned_length</th>\n",
       "    </tr>\n",
       "  </thead>\n",
       "  <tbody>\n",
       "    <tr>\n",
       "      <th>0</th>\n",
       "      <td>dockerfile/ubuntu</td>\n",
       "      <td>Shell</td>\n",
       "      <td>## Ubuntu Dockerfile\\n\\n\\nThis repository cont...</td>\n",
       "      <td>[dockerfile, repository, contains, dockerfile,...</td>\n",
       "      <td>29</td>\n",
       "    </tr>\n",
       "    <tr>\n",
       "      <th>1</th>\n",
       "      <td>boxcutter/ubuntu</td>\n",
       "      <td>Shell</td>\n",
       "      <td># Packer templates for Ubuntu written in legac...</td>\n",
       "      <td>[packer, templates, written, legacy, json, ove...</td>\n",
       "      <td>515</td>\n",
       "    </tr>\n",
       "    <tr>\n",
       "      <th>2</th>\n",
       "      <td>wszqkzqk/deepin-wine-ubuntu</td>\n",
       "      <td>C</td>\n",
       "      <td># Deepin wine for Ubuntu and Debian\\n\\n## 一、项目...</td>\n",
       "      <td>[deepin, wine, deepinwine, ubuntudebian, deepi...</td>\n",
       "      <td>155</td>\n",
       "    </tr>\n",
       "    <tr>\n",
       "      <th>3</th>\n",
       "      <td>fcwu/docker-ubuntu-vnc-desktop</td>\n",
       "      <td>HTML</td>\n",
       "      <td># docker-ubuntu-vnc-desktop\\n\\n[![Docker Pulls...</td>\n",
       "      <td>[dockerubuntuvncdesktop, docker, pulls, docker...</td>\n",
       "      <td>416</td>\n",
       "    </tr>\n",
       "    <tr>\n",
       "      <th>4</th>\n",
       "      <td>docker-32bit/ubuntu</td>\n",
       "      <td>Shell</td>\n",
       "      <td>ubuntu\\n======\\n\\nBuild a docker image for ubu...</td>\n",
       "      <td>[build, docker, image, i386, run, buildimagesh...</td>\n",
       "      <td>12</td>\n",
       "    </tr>\n",
       "    <tr>\n",
       "      <th>...</th>\n",
       "      <td>...</td>\n",
       "      <td>...</td>\n",
       "      <td>...</td>\n",
       "      <td>...</td>\n",
       "      <td>...</td>\n",
       "    </tr>\n",
       "    <tr>\n",
       "      <th>2800</th>\n",
       "      <td>thatch45/varch</td>\n",
       "      <td>Python</td>\n",
       "      <td>==Why Do We Need Varch?==\\nThe use of virtuali...</td>\n",
       "      <td>[need, varch, use, virtualization, rapidly, ex...</td>\n",
       "      <td>393</td>\n",
       "    </tr>\n",
       "    <tr>\n",
       "      <th>2801</th>\n",
       "      <td>archclassroom/archclassroom.github.io</td>\n",
       "      <td>HTML</td>\n",
       "      <td># archclassroom.github.io\\nArch Linux Classroo...</td>\n",
       "      <td>[archclassroomgithubio, classroom, website]</td>\n",
       "      <td>3</td>\n",
       "    </tr>\n",
       "    <tr>\n",
       "      <th>2802</th>\n",
       "      <td>gmas/home-router-ansible</td>\n",
       "      <td>Ruby</td>\n",
       "      <td># home-router-ansible\\nAnsible scripts for set...</td>\n",
       "      <td>[homerouteransible, ansible, scripts, setting,...</td>\n",
       "      <td>18</td>\n",
       "    </tr>\n",
       "    <tr>\n",
       "      <th>2803</th>\n",
       "      <td>Voltasalt/tial</td>\n",
       "      <td>Shell</td>\n",
       "      <td># tial\\nTwitch Installs Arch Linux: Scripts\\n</td>\n",
       "      <td>[tial, twitch, installs, scripts]</td>\n",
       "      <td>4</td>\n",
       "    </tr>\n",
       "    <tr>\n",
       "      <th>2804</th>\n",
       "      <td>BiteDasher/pacadd</td>\n",
       "      <td>Shell</td>\n",
       "      <td># pacadd\\nA simple tool for managing repositor...</td>\n",
       "      <td>[pacadd, simple, tool, managing, repositories,...</td>\n",
       "      <td>219</td>\n",
       "    </tr>\n",
       "  </tbody>\n",
       "</table>\n",
       "<p>2805 rows × 5 columns</p>\n",
       "</div>"
      ],
      "text/plain": [
       "                                       repo language  \\\n",
       "0                         dockerfile/ubuntu    Shell   \n",
       "1                          boxcutter/ubuntu    Shell   \n",
       "2               wszqkzqk/deepin-wine-ubuntu        C   \n",
       "3            fcwu/docker-ubuntu-vnc-desktop     HTML   \n",
       "4                       docker-32bit/ubuntu    Shell   \n",
       "...                                     ...      ...   \n",
       "2800                         thatch45/varch   Python   \n",
       "2801  archclassroom/archclassroom.github.io     HTML   \n",
       "2802               gmas/home-router-ansible     Ruby   \n",
       "2803                         Voltasalt/tial    Shell   \n",
       "2804                      BiteDasher/pacadd    Shell   \n",
       "\n",
       "                                        readme_contents  \\\n",
       "0     ## Ubuntu Dockerfile\\n\\n\\nThis repository cont...   \n",
       "1     # Packer templates for Ubuntu written in legac...   \n",
       "2     # Deepin wine for Ubuntu and Debian\\n\\n## 一、项目...   \n",
       "3     # docker-ubuntu-vnc-desktop\\n\\n[![Docker Pulls...   \n",
       "4     ubuntu\\n======\\n\\nBuild a docker image for ubu...   \n",
       "...                                                 ...   \n",
       "2800  ==Why Do We Need Varch?==\\nThe use of virtuali...   \n",
       "2801  # archclassroom.github.io\\nArch Linux Classroo...   \n",
       "2802  # home-router-ansible\\nAnsible scripts for set...   \n",
       "2803      # tial\\nTwitch Installs Arch Linux: Scripts\\n   \n",
       "2804  # pacadd\\nA simple tool for managing repositor...   \n",
       "\n",
       "                                         cleaned_readme  cleaned_length  \n",
       "0     [dockerfile, repository, contains, dockerfile,...              29  \n",
       "1     [packer, templates, written, legacy, json, ove...             515  \n",
       "2     [deepin, wine, deepinwine, ubuntudebian, deepi...             155  \n",
       "3     [dockerubuntuvncdesktop, docker, pulls, docker...             416  \n",
       "4     [build, docker, image, i386, run, buildimagesh...              12  \n",
       "...                                                 ...             ...  \n",
       "2800  [need, varch, use, virtualization, rapidly, ex...             393  \n",
       "2801        [archclassroomgithubio, classroom, website]               3  \n",
       "2802  [homerouteransible, ansible, scripts, setting,...              18  \n",
       "2803                  [tial, twitch, installs, scripts]               4  \n",
       "2804  [pacadd, simple, tool, managing, repositories,...             219  \n",
       "\n",
       "[2805 rows x 5 columns]"
      ]
     },
     "execution_count": 35,
     "metadata": {},
     "output_type": "execute_result"
    }
   ],
   "source": [
    "df"
   ]
  },
  {
   "cell_type": "markdown",
   "id": "6e5182af",
   "metadata": {},
   "source": [
    "# Looking at value counts of all words prior to stemming"
   ]
  },
  {
   "cell_type": "code",
   "execution_count": 44,
   "id": "7e7a0c7a",
   "metadata": {},
   "outputs": [
    {
     "data": {
      "text/plain": [
       "count      971452\n",
       "unique      94937\n",
       "top       install\n",
       "freq         8651\n",
       "dtype: object"
      ]
     },
     "execution_count": 44,
     "metadata": {},
     "output_type": "execute_result"
    }
   ],
   "source": [
    "corpus_list = []\n",
    "for entry in range(len(df.readme_contents)):\n",
    "    corpus_list.extend(df.cleaned_readme[entry])\n",
    "corpus = pd.Series(corpus_list)\n",
    "corpus.describe()"
   ]
  },
  {
   "cell_type": "code",
   "execution_count": 45,
   "id": "a2f9c4a4",
   "metadata": {},
   "outputs": [
    {
     "data": {
      "text/plain": [
       "install     8651\n",
       "use         6226\n",
       "run         5762\n",
       "file        5267\n",
       "script      4381\n",
       "default     4105\n",
       "build       4052\n",
       "system      3848\n",
       "using       3686\n",
       "docker      3646\n",
       "make        3617\n",
       "kernel      3517\n",
       "bash        3506\n",
       "packages    3474\n",
       "1           3455\n",
       "version     3435\n",
       "package     3384\n",
       "image       3372\n",
       "set         3183\n",
       "server      3138\n",
       "dtype: int64"
      ]
     },
     "execution_count": 45,
     "metadata": {},
     "output_type": "execute_result"
    }
   ],
   "source": [
    "corpus.value_counts().sort_values(ascending=False).head(20)"
   ]
  },
  {
   "cell_type": "code",
   "execution_count": 43,
   "id": "8fef2ec3",
   "metadata": {},
   "outputs": [
    {
     "data": {
      "text/plain": [
       "0         dockerfile\n",
       "1         repository\n",
       "2           contains\n",
       "3         dockerfile\n",
       "4               base\n",
       "             ...    \n",
       "971447           url\n",
       "971448          isok\n",
       "971449           aur\n",
       "971450         clone\n",
       "971451          link\n",
       "Length: 971452, dtype: object"
      ]
     },
     "execution_count": 43,
     "metadata": {},
     "output_type": "execute_result"
    }
   ],
   "source": [
    "corpus"
   ]
  },
  {
   "cell_type": "markdown",
   "id": "46216957",
   "metadata": {},
   "source": [
    "Look at frequency of words in languages next"
   ]
  },
  {
   "cell_type": "markdown",
   "id": "8775bacc",
   "metadata": {},
   "source": [
    "# Exploring Overall Data"
   ]
  },
  {
   "cell_type": "code",
   "execution_count": 36,
   "id": "5e5d3e49",
   "metadata": {},
   "outputs": [
    {
     "data": {
      "text/plain": [
       "count     2805.000000\n",
       "mean       346.328699\n",
       "std        814.688050\n",
       "min          0.000000\n",
       "25%         57.000000\n",
       "50%        150.000000\n",
       "75%        348.000000\n",
       "max      22148.000000\n",
       "Name: cleaned_length, dtype: float64"
      ]
     },
     "execution_count": 36,
     "metadata": {},
     "output_type": "execute_result"
    }
   ],
   "source": [
    "df.cleaned_length.describe()"
   ]
  }
 ],
 "metadata": {
  "kernelspec": {
   "display_name": "Python 3 (ipykernel)",
   "language": "python",
   "name": "python3"
  },
  "language_info": {
   "codemirror_mode": {
    "name": "ipython",
    "version": 3
   },
   "file_extension": ".py",
   "mimetype": "text/x-python",
   "name": "python",
   "nbconvert_exporter": "python",
   "pygments_lexer": "ipython3",
   "version": "3.9.7"
  }
 },
 "nbformat": 4,
 "nbformat_minor": 5
}

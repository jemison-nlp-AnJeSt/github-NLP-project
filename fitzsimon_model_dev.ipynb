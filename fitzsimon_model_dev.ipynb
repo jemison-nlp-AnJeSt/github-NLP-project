{
 "cells": [
  {
   "cell_type": "code",
   "execution_count": 1,
   "id": "f949f987-2ad6-487f-89b7-2fa92e29c581",
   "metadata": {},
   "outputs": [],
   "source": [
    "import pandas as pd\n",
    "\n",
    "from sklearn.metrics import classification_report, accuracy_score\n",
    "\n",
    "import modeling as m\n",
    "\n",
    "#ignore minor warnings\n",
    "import warnings\n",
    "warnings.filterwarnings(\"ignore\")"
   ]
  },
  {
   "cell_type": "markdown",
   "id": "70c50197-2cac-42d0-98dd-f51bc72ef88f",
   "metadata": {},
   "source": [
    "# Key takeaways\n",
    "\n",
    "- The data is vectorized, taking the top 500 features, and combinations of words from word to quadgrams\n",
    "- A series of classification models is used, along with an ensemble models of Random Forests and BaggingClassifier (using LogisticRegression, KNNeighbors, DecisionTrees, and ExtraTreesClassifier)\n",
    "- the best model is the BaggingClassifier using the DecisionTree with an accuracy of ENTER ACCURACY\n",
    "- The models are severely overfitting to the train and validate data; however, the models remain more accurate than the baseline. Possibly gathering more data would be useful to improve the model, or running more hyperparameters on the TfidfVectorizer.\n",
    "\n",
    "# Data Eater (MMM = Mass Model Maker)"
   ]
  },
  {
   "cell_type": "code",
   "execution_count": 2,
   "id": "80291ceb-9109-4875-a472-7a8c077a7073",
   "metadata": {
    "tags": []
   },
   "outputs": [],
   "source": [
    "df_master = pd.read_csv('master_list.csv')\n",
    "train, validate, test = m.make_model_dfs(df_master)\n",
    "# models_df = m.model_maker(train, validate)"
   ]
  },
  {
   "cell_type": "code",
   "execution_count": 3,
   "id": "f52baf62-be88-43b6-9852-190ab549ffc3",
   "metadata": {},
   "outputs": [],
   "source": [
    "# models_df.sort_values(['better_than_baseline', 'validate_accuracy'], ascending = False).head(25)"
   ]
  },
  {
   "cell_type": "code",
   "execution_count": 4,
   "id": "753a989a-f7f0-419c-98ac-8521aa6281af",
   "metadata": {},
   "outputs": [],
   "source": [
    "# models_df['change'] = models_df['train_accuracy'] - models_df['validate_accuracy']\n",
    "# models_df.sort_values(['validate_accuracy','better_than_baseline'], ascending=False).head(50)"
   ]
  },
  {
   "cell_type": "code",
   "execution_count": 5,
   "id": "33e45718-a84c-40a8-9cfd-3d1f6fddbcbe",
   "metadata": {},
   "outputs": [
    {
     "data": {
      "text/html": [
       "<div>\n",
       "<style scoped>\n",
       "    .dataframe tbody tr th:only-of-type {\n",
       "        vertical-align: middle;\n",
       "    }\n",
       "\n",
       "    .dataframe tbody tr th {\n",
       "        vertical-align: top;\n",
       "    }\n",
       "\n",
       "    .dataframe thead th {\n",
       "        text-align: right;\n",
       "    }\n",
       "</style>\n",
       "<table border=\"1\" class=\"dataframe\">\n",
       "  <thead>\n",
       "    <tr style=\"text-align: right;\">\n",
       "      <th></th>\n",
       "      <th>model</th>\n",
       "      <th>attributes</th>\n",
       "      <th>train_accuracy</th>\n",
       "      <th>validate_accuracy</th>\n",
       "      <th>test_accuracy</th>\n",
       "      <th>better_than_baseline</th>\n",
       "    </tr>\n",
       "  </thead>\n",
       "  <tbody>\n",
       "    <tr>\n",
       "      <th>0</th>\n",
       "      <td>BaggingClassifier</td>\n",
       "      <td>estimator = DecisionTreeClassifier</td>\n",
       "      <td>0.965042</td>\n",
       "      <td>0.891995</td>\n",
       "      <td>0.631512</td>\n",
       "      <td>True</td>\n",
       "    </tr>\n",
       "  </tbody>\n",
       "</table>\n",
       "</div>"
      ],
      "text/plain": [
       "               model                          attributes  train_accuracy  \\\n",
       "0  BaggingClassifier  estimator = DecisionTreeClassifier        0.965042   \n",
       "\n",
       "   validate_accuracy  test_accuracy  better_than_baseline  \n",
       "0           0.891995       0.631512                  True  "
      ]
     },
     "execution_count": 5,
     "metadata": {},
     "output_type": "execute_result"
    }
   ],
   "source": [
    "m.test_model(train, validate, test)"
   ]
  },
  {
   "cell_type": "markdown",
   "id": "93df12ad-675d-4b92-a53f-601e9b5d8c64",
   "metadata": {},
   "source": [
    "# Dev notes"
   ]
  },
  {
   "cell_type": "code",
   "execution_count": 6,
   "id": "f185d2a9-64fd-4333-ac9a-f27a153e8e47",
   "metadata": {},
   "outputs": [],
   "source": [
    "# df_master = pd.read_csv('master_list.csv')\n",
    "# df_master"
   ]
  },
  {
   "cell_type": "code",
   "execution_count": 7,
   "id": "495c14cf-5a20-4815-8226-5aa6109594f2",
   "metadata": {},
   "outputs": [],
   "source": [
    "# # take only the top langauges\n",
    "# df_master = m.filter_languages(df_master)\n",
    "# df_master.language.value_counts()"
   ]
  },
  {
   "cell_type": "code",
   "execution_count": 8,
   "id": "18597137-652a-412d-9c34-c0ff57b1d76f",
   "metadata": {
    "tags": []
   },
   "outputs": [],
   "source": [
    "#get a clean readme corpus to pass into \n",
    "# df_master['cleaned_readme'] = df_master.readme_contents.apply(m.clean_data)\n",
    "# df_master"
   ]
  },
  {
   "cell_type": "code",
   "execution_count": 9,
   "id": "1fe5c9aa-9650-48dc-8d44-fae950d17fb4",
   "metadata": {},
   "outputs": [],
   "source": [
    "# drop nulls\n",
    "# df_master = m.drop_nulls(df_master)\n",
    "# df_master.shape"
   ]
  },
  {
   "cell_type": "code",
   "execution_count": 10,
   "id": "556212a7-cfc1-4336-9080-f67cbd0c1d20",
   "metadata": {},
   "outputs": [],
   "source": [
    "# split data\n",
    "# train, validate, test = m.split_data(df_master)\n",
    "# train.shape, validate.shape, test.shape"
   ]
  },
  {
   "cell_type": "code",
   "execution_count": 11,
   "id": "cb7df0e0-a131-461e-ba6f-901ca42d8b9a",
   "metadata": {},
   "outputs": [],
   "source": [
    "# X_train, y_train, X_validate, y_validate = m.make_X_y_df(train, validate)"
   ]
  },
  {
   "cell_type": "code",
   "execution_count": 12,
   "id": "51e6f1e9-a34f-44eb-9f5c-b22e5eaf89ad",
   "metadata": {},
   "outputs": [],
   "source": [
    "# pd.DataFrame(X_validate.todense())"
   ]
  },
  {
   "cell_type": "code",
   "execution_count": 13,
   "id": "98501d33-cc2e-412f-b24a-5cd3088cdc79",
   "metadata": {},
   "outputs": [],
   "source": [
    "# pd.DataFrame(X_train.todense())"
   ]
  },
  {
   "cell_type": "code",
   "execution_count": 14,
   "id": "d4041153-fc5b-431b-83a5-342bf66d3170",
   "metadata": {},
   "outputs": [],
   "source": [
    "# m.make_log_reg_model(train, validate, 0.52)"
   ]
  }
 ],
 "metadata": {
  "kernelspec": {
   "display_name": "Python 3 (ipykernel)",
   "language": "python",
   "name": "python3"
  },
  "language_info": {
   "codemirror_mode": {
    "name": "ipython",
    "version": 3
   },
   "file_extension": ".py",
   "mimetype": "text/x-python",
   "name": "python",
   "nbconvert_exporter": "python",
   "pygments_lexer": "ipython3",
   "version": "3.9.12"
  }
 },
 "nbformat": 4,
 "nbformat_minor": 5
}

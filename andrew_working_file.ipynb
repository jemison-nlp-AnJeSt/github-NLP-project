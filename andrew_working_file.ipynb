{
 "cells": [
  {
   "cell_type": "code",
   "execution_count": 1,
   "id": "d740d8d7",
   "metadata": {},
   "outputs": [],
   "source": [
    "from bs4 import BeautifulSoup\n",
    "import pandas as pd\n",
    "import re\n",
    "import matplotlib.pyplot as plt\n",
    "import seaborn as sns\n",
    "\n",
    "import nltk\n",
    "from nltk.tokenize.toktok import ToktokTokenizer\n",
    "from nltk.corpus import stopwords\n",
    "import unicodedata"
   ]
  },
  {
   "cell_type": "code",
   "execution_count": 2,
   "id": "fbd3b5fc",
   "metadata": {},
   "outputs": [
    {
     "data": {
      "text/html": [
       "<div>\n",
       "<style scoped>\n",
       "    .dataframe tbody tr th:only-of-type {\n",
       "        vertical-align: middle;\n",
       "    }\n",
       "\n",
       "    .dataframe tbody tr th {\n",
       "        vertical-align: top;\n",
       "    }\n",
       "\n",
       "    .dataframe thead th {\n",
       "        text-align: right;\n",
       "    }\n",
       "</style>\n",
       "<table border=\"1\" class=\"dataframe\">\n",
       "  <thead>\n",
       "    <tr style=\"text-align: right;\">\n",
       "      <th></th>\n",
       "      <th>repo</th>\n",
       "      <th>language</th>\n",
       "      <th>readme_contents</th>\n",
       "    </tr>\n",
       "  </thead>\n",
       "  <tbody>\n",
       "    <tr>\n",
       "      <th>0</th>\n",
       "      <td>ChrisTitusTech/ArchTitus</td>\n",
       "      <td>Shell</td>\n",
       "      <td># ArchTitus Installer Script\\n[![GitHub Super-...</td>\n",
       "    </tr>\n",
       "    <tr>\n",
       "      <th>1</th>\n",
       "      <td>archlinuxcn/repo</td>\n",
       "      <td>Shell</td>\n",
       "      <td>Arch Linux Chinese Community Repository\\n====\\...</td>\n",
       "    </tr>\n",
       "    <tr>\n",
       "      <th>2</th>\n",
       "      <td>MatMoul/archfi</td>\n",
       "      <td>Shell</td>\n",
       "      <td># archfi\\n\\nJust a simple bash script wizard t...</td>\n",
       "    </tr>\n",
       "    <tr>\n",
       "      <th>3</th>\n",
       "      <td>archlinux/archinstall</td>\n",
       "      <td>Python</td>\n",
       "      <td>&lt;!-- &lt;div align=\"center\"&gt; --&gt;\\n&lt;img src=\"https...</td>\n",
       "    </tr>\n",
       "    <tr>\n",
       "      <th>4</th>\n",
       "      <td>picodotdev/alis</td>\n",
       "      <td>Shell</td>\n",
       "      <td># alis\\n\\n![Arch Linux](https://raw.githubuser...</td>\n",
       "    </tr>\n",
       "    <tr>\n",
       "      <th>...</th>\n",
       "      <td>...</td>\n",
       "      <td>...</td>\n",
       "      <td>...</td>\n",
       "    </tr>\n",
       "    <tr>\n",
       "      <th>1095</th>\n",
       "      <td>gmas/home-router-ansible</td>\n",
       "      <td>Ruby</td>\n",
       "      <td># home-router-ansible\\nAnsible scripts for set...</td>\n",
       "    </tr>\n",
       "    <tr>\n",
       "      <th>1096</th>\n",
       "      <td>Voltasalt/tial</td>\n",
       "      <td>Shell</td>\n",
       "      <td># tial\\nTwitch Installs Arch Linux: Scripts\\n</td>\n",
       "    </tr>\n",
       "    <tr>\n",
       "      <th>1097</th>\n",
       "      <td>Caesim404/sikulix-git</td>\n",
       "      <td>Shell</td>\n",
       "      <td></td>\n",
       "    </tr>\n",
       "    <tr>\n",
       "      <th>1098</th>\n",
       "      <td>danboid/ZALARM-install</td>\n",
       "      <td>None</td>\n",
       "      <td># Installing Arch Linux ARM (ALARM) on the SHA...</td>\n",
       "    </tr>\n",
       "    <tr>\n",
       "      <th>1099</th>\n",
       "      <td>BiteDasher/pacadd</td>\n",
       "      <td>Shell</td>\n",
       "      <td># pacadd\\nA simple tool for managing repositor...</td>\n",
       "    </tr>\n",
       "  </tbody>\n",
       "</table>\n",
       "<p>1100 rows × 3 columns</p>\n",
       "</div>"
      ],
      "text/plain": [
       "                          repo language  \\\n",
       "0     ChrisTitusTech/ArchTitus    Shell   \n",
       "1             archlinuxcn/repo    Shell   \n",
       "2               MatMoul/archfi    Shell   \n",
       "3        archlinux/archinstall   Python   \n",
       "4              picodotdev/alis    Shell   \n",
       "...                        ...      ...   \n",
       "1095  gmas/home-router-ansible     Ruby   \n",
       "1096            Voltasalt/tial    Shell   \n",
       "1097     Caesim404/sikulix-git    Shell   \n",
       "1098    danboid/ZALARM-install     None   \n",
       "1099         BiteDasher/pacadd    Shell   \n",
       "\n",
       "                                        readme_contents  \n",
       "0     # ArchTitus Installer Script\\n[![GitHub Super-...  \n",
       "1     Arch Linux Chinese Community Repository\\n====\\...  \n",
       "2     # archfi\\n\\nJust a simple bash script wizard t...  \n",
       "3     <!-- <div align=\"center\"> -->\\n<img src=\"https...  \n",
       "4     # alis\\n\\n![Arch Linux](https://raw.githubuser...  \n",
       "...                                                 ...  \n",
       "1095  # home-router-ansible\\nAnsible scripts for set...  \n",
       "1096      # tial\\nTwitch Installs Arch Linux: Scripts\\n  \n",
       "1097                                                     \n",
       "1098  # Installing Arch Linux ARM (ALARM) on the SHA...  \n",
       "1099  # pacadd\\nA simple tool for managing repositor...  \n",
       "\n",
       "[1100 rows x 3 columns]"
      ]
     },
     "execution_count": 2,
     "metadata": {},
     "output_type": "execute_result"
    }
   ],
   "source": [
    "arch_df = pd.read_json('arch_linux_data.json')\n",
    "arch_df"
   ]
  },
  {
   "cell_type": "code",
   "execution_count": 3,
   "id": "01135284",
   "metadata": {},
   "outputs": [
    {
     "data": {
      "text/html": [
       "<div>\n",
       "<style scoped>\n",
       "    .dataframe tbody tr th:only-of-type {\n",
       "        vertical-align: middle;\n",
       "    }\n",
       "\n",
       "    .dataframe tbody tr th {\n",
       "        vertical-align: top;\n",
       "    }\n",
       "\n",
       "    .dataframe thead th {\n",
       "        text-align: right;\n",
       "    }\n",
       "</style>\n",
       "<table border=\"1\" class=\"dataframe\">\n",
       "  <thead>\n",
       "    <tr style=\"text-align: right;\">\n",
       "      <th></th>\n",
       "      <th>repo</th>\n",
       "      <th>language</th>\n",
       "      <th>readme_contents</th>\n",
       "    </tr>\n",
       "  </thead>\n",
       "  <tbody>\n",
       "    <tr>\n",
       "      <th>0</th>\n",
       "      <td>ChrisTitusTech/ArchTitus</td>\n",
       "      <td>Shell</td>\n",
       "      <td># ArchTitus Installer Script\\n[![GitHub Super-...</td>\n",
       "    </tr>\n",
       "    <tr>\n",
       "      <th>1</th>\n",
       "      <td>archlinuxcn/repo</td>\n",
       "      <td>Shell</td>\n",
       "      <td>Arch Linux Chinese Community Repository\\n====\\...</td>\n",
       "    </tr>\n",
       "    <tr>\n",
       "      <th>2</th>\n",
       "      <td>MatMoul/archfi</td>\n",
       "      <td>Shell</td>\n",
       "      <td># archfi\\n\\nJust a simple bash script wizard t...</td>\n",
       "    </tr>\n",
       "    <tr>\n",
       "      <th>3</th>\n",
       "      <td>archlinux/archinstall</td>\n",
       "      <td>Python</td>\n",
       "      <td>&lt;!-- &lt;div align=\"center\"&gt; --&gt;\\n&lt;img src=\"https...</td>\n",
       "    </tr>\n",
       "    <tr>\n",
       "      <th>4</th>\n",
       "      <td>picodotdev/alis</td>\n",
       "      <td>Shell</td>\n",
       "      <td># alis\\n\\n![Arch Linux](https://raw.githubuser...</td>\n",
       "    </tr>\n",
       "    <tr>\n",
       "      <th>...</th>\n",
       "      <td>...</td>\n",
       "      <td>...</td>\n",
       "      <td>...</td>\n",
       "    </tr>\n",
       "    <tr>\n",
       "      <th>979</th>\n",
       "      <td>archclassroom/archclassroom.github.io</td>\n",
       "      <td>HTML</td>\n",
       "      <td># archclassroom.github.io\\nArch Linux Classroo...</td>\n",
       "    </tr>\n",
       "    <tr>\n",
       "      <th>980</th>\n",
       "      <td>gmas/home-router-ansible</td>\n",
       "      <td>Ruby</td>\n",
       "      <td># home-router-ansible\\nAnsible scripts for set...</td>\n",
       "    </tr>\n",
       "    <tr>\n",
       "      <th>981</th>\n",
       "      <td>Voltasalt/tial</td>\n",
       "      <td>Shell</td>\n",
       "      <td># tial\\nTwitch Installs Arch Linux: Scripts\\n</td>\n",
       "    </tr>\n",
       "    <tr>\n",
       "      <th>982</th>\n",
       "      <td>Caesim404/sikulix-git</td>\n",
       "      <td>Shell</td>\n",
       "      <td></td>\n",
       "    </tr>\n",
       "    <tr>\n",
       "      <th>983</th>\n",
       "      <td>BiteDasher/pacadd</td>\n",
       "      <td>Shell</td>\n",
       "      <td># pacadd\\nA simple tool for managing repositor...</td>\n",
       "    </tr>\n",
       "  </tbody>\n",
       "</table>\n",
       "<p>984 rows × 3 columns</p>\n",
       "</div>"
      ],
      "text/plain": [
       "                                      repo language  \\\n",
       "0                 ChrisTitusTech/ArchTitus    Shell   \n",
       "1                         archlinuxcn/repo    Shell   \n",
       "2                           MatMoul/archfi    Shell   \n",
       "3                    archlinux/archinstall   Python   \n",
       "4                          picodotdev/alis    Shell   \n",
       "..                                     ...      ...   \n",
       "979  archclassroom/archclassroom.github.io     HTML   \n",
       "980               gmas/home-router-ansible     Ruby   \n",
       "981                         Voltasalt/tial    Shell   \n",
       "982                  Caesim404/sikulix-git    Shell   \n",
       "983                      BiteDasher/pacadd    Shell   \n",
       "\n",
       "                                       readme_contents  \n",
       "0    # ArchTitus Installer Script\\n[![GitHub Super-...  \n",
       "1    Arch Linux Chinese Community Repository\\n====\\...  \n",
       "2    # archfi\\n\\nJust a simple bash script wizard t...  \n",
       "3    <!-- <div align=\"center\"> -->\\n<img src=\"https...  \n",
       "4    # alis\\n\\n![Arch Linux](https://raw.githubuser...  \n",
       "..                                                 ...  \n",
       "979  # archclassroom.github.io\\nArch Linux Classroo...  \n",
       "980  # home-router-ansible\\nAnsible scripts for set...  \n",
       "981      # tial\\nTwitch Installs Arch Linux: Scripts\\n  \n",
       "982                                                     \n",
       "983  # pacadd\\nA simple tool for managing repositor...  \n",
       "\n",
       "[984 rows x 3 columns]"
      ]
     },
     "execution_count": 3,
     "metadata": {},
     "output_type": "execute_result"
    }
   ],
   "source": [
    "arch_df = arch_df[arch_df.language.notnull()].reset_index().drop(columns= 'index')\n",
    "arch_df"
   ]
  },
  {
   "cell_type": "code",
   "execution_count": 4,
   "id": "b386e05d",
   "metadata": {},
   "outputs": [],
   "source": [
    "# Constants for the NLP project\n",
    "\n",
    "ADDITIONAL_STOPWORDS = [\n",
    "    'sudo',\n",
    "    'distro',\n",
    "    'linux',\n",
    "    'aptget',\n",
    "    'ubuntu',\n",
    "    'debian',\n",
    "    'arch',\n",
    "    'archlinux',\n",
    "    'git',\n",
    "    'root',\n",
    "    'img'\n",
    "] \n",
    "\n",
    "def clean_data(text):\n",
    "    ps = nltk.porter.PorterStemmer()\n",
    "    stopwords = nltk.corpus.stopwords.words('english') + ADDITIONAL_STOPWORDS\n",
    "    text = (unicodedata.normalize('NFKD', text)\n",
    "             .encode('ascii', 'ignore')\n",
    "             .decode('utf-8', 'ignore')\n",
    "             .lower())\n",
    "    words = re.sub(r'[\\(<\\\"]?http.*[\\)>\\\"\\s]', ' ', text).split()\n",
    "    words = [re.sub(r'[^\\w\\s]', '', text) for text in words]\n",
    "    try:\n",
    "        while True:\n",
    "            words.remove('')\n",
    "    except ValueError:\n",
    "        pass\n",
    "    \n",
    "    return [ps.stem(word) for word in words if word not in stopwords]"
   ]
  },
  {
   "cell_type": "code",
   "execution_count": 7,
   "id": "f44cc111",
   "metadata": {},
   "outputs": [],
   "source": [
    "arch_df['cleaned_readme'] = arch_df.readme_contents.apply(clean_data)\n",
    "arch_df['cleaned_length'] = 0"
   ]
  },
  {
   "cell_type": "code",
   "execution_count": 8,
   "id": "acdef468",
   "metadata": {},
   "outputs": [
    {
     "name": "stderr",
     "output_type": "stream",
     "text": [
      "/var/folders/r6/g880v64s6vj401drwcc37nf00000gn/T/ipykernel_16815/1951381642.py:2: SettingWithCopyWarning: \n",
      "A value is trying to be set on a copy of a slice from a DataFrame\n",
      "\n",
      "See the caveats in the documentation: https://pandas.pydata.org/pandas-docs/stable/user_guide/indexing.html#returning-a-view-versus-a-copy\n",
      "  arch_df['cleaned_length'][i] = len(arch_df.cleaned_readme[i])\n"
     ]
    }
   ],
   "source": [
    "for i in range(len(arch_df.cleaned_readme)):\n",
    "    arch_df['cleaned_length'][i] = len(arch_df.cleaned_readme[i])"
   ]
  },
  {
   "cell_type": "code",
   "execution_count": 9,
   "id": "d96e4eb2",
   "metadata": {},
   "outputs": [
    {
     "data": {
      "text/html": [
       "<div>\n",
       "<style scoped>\n",
       "    .dataframe tbody tr th:only-of-type {\n",
       "        vertical-align: middle;\n",
       "    }\n",
       "\n",
       "    .dataframe tbody tr th {\n",
       "        vertical-align: top;\n",
       "    }\n",
       "\n",
       "    .dataframe thead th {\n",
       "        text-align: right;\n",
       "    }\n",
       "</style>\n",
       "<table border=\"1\" class=\"dataframe\">\n",
       "  <thead>\n",
       "    <tr style=\"text-align: right;\">\n",
       "      <th></th>\n",
       "      <th>repo</th>\n",
       "      <th>language</th>\n",
       "      <th>readme_contents</th>\n",
       "      <th>cleaned_readme</th>\n",
       "      <th>cleaned_length</th>\n",
       "    </tr>\n",
       "  </thead>\n",
       "  <tbody>\n",
       "    <tr>\n",
       "      <th>0</th>\n",
       "      <td>ChrisTitusTech/ArchTitus</td>\n",
       "      <td>Shell</td>\n",
       "      <td># ArchTitus Installer Script\\n[![GitHub Super-...</td>\n",
       "      <td>[archtitu, instal, script, github, superlint, ...</td>\n",
       "      <td>245</td>\n",
       "    </tr>\n",
       "    <tr>\n",
       "      <th>1</th>\n",
       "      <td>archlinuxcn/repo</td>\n",
       "      <td>Shell</td>\n",
       "      <td>Arch Linux Chinese Community Repository\\n====\\...</td>\n",
       "      <td>[chines, commun, repositori, packag, consist, ...</td>\n",
       "      <td>72</td>\n",
       "    </tr>\n",
       "    <tr>\n",
       "      <th>2</th>\n",
       "      <td>MatMoul/archfi</td>\n",
       "      <td>Shell</td>\n",
       "      <td># archfi\\n\\nJust a simple bash script wizard t...</td>\n",
       "      <td>[archfi, simpl, bash, script, wizard, instal, ...</td>\n",
       "      <td>108</td>\n",
       "    </tr>\n",
       "    <tr>\n",
       "      <th>3</th>\n",
       "      <td>archlinux/archinstall</td>\n",
       "      <td>Python</td>\n",
       "      <td>&lt;!-- &lt;div align=\"center\"&gt; --&gt;\\n&lt;img src=\"https...</td>\n",
       "      <td>[div, aligncent, src, div, instal, lint, pytho...</td>\n",
       "      <td>589</td>\n",
       "    </tr>\n",
       "    <tr>\n",
       "      <th>4</th>\n",
       "      <td>picodotdev/alis</td>\n",
       "      <td>Shell</td>\n",
       "      <td># alis\\n\\n![Arch Linux](https://raw.githubuser...</td>\n",
       "      <td>[ali, bash, instal, script, ali, also, known, ...</td>\n",
       "      <td>916</td>\n",
       "    </tr>\n",
       "  </tbody>\n",
       "</table>\n",
       "</div>"
      ],
      "text/plain": [
       "                       repo language  \\\n",
       "0  ChrisTitusTech/ArchTitus    Shell   \n",
       "1          archlinuxcn/repo    Shell   \n",
       "2            MatMoul/archfi    Shell   \n",
       "3     archlinux/archinstall   Python   \n",
       "4           picodotdev/alis    Shell   \n",
       "\n",
       "                                     readme_contents  \\\n",
       "0  # ArchTitus Installer Script\\n[![GitHub Super-...   \n",
       "1  Arch Linux Chinese Community Repository\\n====\\...   \n",
       "2  # archfi\\n\\nJust a simple bash script wizard t...   \n",
       "3  <!-- <div align=\"center\"> -->\\n<img src=\"https...   \n",
       "4  # alis\\n\\n![Arch Linux](https://raw.githubuser...   \n",
       "\n",
       "                                      cleaned_readme  cleaned_length  \n",
       "0  [archtitu, instal, script, github, superlint, ...             245  \n",
       "1  [chines, commun, repositori, packag, consist, ...              72  \n",
       "2  [archfi, simpl, bash, script, wizard, instal, ...             108  \n",
       "3  [div, aligncent, src, div, instal, lint, pytho...             589  \n",
       "4  [ali, bash, instal, script, ali, also, known, ...             916  "
      ]
     },
     "execution_count": 9,
     "metadata": {},
     "output_type": "execute_result"
    }
   ],
   "source": [
    "arch_df.head()"
   ]
  },
  {
   "cell_type": "markdown",
   "id": "17c7c16d",
   "metadata": {},
   "source": [
    "# Exploring Overall Data"
   ]
  },
  {
   "cell_type": "code",
   "execution_count": 10,
   "id": "56d6c9f1",
   "metadata": {},
   "outputs": [
    {
     "data": {
      "text/plain": [
       "count     984.000000\n",
       "mean      249.026423\n",
       "std       458.659094\n",
       "min         0.000000\n",
       "25%        34.750000\n",
       "50%       110.000000\n",
       "75%       271.250000\n",
       "max      7705.000000\n",
       "Name: cleaned_length, dtype: float64"
      ]
     },
     "execution_count": 10,
     "metadata": {},
     "output_type": "execute_result"
    }
   ],
   "source": [
    "arch_df.cleaned_length.describe()"
   ]
  },
  {
   "cell_type": "markdown",
   "id": "36d2ecf0",
   "metadata": {},
   "source": [
    "# Visualizing the most common lengths of cleaned readme files"
   ]
  },
  {
   "cell_type": "code",
   "execution_count": 11,
   "id": "d41fa116",
   "metadata": {},
   "outputs": [
    {
     "data": {
      "text/plain": [
       "<AxesSubplot:>"
      ]
     },
     "execution_count": 11,
     "metadata": {},
     "output_type": "execute_result"
    },
    {
     "data": {
      "image/png": "[encoded data removed]",
      "text/plain": [
       "<Figure size 432x288 with 1 Axes>"
      ]
     },
     "metadata": {
      "needs_background": "light"
     },
     "output_type": "display_data"
    }
   ],
   "source": [
    "arch_df.cleaned_length.value_counts().head(20).sort_values().plot.barh()"
   ]
  },
  {
   "cell_type": "markdown",
   "id": "9ce4a68a",
   "metadata": {},
   "source": [
    "# Visualizing the most common languages of the readme files"
   ]
  },
  {
   "cell_type": "code",
   "execution_count": 12,
   "id": "bb75a0a6",
   "metadata": {},
   "outputs": [
    {
     "data": {
      "text/plain": [
       "<AxesSubplot:>"
      ]
     },
     "execution_count": 12,
     "metadata": {},
     "output_type": "execute_result"
    },
    {
     "data": {
      "image/png": "[encoded data removed]",
      "text/plain": [
       "<Figure size 432x288 with 1 Axes>"
      ]
     },
     "metadata": {
      "needs_background": "light"
     },
     "output_type": "display_data"
    }
   ],
   "source": [
    "arch_df.language.value_counts().head(20).sort_values().plot.barh()"
   ]
  },
  {
   "cell_type": "code",
   "execution_count": 13,
   "id": "8e201c3e",
   "metadata": {},
   "outputs": [
    {
     "data": {
      "text/plain": [
       "0       Shell\n",
       "1       Shell\n",
       "2       Shell\n",
       "3      Python\n",
       "4       Shell\n",
       "        ...  \n",
       "979      HTML\n",
       "980      Ruby\n",
       "981     Shell\n",
       "982     Shell\n",
       "983     Shell\n",
       "Name: language, Length: 984, dtype: object"
      ]
     },
     "execution_count": 13,
     "metadata": {},
     "output_type": "execute_result"
    }
   ],
   "source": [
    "arch_df.language.dropna()"
   ]
  },
  {
   "cell_type": "code",
   "execution_count": 14,
   "id": "921fc569",
   "metadata": {},
   "outputs": [
    {
     "data": {
      "text/plain": [
       "Jinja           4\n",
       "Haskell         4\n",
       "PHP             5\n",
       "Perl            5\n",
       "QML             5\n",
       "Dockerfile      7\n",
       "Ruby            9\n",
       "Emacs Lisp      9\n",
       "Lua             9\n",
       "Go             10\n",
       "JavaScript     10\n",
       "C++            10\n",
       "Rust           13\n",
       "HTML           13\n",
       "Makefile       13\n",
       "C              23\n",
       "Vim script     26\n",
       "CSS            35\n",
       "Python         94\n",
       "Shell         650\n",
       "Name: language, dtype: int64"
      ]
     },
     "execution_count": 14,
     "metadata": {},
     "output_type": "execute_result"
    }
   ],
   "source": [
    "arch_df.language.value_counts(normalize=False).head(20).sort_values()"
   ]
  },
  {
   "cell_type": "code",
   "execution_count": 15,
   "id": "164ea234",
   "metadata": {},
   "outputs": [
    {
     "data": {
      "text/plain": [
       "count     245042\n",
       "unique     26830\n",
       "top       instal\n",
       "freq        4202\n",
       "dtype: object"
      ]
     },
     "execution_count": 15,
     "metadata": {},
     "output_type": "execute_result"
    }
   ],
   "source": [
    "arch_corpus_list = []\n",
    "language = []\n",
    "for entry in range(len(arch_df.readme_contents)):\n",
    "    language.append(arch_df.language[entry])\n",
    "    arch_corpus_list.extend(clean_data(arch_df.readme_contents[entry]))\n",
    "arch_corpus = pd.Series(arch_corpus_list)\n",
    "arch_corpus.describe()"
   ]
  },
  {
   "cell_type": "markdown",
   "id": "609f5a29",
   "metadata": {},
   "source": [
    "# Inspecting and visualizing the most common words of cleaned readme files"
   ]
  },
  {
   "cell_type": "code",
   "execution_count": 16,
   "id": "9dc084cb",
   "metadata": {
    "scrolled": false
   },
   "outputs": [
    {
     "data": {
      "text/plain": [
       "instal      4202\n",
       "use         3594\n",
       "packag      2936\n",
       "file        2331\n",
       "run         1716\n",
       "system      1482\n",
       "configur    1433\n",
       "script      1428\n",
       "set         1281\n",
       "build       1277\n",
       "pacman      1268\n",
       "user        1087\n",
       "need         998\n",
       "make         953\n",
       "option       923\n",
       "bash         905\n",
       "creat        896\n",
       "default      861\n",
       "1            852\n",
       "boot         829\n",
       "dtype: int64"
      ]
     },
     "execution_count": 16,
     "metadata": {},
     "output_type": "execute_result"
    }
   ],
   "source": [
    "arch_corpus.value_counts().sort_values(ascending=False).head(20)"
   ]
  },
  {
   "cell_type": "code",
   "execution_count": 17,
   "id": "e5272ed5",
   "metadata": {},
   "outputs": [
    {
     "data": {
      "text/plain": [
       "<AxesSubplot:>"
      ]
     },
     "execution_count": 17,
     "metadata": {},
     "output_type": "execute_result"
    },
    {
     "data": {
      "image/png": "[encoded data removed]",
      "text/plain": [
       "<Figure size 432x288 with 1 Axes>"
      ]
     },
     "metadata": {
      "needs_background": "light"
     },
     "output_type": "display_data"
    }
   ],
   "source": [
    "arch_corpus.value_counts().head(20).sort_values().plot.barh()"
   ]
  },
  {
   "cell_type": "code",
   "execution_count": 18,
   "id": "96b5900b",
   "metadata": {},
   "outputs": [
    {
     "data": {
      "text/plain": [
       "26830"
      ]
     },
     "execution_count": 18,
     "metadata": {},
     "output_type": "execute_result"
    }
   ],
   "source": [
    "arch_corpus.nunique()"
   ]
  },
  {
   "cell_type": "markdown",
   "id": "c05302f7",
   "metadata": {},
   "source": [
    "# Inspecting and visualizing the most bigrams of cleaned readme files"
   ]
  },
  {
   "cell_type": "code",
   "execution_count": 19,
   "id": "cd2e5792",
   "metadata": {},
   "outputs": [],
   "source": [
    "top_20_arch_bigrams = (pd.Series(nltk.ngrams(arch_corpus, 2))\n",
    "                      .value_counts()\n",
    "                      .head(20))"
   ]
  },
  {
   "cell_type": "code",
   "execution_count": 20,
   "id": "37065828",
   "metadata": {},
   "outputs": [
    {
     "data": {
      "text/plain": [
       "(configur, file)       275\n",
       "(instal, packag)       235\n",
       "(packag, instal)       191\n",
       "(aur, packag)          172\n",
       "(make, sure)           165\n",
       "(config, file)         156\n",
       "(pacman, sr)           154\n",
       "(sr, mnt)              154\n",
       "(systemctl, enabl)     141\n",
       "(instal, script)       135\n",
       "(desktop, environ)     133\n",
       "(sh, pacman)           131\n",
       "(command, line)        127\n",
       "(follow, command)      118\n",
       "(clone, cd)            116\n",
       "(docker, run)          108\n",
       "(pacman, noconfirm)     97\n",
       "(file, system)          96\n",
       "(p, aligncent)          95\n",
       "(run, script)           94\n",
       "dtype: int64"
      ]
     },
     "execution_count": 20,
     "metadata": {},
     "output_type": "execute_result"
    }
   ],
   "source": [
    "top_20_arch_bigrams"
   ]
  },
  {
   "cell_type": "code",
   "execution_count": 21,
   "id": "2b46481f",
   "metadata": {},
   "outputs": [
    {
     "data": {
      "image/png": "[encoded data removed]",
      "text/plain": [
       "<Figure size 720x432 with 1 Axes>"
      ]
     },
     "metadata": {
      "needs_background": "light"
     },
     "output_type": "display_data"
    }
   ],
   "source": [
    "top_20_arch_bigrams.sort_values().plot.barh(color='#00C0DE', width=.9, figsize=(10, 6))\n",
    "\n",
    "plt.title('20 Most frequently occuring arch bigrams')\n",
    "plt.ylabel('Bigram')\n",
    "plt.xlabel('# Occurances')\n",
    "\n",
    "# make the labels pretty\n",
    "ticks, _ = plt.yticks()\n",
    "labels = top_20_arch_bigrams.reset_index().sort_index(ascending=False)['index'].apply(lambda t: t[0] + ' ' + t[1])\n",
    "_ = plt.yticks(ticks, labels)\n"
   ]
  },
  {
   "cell_type": "markdown",
   "id": "c40287c4",
   "metadata": {},
   "source": [
    "# Inspecting and visualizing the most trigrams of cleaned readme files"
   ]
  },
  {
   "cell_type": "code",
   "execution_count": 22,
   "id": "67b66496",
   "metadata": {},
   "outputs": [
    {
     "data": {
      "text/plain": [
       "(pacman, sr, mnt)                     154\n",
       "(sh, pacman, noconfirm)                85\n",
       "(v, etclocaltimeetclocaltimero, e)     60\n",
       "(gnu, gener, public)                   54\n",
       "(gener, public, licens)                53\n",
       "(archlinuxcn, server, ini)             50\n",
       "(00, 00, 00)                           36\n",
       "(exampl, docker, run)                  34\n",
       "(pleas, consid, buy)                   34\n",
       "(umask000, e, puid0)                   33\n",
       "(p, aligncent, src)                    33\n",
       "(puid0, e, pgid0)                      33\n",
       "(e, puid0, e)                          33\n",
       "(e, umask000, e)                       33\n",
       "(buy, beer, paypal)                    32\n",
       "(consid, buy, beer)                    32\n",
       "(beer, paypal, donat)                  32\n",
       "(appreci, work, pleas)                 32\n",
       "(work, pleas, consid)                  32\n",
       "(paypal, donat, document)              31\n",
       "dtype: int64"
      ]
     },
     "execution_count": 22,
     "metadata": {},
     "output_type": "execute_result"
    }
   ],
   "source": [
    "top_20_arch_trigrams = (pd.Series(nltk.ngrams(arch_corpus, 3)).value_counts().head(20))\n",
    "top_20_arch_trigrams"
   ]
  },
  {
   "cell_type": "code",
   "execution_count": 23,
   "id": "0edd89ed",
   "metadata": {},
   "outputs": [
    {
     "data": {
      "image/png": "[encoded data removed]",
      "text/plain": [
       "<Figure size 720x432 with 1 Axes>"
      ]
     },
     "metadata": {
      "needs_background": "light"
     },
     "output_type": "display_data"
    }
   ],
   "source": [
    "top_20_arch_trigrams.sort_values().plot.barh(color='#00C0DE', width=.9, figsize=(10, 6))\n",
    "\n",
    "plt.title('20 Most frequently occuring arch trigrams')\n",
    "plt.ylabel('Trigram')\n",
    "plt.xlabel('# Occurances')\n",
    "\n",
    "# make the labels pretty\n",
    "ticks, _ = plt.yticks()\n",
    "labels = top_20_arch_trigrams.reset_index().sort_index(ascending=False)['index'].apply(lambda t: t[0] + ' ' + t[1] + ' ' + t[2])\n",
    "_ = plt.yticks(ticks, labels)\n"
   ]
  },
  {
   "cell_type": "markdown",
   "id": "0d2a0ee7",
   "metadata": {},
   "source": [
    "# Inspecting and visualizing the most quadgrams of cleaned readme files"
   ]
  },
  {
   "cell_type": "code",
   "execution_count": 24,
   "id": "2d655ea1",
   "metadata": {},
   "outputs": [
    {
     "data": {
      "text/plain": [
       "(gnu, gener, public, licens)          50\n",
       "(00, 00, 00, 00)                      34\n",
       "(e, umask000, e, puid0)               33\n",
       "(umask000, e, puid0, e)               33\n",
       "(e, puid0, e, pgid0)                  33\n",
       "(consid, buy, beer, paypal)           32\n",
       "(pleas, consid, buy, beer)            32\n",
       "(work, pleas, consid, buy)            32\n",
       "(appreci, work, pleas, consid)        32\n",
       "(buy, beer, paypal, donat)            32\n",
       "(beer, paypal, donat, document)       31\n",
       "(v, path, config, filesconfig)        28\n",
       "(path, config, filesconfig, v)        28\n",
       "(user, variabl, command, defin)       28\n",
       "(___, appreci, work, pleas)           28\n",
       "(pleas, replac, user, variabl)        28\n",
       "(command, defin, correct, valu)       28\n",
       "(replac, user, variabl, command)      28\n",
       "(variabl, command, defin, correct)    28\n",
       "(umaskumask, creat, file, e)          27\n",
       "dtype: int64"
      ]
     },
     "execution_count": 24,
     "metadata": {},
     "output_type": "execute_result"
    }
   ],
   "source": [
    "top_20_arch_quadgrams = (pd.Series(nltk.ngrams(arch_corpus, 4)).value_counts().head(20))\n",
    "top_20_arch_quadgrams"
   ]
  },
  {
   "cell_type": "code",
   "execution_count": 25,
   "id": "2889d967",
   "metadata": {},
   "outputs": [
    {
     "data": {
      "image/png": "[encoded data removed]",
      "text/plain": [
       "<Figure size 720x432 with 1 Axes>"
      ]
     },
     "metadata": {
      "needs_background": "light"
     },
     "output_type": "display_data"
    }
   ],
   "source": [
    "top_20_arch_quadgrams.sort_values().plot.barh(color='#00C0DE', width=.9, figsize=(10, 6))\n",
    "\n",
    "plt.title('20 Most frequently occuring arch quadgrams')\n",
    "plt.ylabel('Quadgram')\n",
    "plt.xlabel('# Occurances')\n",
    "\n",
    "# make the labels pretty\n",
    "ticks, _ = plt.yticks()\n",
    "labels = top_20_arch_quadgrams.reset_index().sort_index(ascending=False)['index'].apply(lambda t: t[0] + ' ' + t[1] + ' ' + t[2] + ' ' + t[3])\n",
    "_ = plt.yticks(ticks, labels)\n"
   ]
  },
  {
   "cell_type": "markdown",
   "id": "279089b5",
   "metadata": {},
   "source": [
    "# Exploring data grouped by language"
   ]
  },
  {
   "cell_type": "code",
   "execution_count": 26,
   "id": "dbf71e8a",
   "metadata": {},
   "outputs": [
    {
     "data": {
      "image/png": "[encoded data removed]",
      "text/plain": [
       "<Figure size 1296x576 with 1 Axes>"
      ]
     },
     "metadata": {
      "needs_background": "light"
     },
     "output_type": "display_data"
    }
   ],
   "source": [
    "plt.figure(figsize=(18, 8))\n",
    "sns.barplot(data = arch_df.groupby('language').mean().reset_index().sort_values('cleaned_length', ascending=False), x = 'cleaned_length', y='language')\n",
    "plt.title('Average Readme length by Language')\n",
    "plt.show()"
   ]
  },
  {
   "cell_type": "code",
   "execution_count": 27,
   "id": "3bc5299f",
   "metadata": {},
   "outputs": [
    {
     "data": {
      "text/html": [
       "<div>\n",
       "<style scoped>\n",
       "    .dataframe tbody tr th:only-of-type {\n",
       "        vertical-align: middle;\n",
       "    }\n",
       "\n",
       "    .dataframe tbody tr th {\n",
       "        vertical-align: top;\n",
       "    }\n",
       "\n",
       "    .dataframe thead th {\n",
       "        text-align: right;\n",
       "    }\n",
       "</style>\n",
       "<table border=\"1\" class=\"dataframe\">\n",
       "  <thead>\n",
       "    <tr style=\"text-align: right;\">\n",
       "      <th></th>\n",
       "      <th>language</th>\n",
       "      <th>cleaned_length</th>\n",
       "    </tr>\n",
       "  </thead>\n",
       "  <tbody>\n",
       "    <tr>\n",
       "      <th>11</th>\n",
       "      <td>Jinja</td>\n",
       "      <td>815.500000</td>\n",
       "    </tr>\n",
       "    <tr>\n",
       "      <th>18</th>\n",
       "      <td>OCaml</td>\n",
       "      <td>679.000000</td>\n",
       "    </tr>\n",
       "    <tr>\n",
       "      <th>2</th>\n",
       "      <td>C++</td>\n",
       "      <td>470.200000</td>\n",
       "    </tr>\n",
       "    <tr>\n",
       "      <th>0</th>\n",
       "      <td>C</td>\n",
       "      <td>467.347826</td>\n",
       "    </tr>\n",
       "    <tr>\n",
       "      <th>8</th>\n",
       "      <td>Haskell</td>\n",
       "      <td>404.750000</td>\n",
       "    </tr>\n",
       "    <tr>\n",
       "      <th>24</th>\n",
       "      <td>QML</td>\n",
       "      <td>393.400000</td>\n",
       "    </tr>\n",
       "    <tr>\n",
       "      <th>1</th>\n",
       "      <td>C#</td>\n",
       "      <td>348.000000</td>\n",
       "    </tr>\n",
       "    <tr>\n",
       "      <th>6</th>\n",
       "      <td>Go</td>\n",
       "      <td>336.400000</td>\n",
       "    </tr>\n",
       "    <tr>\n",
       "      <th>3</th>\n",
       "      <td>CSS</td>\n",
       "      <td>319.542857</td>\n",
       "    </tr>\n",
       "    <tr>\n",
       "      <th>27</th>\n",
       "      <td>Rust</td>\n",
       "      <td>312.307692</td>\n",
       "    </tr>\n",
       "    <tr>\n",
       "      <th>26</th>\n",
       "      <td>Ruby</td>\n",
       "      <td>307.222222</td>\n",
       "    </tr>\n",
       "    <tr>\n",
       "      <th>4</th>\n",
       "      <td>Dockerfile</td>\n",
       "      <td>294.714286</td>\n",
       "    </tr>\n",
       "    <tr>\n",
       "      <th>10</th>\n",
       "      <td>JavaScript</td>\n",
       "      <td>270.300000</td>\n",
       "    </tr>\n",
       "    <tr>\n",
       "      <th>23</th>\n",
       "      <td>Python</td>\n",
       "      <td>262.882979</td>\n",
       "    </tr>\n",
       "    <tr>\n",
       "      <th>30</th>\n",
       "      <td>Shell</td>\n",
       "      <td>239.475385</td>\n",
       "    </tr>\n",
       "    <tr>\n",
       "      <th>12</th>\n",
       "      <td>Jupyter Notebook</td>\n",
       "      <td>206.500000</td>\n",
       "    </tr>\n",
       "    <tr>\n",
       "      <th>31</th>\n",
       "      <td>TeX</td>\n",
       "      <td>204.000000</td>\n",
       "    </tr>\n",
       "    <tr>\n",
       "      <th>5</th>\n",
       "      <td>Emacs Lisp</td>\n",
       "      <td>202.333333</td>\n",
       "    </tr>\n",
       "    <tr>\n",
       "      <th>25</th>\n",
       "      <td>Roff</td>\n",
       "      <td>200.000000</td>\n",
       "    </tr>\n",
       "    <tr>\n",
       "      <th>32</th>\n",
       "      <td>TypeScript</td>\n",
       "      <td>192.000000</td>\n",
       "    </tr>\n",
       "    <tr>\n",
       "      <th>16</th>\n",
       "      <td>Makefile</td>\n",
       "      <td>185.769231</td>\n",
       "    </tr>\n",
       "    <tr>\n",
       "      <th>7</th>\n",
       "      <td>HTML</td>\n",
       "      <td>175.384615</td>\n",
       "    </tr>\n",
       "    <tr>\n",
       "      <th>9</th>\n",
       "      <td>Java</td>\n",
       "      <td>171.666667</td>\n",
       "    </tr>\n",
       "    <tr>\n",
       "      <th>33</th>\n",
       "      <td>Vim script</td>\n",
       "      <td>140.307692</td>\n",
       "    </tr>\n",
       "    <tr>\n",
       "      <th>14</th>\n",
       "      <td>Lua</td>\n",
       "      <td>130.222222</td>\n",
       "    </tr>\n",
       "    <tr>\n",
       "      <th>17</th>\n",
       "      <td>Nim</td>\n",
       "      <td>114.000000</td>\n",
       "    </tr>\n",
       "    <tr>\n",
       "      <th>21</th>\n",
       "      <td>POV-Ray SDL</td>\n",
       "      <td>97.000000</td>\n",
       "    </tr>\n",
       "    <tr>\n",
       "      <th>34</th>\n",
       "      <td>VimL</td>\n",
       "      <td>81.000000</td>\n",
       "    </tr>\n",
       "    <tr>\n",
       "      <th>20</th>\n",
       "      <td>PHP</td>\n",
       "      <td>74.800000</td>\n",
       "    </tr>\n",
       "    <tr>\n",
       "      <th>29</th>\n",
       "      <td>Scheme</td>\n",
       "      <td>74.000000</td>\n",
       "    </tr>\n",
       "    <tr>\n",
       "      <th>35</th>\n",
       "      <td>YAML</td>\n",
       "      <td>58.000000</td>\n",
       "    </tr>\n",
       "    <tr>\n",
       "      <th>13</th>\n",
       "      <td>Kotlin</td>\n",
       "      <td>50.000000</td>\n",
       "    </tr>\n",
       "    <tr>\n",
       "      <th>22</th>\n",
       "      <td>Perl</td>\n",
       "      <td>27.000000</td>\n",
       "    </tr>\n",
       "    <tr>\n",
       "      <th>19</th>\n",
       "      <td>Objective-C</td>\n",
       "      <td>24.000000</td>\n",
       "    </tr>\n",
       "    <tr>\n",
       "      <th>28</th>\n",
       "      <td>SCSS</td>\n",
       "      <td>20.000000</td>\n",
       "    </tr>\n",
       "    <tr>\n",
       "      <th>15</th>\n",
       "      <td>M4</td>\n",
       "      <td>0.000000</td>\n",
       "    </tr>\n",
       "  </tbody>\n",
       "</table>\n",
       "</div>"
      ],
      "text/plain": [
       "            language  cleaned_length\n",
       "11             Jinja      815.500000\n",
       "18             OCaml      679.000000\n",
       "2                C++      470.200000\n",
       "0                  C      467.347826\n",
       "8            Haskell      404.750000\n",
       "24               QML      393.400000\n",
       "1                 C#      348.000000\n",
       "6                 Go      336.400000\n",
       "3                CSS      319.542857\n",
       "27              Rust      312.307692\n",
       "26              Ruby      307.222222\n",
       "4         Dockerfile      294.714286\n",
       "10        JavaScript      270.300000\n",
       "23            Python      262.882979\n",
       "30             Shell      239.475385\n",
       "12  Jupyter Notebook      206.500000\n",
       "31               TeX      204.000000\n",
       "5         Emacs Lisp      202.333333\n",
       "25              Roff      200.000000\n",
       "32        TypeScript      192.000000\n",
       "16          Makefile      185.769231\n",
       "7               HTML      175.384615\n",
       "9               Java      171.666667\n",
       "33        Vim script      140.307692\n",
       "14               Lua      130.222222\n",
       "17               Nim      114.000000\n",
       "21       POV-Ray SDL       97.000000\n",
       "34              VimL       81.000000\n",
       "20               PHP       74.800000\n",
       "29            Scheme       74.000000\n",
       "35              YAML       58.000000\n",
       "13            Kotlin       50.000000\n",
       "22              Perl       27.000000\n",
       "19       Objective-C       24.000000\n",
       "28              SCSS       20.000000\n",
       "15                M4        0.000000"
      ]
     },
     "execution_count": 27,
     "metadata": {},
     "output_type": "execute_result"
    }
   ],
   "source": [
    "arch_df.groupby('language').mean().reset_index().sort_values('cleaned_length', ascending=False)"
   ]
  },
  {
   "cell_type": "code",
   "execution_count": 28,
   "id": "f358820e",
   "metadata": {},
   "outputs": [
    {
     "data": {
      "image/png": "[encoded data removed]",
      "text/plain": [
       "<Figure size 1296x576 with 1 Axes>"
      ]
     },
     "metadata": {
      "needs_background": "light"
     },
     "output_type": "display_data"
    }
   ],
   "source": [
    "plt.figure(figsize=(18, 8))\n",
    "sns.barplot(data = arch_df.groupby('language').max().reset_index().sort_values('cleaned_length', ascending=False), x = 'cleaned_length', y='language')\n",
    "plt.title('Max Readme length by Language')\n",
    "plt.show()"
   ]
  },
  {
   "cell_type": "code",
   "execution_count": 29,
   "id": "c841b386",
   "metadata": {},
   "outputs": [
    {
     "data": {
      "image/png": "[encoded data removed]",
      "text/plain": [
       "<Figure size 1296x576 with 1 Axes>"
      ]
     },
     "metadata": {
      "needs_background": "light"
     },
     "output_type": "display_data"
    }
   ],
   "source": [
    "plt.figure(figsize=(18, 8))\n",
    "sns.barplot(data = arch_df.groupby('language').min().reset_index().sort_values('cleaned_length', ascending=False), x = 'cleaned_length', y='language')\n",
    "plt.title('Min Readme length by Language')\n",
    "plt.show()"
   ]
  },
  {
   "cell_type": "markdown",
   "id": "e0f4d672",
   "metadata": {},
   "source": [
    "# Making new dataframes based on language"
   ]
  },
  {
   "cell_type": "code",
   "execution_count": 30,
   "id": "f23aae78",
   "metadata": {},
   "outputs": [],
   "source": [
    "shell = arch_df.query('language == \"Shell\"').reset_index()\n",
    "python = arch_df.query('language == \"Python\"').reset_index()\n",
    "css = arch_df.query('language == \"CSS\"').reset_index()\n",
    "other_lang = arch_df.query('language != \"Shell\" & language != \"Python\" & language != \"CSS\"').reset_index()"
   ]
  },
  {
   "cell_type": "code",
   "execution_count": 31,
   "id": "f7fce497",
   "metadata": {},
   "outputs": [
    {
     "data": {
      "text/plain": [
       "984"
      ]
     },
     "execution_count": 31,
     "metadata": {},
     "output_type": "execute_result"
    }
   ],
   "source": [
    "len(shell) + len(python) + len(css) + len(other_lang)"
   ]
  },
  {
   "cell_type": "code",
   "execution_count": 32,
   "id": "3ea43393",
   "metadata": {},
   "outputs": [
    {
     "data": {
      "text/html": [
       "<div>\n",
       "<style scoped>\n",
       "    .dataframe tbody tr th:only-of-type {\n",
       "        vertical-align: middle;\n",
       "    }\n",
       "\n",
       "    .dataframe tbody tr th {\n",
       "        vertical-align: top;\n",
       "    }\n",
       "\n",
       "    .dataframe thead th {\n",
       "        text-align: right;\n",
       "    }\n",
       "</style>\n",
       "<table border=\"1\" class=\"dataframe\">\n",
       "  <thead>\n",
       "    <tr style=\"text-align: right;\">\n",
       "      <th></th>\n",
       "      <th>index</th>\n",
       "      <th>repo</th>\n",
       "      <th>language</th>\n",
       "      <th>readme_contents</th>\n",
       "      <th>cleaned_readme</th>\n",
       "      <th>cleaned_length</th>\n",
       "    </tr>\n",
       "  </thead>\n",
       "  <tbody>\n",
       "    <tr>\n",
       "      <th>0</th>\n",
       "      <td>0</td>\n",
       "      <td>ChrisTitusTech/ArchTitus</td>\n",
       "      <td>Shell</td>\n",
       "      <td># ArchTitus Installer Script\\n[![GitHub Super-...</td>\n",
       "      <td>[archtitu, instal, script, github, superlint, ...</td>\n",
       "      <td>245</td>\n",
       "    </tr>\n",
       "    <tr>\n",
       "      <th>1</th>\n",
       "      <td>1</td>\n",
       "      <td>archlinuxcn/repo</td>\n",
       "      <td>Shell</td>\n",
       "      <td>Arch Linux Chinese Community Repository\\n====\\...</td>\n",
       "      <td>[chines, commun, repositori, packag, consist, ...</td>\n",
       "      <td>72</td>\n",
       "    </tr>\n",
       "    <tr>\n",
       "      <th>2</th>\n",
       "      <td>2</td>\n",
       "      <td>MatMoul/archfi</td>\n",
       "      <td>Shell</td>\n",
       "      <td># archfi\\n\\nJust a simple bash script wizard t...</td>\n",
       "      <td>[archfi, simpl, bash, script, wizard, instal, ...</td>\n",
       "      <td>108</td>\n",
       "    </tr>\n",
       "    <tr>\n",
       "      <th>3</th>\n",
       "      <td>4</td>\n",
       "      <td>picodotdev/alis</td>\n",
       "      <td>Shell</td>\n",
       "      <td># alis\\n\\n![Arch Linux](https://raw.githubuser...</td>\n",
       "      <td>[ali, bash, instal, script, ali, also, known, ...</td>\n",
       "      <td>916</td>\n",
       "    </tr>\n",
       "    <tr>\n",
       "      <th>4</th>\n",
       "      <td>5</td>\n",
       "      <td>windelicato/dotfiles</td>\n",
       "      <td>Shell</td>\n",
       "      <td>Arch Linux configuration files for programs an...</td>\n",
       "      <td>[configur, file, program, bspwm, requir, run, ...</td>\n",
       "      <td>57</td>\n",
       "    </tr>\n",
       "  </tbody>\n",
       "</table>\n",
       "</div>"
      ],
      "text/plain": [
       "   index                      repo language  \\\n",
       "0      0  ChrisTitusTech/ArchTitus    Shell   \n",
       "1      1          archlinuxcn/repo    Shell   \n",
       "2      2            MatMoul/archfi    Shell   \n",
       "3      4           picodotdev/alis    Shell   \n",
       "4      5      windelicato/dotfiles    Shell   \n",
       "\n",
       "                                     readme_contents  \\\n",
       "0  # ArchTitus Installer Script\\n[![GitHub Super-...   \n",
       "1  Arch Linux Chinese Community Repository\\n====\\...   \n",
       "2  # archfi\\n\\nJust a simple bash script wizard t...   \n",
       "3  # alis\\n\\n![Arch Linux](https://raw.githubuser...   \n",
       "4  Arch Linux configuration files for programs an...   \n",
       "\n",
       "                                      cleaned_readme  cleaned_length  \n",
       "0  [archtitu, instal, script, github, superlint, ...             245  \n",
       "1  [chines, commun, repositori, packag, consist, ...              72  \n",
       "2  [archfi, simpl, bash, script, wizard, instal, ...             108  \n",
       "3  [ali, bash, instal, script, ali, also, known, ...             916  \n",
       "4  [configur, file, program, bspwm, requir, run, ...              57  "
      ]
     },
     "execution_count": 32,
     "metadata": {},
     "output_type": "execute_result"
    }
   ],
   "source": [
    "shell.head()"
   ]
  },
  {
   "cell_type": "code",
   "execution_count": 33,
   "id": "611ee413",
   "metadata": {},
   "outputs": [
    {
     "data": {
      "text/plain": [
       "count     155659\n",
       "unique     18329\n",
       "top       instal\n",
       "freq        2825\n",
       "dtype: object"
      ]
     },
     "execution_count": 33,
     "metadata": {},
     "output_type": "execute_result"
    }
   ],
   "source": [
    "shell_corpus_list = []\n",
    "for entry in range(len(shell)):\n",
    "    shell_corpus_list.extend(shell.cleaned_readme[entry])\n",
    "shell_corpus = pd.Series(shell_corpus_list)\n",
    "shell_corpus.describe()"
   ]
  },
  {
   "cell_type": "code",
   "execution_count": 34,
   "id": "d08e6115",
   "metadata": {},
   "outputs": [
    {
     "data": {
      "text/plain": [
       "count      24711\n",
       "unique      4281\n",
       "top       instal\n",
       "freq         468\n",
       "dtype: object"
      ]
     },
     "execution_count": 34,
     "metadata": {},
     "output_type": "execute_result"
    }
   ],
   "source": [
    "python_corpus_list = []\n",
    "for entry in range(len(python)):\n",
    "    python_corpus_list.extend(python.cleaned_readme[entry])\n",
    "python_corpus = pd.Series(python_corpus_list)\n",
    "python_corpus.describe()"
   ]
  },
  {
   "cell_type": "code",
   "execution_count": 35,
   "id": "2b38cc39",
   "metadata": {},
   "outputs": [
    {
     "data": {
      "text/plain": [
       "count     11184\n",
       "unique     3215\n",
       "top         use\n",
       "freq        167\n",
       "dtype: object"
      ]
     },
     "execution_count": 35,
     "metadata": {},
     "output_type": "execute_result"
    }
   ],
   "source": [
    "css_corpus_list = []\n",
    "for entry in range(len(css)):\n",
    "    css_corpus_list.extend(css.cleaned_readme[entry])\n",
    "css_corpus = pd.Series(css_corpus_list)\n",
    "css_corpus.describe()"
   ]
  },
  {
   "cell_type": "code",
   "execution_count": 36,
   "id": "6bd5e118",
   "metadata": {},
   "outputs": [
    {
     "data": {
      "text/plain": [
       "count      53488\n",
       "unique      8420\n",
       "top       instal\n",
       "freq         813\n",
       "dtype: object"
      ]
     },
     "execution_count": 36,
     "metadata": {},
     "output_type": "execute_result"
    }
   ],
   "source": [
    "other_lang_corpus_list = []\n",
    "for entry in range(len(other_lang)):\n",
    "    other_lang_corpus_list.extend(other_lang.cleaned_readme[entry])\n",
    "other_lang_corpus = pd.Series(other_lang_corpus_list)\n",
    "other_lang_corpus.describe()"
   ]
  },
  {
   "cell_type": "code",
   "execution_count": 37,
   "id": "f8ea3584",
   "metadata": {},
   "outputs": [],
   "source": [
    "shell_freq = pd.Series(shell_corpus).value_counts()\n",
    "python_freq = pd.Series(python_corpus).value_counts()\n",
    "css_freq = pd.Series(css_corpus).value_counts()\n",
    "other_lang_freq = pd.Series(other_lang_corpus).value_counts()"
   ]
  },
  {
   "cell_type": "code",
   "execution_count": null,
   "id": "7767735b",
   "metadata": {},
   "outputs": [],
   "source": []
  }
 ],
 "metadata": {
  "kernelspec": {
   "display_name": "Python 3 (ipykernel)",
   "language": "python",
   "name": "python3"
  },
  "language_info": {
   "codemirror_mode": {
    "name": "ipython",
    "version": 3
   },
   "file_extension": ".py",
   "mimetype": "text/x-python",
   "name": "python",
   "nbconvert_exporter": "python",
   "pygments_lexer": "ipython3",
   "version": "3.9.7"
  }
 },
 "nbformat": 4,
 "nbformat_minor": 5
}

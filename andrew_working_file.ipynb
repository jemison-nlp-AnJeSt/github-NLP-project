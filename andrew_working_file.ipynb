{
 "cells": [
  {
   "cell_type": "code",
   "execution_count": 1,
   "id": "840984b9",
   "metadata": {},
   "outputs": [],
   "source": [
    "from bs4 import BeautifulSoup\n",
    "import pandas as pd\n",
    "import re\n",
    "import matplotlib.pyplot as plt\n",
    "import seaborn as sns\n",
    "\n",
    "import nltk\n",
    "from nltk.tokenize.toktok import ToktokTokenizer\n",
    "from nltk.corpus import stopwords\n",
    "import unicodedata"
   ]
  },
  {
   "cell_type": "code",
   "execution_count": 2,
   "id": "8b55fd30",
   "metadata": {},
   "outputs": [
    {
     "data": {
      "text/html": [
       "<div>\n",
       "<style scoped>\n",
       "    .dataframe tbody tr th:only-of-type {\n",
       "        vertical-align: middle;\n",
       "    }\n",
       "\n",
       "    .dataframe tbody tr th {\n",
       "        vertical-align: top;\n",
       "    }\n",
       "\n",
       "    .dataframe thead th {\n",
       "        text-align: right;\n",
       "    }\n",
       "</style>\n",
       "<table border=\"1\" class=\"dataframe\">\n",
       "  <thead>\n",
       "    <tr style=\"text-align: right;\">\n",
       "      <th></th>\n",
       "      <th>repo</th>\n",
       "      <th>language</th>\n",
       "      <th>readme_contents</th>\n",
       "    </tr>\n",
       "  </thead>\n",
       "  <tbody>\n",
       "    <tr>\n",
       "      <th>0</th>\n",
       "      <td>ChrisTitusTech/ArchTitus</td>\n",
       "      <td>Shell</td>\n",
       "      <td># ArchTitus Installer Script\\n[![GitHub Super-...</td>\n",
       "    </tr>\n",
       "    <tr>\n",
       "      <th>1</th>\n",
       "      <td>archlinuxcn/repo</td>\n",
       "      <td>Shell</td>\n",
       "      <td>Arch Linux Chinese Community Repository\\n====\\...</td>\n",
       "    </tr>\n",
       "    <tr>\n",
       "      <th>2</th>\n",
       "      <td>MatMoul/archfi</td>\n",
       "      <td>Shell</td>\n",
       "      <td># archfi\\n\\nJust a simple bash script wizard t...</td>\n",
       "    </tr>\n",
       "    <tr>\n",
       "      <th>3</th>\n",
       "      <td>archlinux/archinstall</td>\n",
       "      <td>Python</td>\n",
       "      <td>&lt;!-- &lt;div align=\"center\"&gt; --&gt;\\n&lt;img src=\"https...</td>\n",
       "    </tr>\n",
       "    <tr>\n",
       "      <th>4</th>\n",
       "      <td>picodotdev/alis</td>\n",
       "      <td>Shell</td>\n",
       "      <td># alis\\n\\n![Arch Linux](https://raw.githubuser...</td>\n",
       "    </tr>\n",
       "    <tr>\n",
       "      <th>...</th>\n",
       "      <td>...</td>\n",
       "      <td>...</td>\n",
       "      <td>...</td>\n",
       "    </tr>\n",
       "    <tr>\n",
       "      <th>1095</th>\n",
       "      <td>gmas/home-router-ansible</td>\n",
       "      <td>Ruby</td>\n",
       "      <td># home-router-ansible\\nAnsible scripts for set...</td>\n",
       "    </tr>\n",
       "    <tr>\n",
       "      <th>1096</th>\n",
       "      <td>Voltasalt/tial</td>\n",
       "      <td>Shell</td>\n",
       "      <td># tial\\nTwitch Installs Arch Linux: Scripts\\n</td>\n",
       "    </tr>\n",
       "    <tr>\n",
       "      <th>1097</th>\n",
       "      <td>Caesim404/sikulix-git</td>\n",
       "      <td>Shell</td>\n",
       "      <td></td>\n",
       "    </tr>\n",
       "    <tr>\n",
       "      <th>1098</th>\n",
       "      <td>danboid/ZALARM-install</td>\n",
       "      <td>None</td>\n",
       "      <td># Installing Arch Linux ARM (ALARM) on the SHA...</td>\n",
       "    </tr>\n",
       "    <tr>\n",
       "      <th>1099</th>\n",
       "      <td>BiteDasher/pacadd</td>\n",
       "      <td>Shell</td>\n",
       "      <td># pacadd\\nA simple tool for managing repositor...</td>\n",
       "    </tr>\n",
       "  </tbody>\n",
       "</table>\n",
       "<p>1100 rows × 3 columns</p>\n",
       "</div>"
      ],
      "text/plain": [
       "                          repo language  \\\n",
       "0     ChrisTitusTech/ArchTitus    Shell   \n",
       "1             archlinuxcn/repo    Shell   \n",
       "2               MatMoul/archfi    Shell   \n",
       "3        archlinux/archinstall   Python   \n",
       "4              picodotdev/alis    Shell   \n",
       "...                        ...      ...   \n",
       "1095  gmas/home-router-ansible     Ruby   \n",
       "1096            Voltasalt/tial    Shell   \n",
       "1097     Caesim404/sikulix-git    Shell   \n",
       "1098    danboid/ZALARM-install     None   \n",
       "1099         BiteDasher/pacadd    Shell   \n",
       "\n",
       "                                        readme_contents  \n",
       "0     # ArchTitus Installer Script\\n[![GitHub Super-...  \n",
       "1     Arch Linux Chinese Community Repository\\n====\\...  \n",
       "2     # archfi\\n\\nJust a simple bash script wizard t...  \n",
       "3     <!-- <div align=\"center\"> -->\\n<img src=\"https...  \n",
       "4     # alis\\n\\n![Arch Linux](https://raw.githubuser...  \n",
       "...                                                 ...  \n",
       "1095  # home-router-ansible\\nAnsible scripts for set...  \n",
       "1096      # tial\\nTwitch Installs Arch Linux: Scripts\\n  \n",
       "1097                                                     \n",
       "1098  # Installing Arch Linux ARM (ALARM) on the SHA...  \n",
       "1099  # pacadd\\nA simple tool for managing repositor...  \n",
       "\n",
       "[1100 rows x 3 columns]"
      ]
     },
     "execution_count": 2,
     "metadata": {},
     "output_type": "execute_result"
    }
   ],
   "source": [
    "arch_df = pd.read_json('arch_linux_data.json')\n",
    "arch_df"
   ]
  },
  {
   "cell_type": "code",
   "execution_count": 3,
   "id": "d7c937e4",
   "metadata": {},
   "outputs": [
    {
     "data": {
      "text/html": [
       "<div>\n",
       "<style scoped>\n",
       "    .dataframe tbody tr th:only-of-type {\n",
       "        vertical-align: middle;\n",
       "    }\n",
       "\n",
       "    .dataframe tbody tr th {\n",
       "        vertical-align: top;\n",
       "    }\n",
       "\n",
       "    .dataframe thead th {\n",
       "        text-align: right;\n",
       "    }\n",
       "</style>\n",
       "<table border=\"1\" class=\"dataframe\">\n",
       "  <thead>\n",
       "    <tr style=\"text-align: right;\">\n",
       "      <th></th>\n",
       "      <th>repo</th>\n",
       "      <th>language</th>\n",
       "      <th>readme_contents</th>\n",
       "    </tr>\n",
       "  </thead>\n",
       "  <tbody>\n",
       "    <tr>\n",
       "      <th>0</th>\n",
       "      <td>ChrisTitusTech/ArchTitus</td>\n",
       "      <td>Shell</td>\n",
       "      <td># ArchTitus Installer Script\\n[![GitHub Super-...</td>\n",
       "    </tr>\n",
       "    <tr>\n",
       "      <th>1</th>\n",
       "      <td>archlinuxcn/repo</td>\n",
       "      <td>Shell</td>\n",
       "      <td>Arch Linux Chinese Community Repository\\n====\\...</td>\n",
       "    </tr>\n",
       "    <tr>\n",
       "      <th>2</th>\n",
       "      <td>MatMoul/archfi</td>\n",
       "      <td>Shell</td>\n",
       "      <td># archfi\\n\\nJust a simple bash script wizard t...</td>\n",
       "    </tr>\n",
       "    <tr>\n",
       "      <th>3</th>\n",
       "      <td>archlinux/archinstall</td>\n",
       "      <td>Python</td>\n",
       "      <td>&lt;!-- &lt;div align=\"center\"&gt; --&gt;\\n&lt;img src=\"https...</td>\n",
       "    </tr>\n",
       "    <tr>\n",
       "      <th>4</th>\n",
       "      <td>picodotdev/alis</td>\n",
       "      <td>Shell</td>\n",
       "      <td># alis\\n\\n![Arch Linux](https://raw.githubuser...</td>\n",
       "    </tr>\n",
       "    <tr>\n",
       "      <th>...</th>\n",
       "      <td>...</td>\n",
       "      <td>...</td>\n",
       "      <td>...</td>\n",
       "    </tr>\n",
       "    <tr>\n",
       "      <th>979</th>\n",
       "      <td>archclassroom/archclassroom.github.io</td>\n",
       "      <td>HTML</td>\n",
       "      <td># archclassroom.github.io\\nArch Linux Classroo...</td>\n",
       "    </tr>\n",
       "    <tr>\n",
       "      <th>980</th>\n",
       "      <td>gmas/home-router-ansible</td>\n",
       "      <td>Ruby</td>\n",
       "      <td># home-router-ansible\\nAnsible scripts for set...</td>\n",
       "    </tr>\n",
       "    <tr>\n",
       "      <th>981</th>\n",
       "      <td>Voltasalt/tial</td>\n",
       "      <td>Shell</td>\n",
       "      <td># tial\\nTwitch Installs Arch Linux: Scripts\\n</td>\n",
       "    </tr>\n",
       "    <tr>\n",
       "      <th>982</th>\n",
       "      <td>Caesim404/sikulix-git</td>\n",
       "      <td>Shell</td>\n",
       "      <td></td>\n",
       "    </tr>\n",
       "    <tr>\n",
       "      <th>983</th>\n",
       "      <td>BiteDasher/pacadd</td>\n",
       "      <td>Shell</td>\n",
       "      <td># pacadd\\nA simple tool for managing repositor...</td>\n",
       "    </tr>\n",
       "  </tbody>\n",
       "</table>\n",
       "<p>984 rows × 3 columns</p>\n",
       "</div>"
      ],
      "text/plain": [
       "                                      repo language  \\\n",
       "0                 ChrisTitusTech/ArchTitus    Shell   \n",
       "1                         archlinuxcn/repo    Shell   \n",
       "2                           MatMoul/archfi    Shell   \n",
       "3                    archlinux/archinstall   Python   \n",
       "4                          picodotdev/alis    Shell   \n",
       "..                                     ...      ...   \n",
       "979  archclassroom/archclassroom.github.io     HTML   \n",
       "980               gmas/home-router-ansible     Ruby   \n",
       "981                         Voltasalt/tial    Shell   \n",
       "982                  Caesim404/sikulix-git    Shell   \n",
       "983                      BiteDasher/pacadd    Shell   \n",
       "\n",
       "                                       readme_contents  \n",
       "0    # ArchTitus Installer Script\\n[![GitHub Super-...  \n",
       "1    Arch Linux Chinese Community Repository\\n====\\...  \n",
       "2    # archfi\\n\\nJust a simple bash script wizard t...  \n",
       "3    <!-- <div align=\"center\"> -->\\n<img src=\"https...  \n",
       "4    # alis\\n\\n![Arch Linux](https://raw.githubuser...  \n",
       "..                                                 ...  \n",
       "979  # archclassroom.github.io\\nArch Linux Classroo...  \n",
       "980  # home-router-ansible\\nAnsible scripts for set...  \n",
       "981      # tial\\nTwitch Installs Arch Linux: Scripts\\n  \n",
       "982                                                     \n",
       "983  # pacadd\\nA simple tool for managing repositor...  \n",
       "\n",
       "[984 rows x 3 columns]"
      ]
     },
     "execution_count": 3,
     "metadata": {},
     "output_type": "execute_result"
    }
   ],
   "source": [
    "arch_df = arch_df[arch_df.language.notnull()].reset_index().drop(columns= 'index')\n",
    "arch_df"
   ]
  },
  {
   "cell_type": "code",
   "execution_count": 4,
   "id": "52c2d19b",
   "metadata": {},
   "outputs": [],
   "source": [
    "# Constants for the NLP project\n",
    "\n",
    "ADDITIONAL_STOPWORDS = [\n",
    "    'sudo',\n",
    "    'distro',\n",
    "    'linux',\n",
    "    'aptget',\n",
    "    'ubuntu',\n",
    "    'debian',\n",
    "    'arch',\n",
    "    'archlinux',\n",
    "    'git',\n",
    "    'root',\n",
    "    'img', 'instal', 'use', 'user', 'packag', 'file', 'run', 'system', 'configur', 'script', 'set', 'build', \n",
    "    'need', 'make', 'option', 'creat', 'default'\n",
    "] \n",
    "\n",
    "def clean_data(text):\n",
    "    ps = nltk.porter.PorterStemmer()\n",
    "    stopwords = nltk.corpus.stopwords.words('english') + ADDITIONAL_STOPWORDS\n",
    "    text = (unicodedata.normalize('NFKD', text)\n",
    "             .encode('ascii', 'ignore')\n",
    "             .decode('utf-8', 'ignore')\n",
    "             .lower())\n",
    "    words = re.sub(r'[\\(<\\\"]?http.*[\\)>\\\"\\s]', ' ', text).split()\n",
    "    words = [re.sub(r'[^\\w\\s]', '', text) for text in words]\n",
    "    try:\n",
    "        while True:\n",
    "            words.remove('')\n",
    "    except ValueError:\n",
    "        pass\n",
    "    \n",
    "    return [ps.stem(word) for word in words if word not in stopwords]"
   ]
  },
  {
   "cell_type": "code",
   "execution_count": 5,
   "id": "630f339b",
   "metadata": {},
   "outputs": [],
   "source": [
    "arch_df['cleaned_readme'] = arch_df.readme_contents.apply(clean_data)\n",
    "arch_df['cleaned_length'] = 0"
   ]
  },
  {
   "cell_type": "code",
   "execution_count": 6,
   "id": "68f28def",
   "metadata": {},
   "outputs": [
    {
     "name": "stderr",
     "output_type": "stream",
     "text": [
      "/var/folders/r6/g880v64s6vj401drwcc37nf00000gn/T/ipykernel_17494/1951381642.py:2: SettingWithCopyWarning: \n",
      "A value is trying to be set on a copy of a slice from a DataFrame\n",
      "\n",
      "See the caveats in the documentation: https://pandas.pydata.org/pandas-docs/stable/user_guide/indexing.html#returning-a-view-versus-a-copy\n",
      "  arch_df['cleaned_length'][i] = len(arch_df.cleaned_readme[i])\n"
     ]
    }
   ],
   "source": [
    "for i in range(len(arch_df.cleaned_readme)):\n",
    "    arch_df['cleaned_length'][i] = len(arch_df.cleaned_readme[i])"
   ]
  },
  {
   "cell_type": "code",
   "execution_count": 7,
   "id": "ca1a860a",
   "metadata": {},
   "outputs": [
    {
     "data": {
      "text/html": [
       "<div>\n",
       "<style scoped>\n",
       "    .dataframe tbody tr th:only-of-type {\n",
       "        vertical-align: middle;\n",
       "    }\n",
       "\n",
       "    .dataframe tbody tr th {\n",
       "        vertical-align: top;\n",
       "    }\n",
       "\n",
       "    .dataframe thead th {\n",
       "        text-align: right;\n",
       "    }\n",
       "</style>\n",
       "<table border=\"1\" class=\"dataframe\">\n",
       "  <thead>\n",
       "    <tr style=\"text-align: right;\">\n",
       "      <th></th>\n",
       "      <th>repo</th>\n",
       "      <th>language</th>\n",
       "      <th>readme_contents</th>\n",
       "      <th>cleaned_readme</th>\n",
       "      <th>cleaned_length</th>\n",
       "    </tr>\n",
       "  </thead>\n",
       "  <tbody>\n",
       "    <tr>\n",
       "      <th>0</th>\n",
       "      <td>ChrisTitusTech/ArchTitus</td>\n",
       "      <td>Shell</td>\n",
       "      <td># ArchTitus Installer Script\\n[![GitHub Super-...</td>\n",
       "      <td>[archtitu, instal, github, superlint, src, rea...</td>\n",
       "      <td>227</td>\n",
       "    </tr>\n",
       "    <tr>\n",
       "      <th>1</th>\n",
       "      <td>archlinuxcn/repo</td>\n",
       "      <td>Shell</td>\n",
       "      <td>Arch Linux Chinese Community Repository\\n====\\...</td>\n",
       "      <td>[chines, commun, repositori, packag, consist, ...</td>\n",
       "      <td>71</td>\n",
       "    </tr>\n",
       "    <tr>\n",
       "      <th>2</th>\n",
       "      <td>MatMoul/archfi</td>\n",
       "      <td>Shell</td>\n",
       "      <td># archfi\\n\\nJust a simple bash script wizard t...</td>\n",
       "      <td>[archfi, simpl, bash, wizard, instal, boot, of...</td>\n",
       "      <td>98</td>\n",
       "    </tr>\n",
       "    <tr>\n",
       "      <th>3</th>\n",
       "      <td>archlinux/archinstall</td>\n",
       "      <td>Python</td>\n",
       "      <td>&lt;!-- &lt;div align=\"center\"&gt; --&gt;\\n&lt;img src=\"https...</td>\n",
       "      <td>[div, aligncent, src, div, instal, lint, pytho...</td>\n",
       "      <td>558</td>\n",
       "    </tr>\n",
       "    <tr>\n",
       "      <th>4</th>\n",
       "      <td>picodotdev/alis</td>\n",
       "      <td>Shell</td>\n",
       "      <td># alis\\n\\n![Arch Linux](https://raw.githubuser...</td>\n",
       "      <td>[ali, bash, instal, ali, also, known, _the, ex...</td>\n",
       "      <td>867</td>\n",
       "    </tr>\n",
       "  </tbody>\n",
       "</table>\n",
       "</div>"
      ],
      "text/plain": [
       "                       repo language  \\\n",
       "0  ChrisTitusTech/ArchTitus    Shell   \n",
       "1          archlinuxcn/repo    Shell   \n",
       "2            MatMoul/archfi    Shell   \n",
       "3     archlinux/archinstall   Python   \n",
       "4           picodotdev/alis    Shell   \n",
       "\n",
       "                                     readme_contents  \\\n",
       "0  # ArchTitus Installer Script\\n[![GitHub Super-...   \n",
       "1  Arch Linux Chinese Community Repository\\n====\\...   \n",
       "2  # archfi\\n\\nJust a simple bash script wizard t...   \n",
       "3  <!-- <div align=\"center\"> -->\\n<img src=\"https...   \n",
       "4  # alis\\n\\n![Arch Linux](https://raw.githubuser...   \n",
       "\n",
       "                                      cleaned_readme  cleaned_length  \n",
       "0  [archtitu, instal, github, superlint, src, rea...             227  \n",
       "1  [chines, commun, repositori, packag, consist, ...              71  \n",
       "2  [archfi, simpl, bash, wizard, instal, boot, of...              98  \n",
       "3  [div, aligncent, src, div, instal, lint, pytho...             558  \n",
       "4  [ali, bash, instal, ali, also, known, _the, ex...             867  "
      ]
     },
     "execution_count": 7,
     "metadata": {},
     "output_type": "execute_result"
    }
   ],
   "source": [
    "arch_df.head()"
   ]
  },
  {
   "cell_type": "markdown",
   "id": "bdc088c9",
   "metadata": {},
   "source": [
    "# Exploring Overall Data"
   ]
  },
  {
   "cell_type": "code",
   "execution_count": 8,
   "id": "1b96bdf6",
   "metadata": {},
   "outputs": [
    {
     "data": {
      "text/plain": [
       "count     984.000000\n",
       "mean      237.106707\n",
       "std       440.338129\n",
       "min         0.000000\n",
       "25%        33.000000\n",
       "50%       103.500000\n",
       "75%       257.000000\n",
       "max      7434.000000\n",
       "Name: cleaned_length, dtype: float64"
      ]
     },
     "execution_count": 8,
     "metadata": {},
     "output_type": "execute_result"
    }
   ],
   "source": [
    "arch_df.cleaned_length.describe()"
   ]
  },
  {
   "cell_type": "markdown",
   "id": "e089b320",
   "metadata": {},
   "source": [
    "# Visualizing the most common lengths of cleaned readme files"
   ]
  },
  {
   "cell_type": "code",
   "execution_count": 9,
   "id": "3cb514be",
   "metadata": {},
   "outputs": [
    {
     "data": {
      "text/plain": [
       "<AxesSubplot:>"
      ]
     },
     "execution_count": 9,
     "metadata": {},
     "output_type": "execute_result"
    },
    {
     "data": {
      "image/png": "[encoded data removed]",
      "text/plain": [
       "<Figure size 432x288 with 1 Axes>"
      ]
     },
     "metadata": {
      "needs_background": "light"
     },
     "output_type": "display_data"
    }
   ],
   "source": [
    "arch_df.cleaned_length.value_counts().head(20).sort_values().plot.barh()"
   ]
  },
  {
   "cell_type": "markdown",
   "id": "3b0a730a",
   "metadata": {},
   "source": [
    "# Visualizing the most common languages of the readme files"
   ]
  },
  {
   "cell_type": "code",
   "execution_count": 10,
   "id": "3d135df1",
   "metadata": {},
   "outputs": [
    {
     "data": {
      "text/plain": [
       "<AxesSubplot:>"
      ]
     },
     "execution_count": 10,
     "metadata": {},
     "output_type": "execute_result"
    },
    {
     "data": {
      "image/png": "[encoded data removed]",
      "text/plain": [
       "<Figure size 432x288 with 1 Axes>"
      ]
     },
     "metadata": {
      "needs_background": "light"
     },
     "output_type": "display_data"
    }
   ],
   "source": [
    "arch_df.language.value_counts().head(20).sort_values().plot.barh()"
   ]
  },
  {
   "cell_type": "code",
   "execution_count": 11,
   "id": "9cf27938",
   "metadata": {},
   "outputs": [
    {
     "data": {
      "text/plain": [
       "0       Shell\n",
       "1       Shell\n",
       "2       Shell\n",
       "3      Python\n",
       "4       Shell\n",
       "        ...  \n",
       "979      HTML\n",
       "980      Ruby\n",
       "981     Shell\n",
       "982     Shell\n",
       "983     Shell\n",
       "Name: language, Length: 984, dtype: object"
      ]
     },
     "execution_count": 11,
     "metadata": {},
     "output_type": "execute_result"
    }
   ],
   "source": [
    "arch_df.language.dropna()"
   ]
  },
  {
   "cell_type": "code",
   "execution_count": 12,
   "id": "30d825bd",
   "metadata": {},
   "outputs": [
    {
     "data": {
      "text/plain": [
       "Haskell         4\n",
       "Jinja           4\n",
       "QML             5\n",
       "Perl            5\n",
       "PHP             5\n",
       "Dockerfile      7\n",
       "Lua             9\n",
       "Ruby            9\n",
       "Emacs Lisp      9\n",
       "JavaScript     10\n",
       "C++            10\n",
       "Go             10\n",
       "Rust           13\n",
       "Makefile       13\n",
       "HTML           13\n",
       "C              23\n",
       "Vim script     26\n",
       "CSS            35\n",
       "Python         94\n",
       "Shell         650\n",
       "Name: language, dtype: int64"
      ]
     },
     "execution_count": 12,
     "metadata": {},
     "output_type": "execute_result"
    }
   ],
   "source": [
    "arch_df.language.value_counts(normalize=False).head(20).sort_values()"
   ]
  },
  {
   "cell_type": "code",
   "execution_count": 13,
   "id": "434c8907",
   "metadata": {},
   "outputs": [
    {
     "data": {
      "text/plain": [
       "count     233313\n",
       "unique     26830\n",
       "top       instal\n",
       "freq        4202\n",
       "dtype: object"
      ]
     },
     "execution_count": 13,
     "metadata": {},
     "output_type": "execute_result"
    }
   ],
   "source": [
    "arch_corpus_list = []\n",
    "language = []\n",
    "for entry in range(len(arch_df.readme_contents)):\n",
    "    language.append(arch_df.language[entry])\n",
    "    arch_corpus_list.extend(clean_data(arch_df.readme_contents[entry]))\n",
    "arch_corpus = pd.Series(arch_corpus_list)\n",
    "arch_corpus.describe()"
   ]
  },
  {
   "cell_type": "markdown",
   "id": "4bca1460",
   "metadata": {},
   "source": [
    "# Inspecting and visualizing the most common words of cleaned readme files"
   ]
  },
  {
   "cell_type": "code",
   "execution_count": 14,
   "id": "124e1b67",
   "metadata": {
    "scrolled": false
   },
   "outputs": [
    {
     "data": {
      "text/plain": [
       "instal        4202\n",
       "packag        2936\n",
       "use           1957\n",
       "configur      1433\n",
       "pacman        1268\n",
       "file           980\n",
       "bash           905\n",
       "creat          896\n",
       "1              852\n",
       "boot           829\n",
       "imag           823\n",
       "follow         818\n",
       "command        809\n",
       "repositori     752\n",
       "add            738\n",
       "work           729\n",
       "updat          720\n",
       "version        715\n",
       "chang          710\n",
       "aur            708\n",
       "dtype: int64"
      ]
     },
     "execution_count": 14,
     "metadata": {},
     "output_type": "execute_result"
    }
   ],
   "source": [
    "arch_corpus.value_counts().sort_values(ascending=False).head(20)"
   ]
  },
  {
   "cell_type": "code",
   "execution_count": 15,
   "id": "2e247b62",
   "metadata": {},
   "outputs": [
    {
     "data": {
      "text/plain": [
       "<AxesSubplot:>"
      ]
     },
     "execution_count": 15,
     "metadata": {},
     "output_type": "execute_result"
    },
    {
     "data": {
      "image/png": "[encoded data removed]",
      "text/plain": [
       "<Figure size 432x288 with 1 Axes>"
      ]
     },
     "metadata": {
      "needs_background": "light"
     },
     "output_type": "display_data"
    }
   ],
   "source": [
    "arch_corpus.value_counts().head(20).sort_values().plot.barh()"
   ]
  },
  {
   "cell_type": "code",
   "execution_count": 16,
   "id": "e2d8d8e0",
   "metadata": {},
   "outputs": [
    {
     "data": {
      "text/plain": [
       "26830"
      ]
     },
     "execution_count": 16,
     "metadata": {},
     "output_type": "execute_result"
    }
   ],
   "source": [
    "arch_corpus.nunique()"
   ]
  },
  {
   "cell_type": "markdown",
   "id": "b065858f",
   "metadata": {},
   "source": [
    "# Inspecting and visualizing the most bigrams of cleaned readme files"
   ]
  },
  {
   "cell_type": "code",
   "execution_count": 17,
   "id": "2d4ab6d0",
   "metadata": {},
   "outputs": [],
   "source": [
    "top_20_arch_bigrams = (pd.Series(nltk.ngrams(arch_corpus, 2))\n",
    "                      .value_counts()\n",
    "                      .head(20))"
   ]
  },
  {
   "cell_type": "code",
   "execution_count": 18,
   "id": "f89985ae",
   "metadata": {},
   "outputs": [
    {
     "data": {
      "text/plain": [
       "(instal, packag)       240\n",
       "(packag, instal)       198\n",
       "(aur, packag)          173\n",
       "(pacman, sr)           154\n",
       "(sr, mnt)              154\n",
       "(systemctl, enabl)     145\n",
       "(desktop, environ)     133\n",
       "(sh, pacman)           131\n",
       "(command, line)        127\n",
       "(configur, file)       124\n",
       "(follow, command)      118\n",
       "(clone, cd)            116\n",
       "(instal, instal)        99\n",
       "(pacman, noconfirm)     97\n",
       "(p, aligncent)          95\n",
       "(sd, card)              90\n",
       "(environ, variabl)      89\n",
       "(pull, request)         89\n",
       "(window, manag)         88\n",
       "(virtual, machin)       83\n",
       "dtype: int64"
      ]
     },
     "execution_count": 18,
     "metadata": {},
     "output_type": "execute_result"
    }
   ],
   "source": [
    "top_20_arch_bigrams"
   ]
  },
  {
   "cell_type": "code",
   "execution_count": 19,
   "id": "5bc40701",
   "metadata": {},
   "outputs": [
    {
     "data": {
      "image/png": "[encoded data removed]",
      "text/plain": [
       "<Figure size 720x432 with 1 Axes>"
      ]
     },
     "metadata": {
      "needs_background": "light"
     },
     "output_type": "display_data"
    }
   ],
   "source": [
    "top_20_arch_bigrams.sort_values().plot.barh(color='#00C0DE', width=.9, figsize=(10, 6))\n",
    "\n",
    "plt.title('20 Most frequently occuring arch bigrams')\n",
    "plt.ylabel('Bigram')\n",
    "plt.xlabel('# Occurances')\n",
    "\n",
    "# make the labels pretty\n",
    "ticks, _ = plt.yticks()\n",
    "labels = top_20_arch_bigrams.reset_index().sort_index(ascending=False)['index'].apply(lambda t: t[0] + ' ' + t[1])\n",
    "_ = plt.yticks(ticks, labels)\n"
   ]
  },
  {
   "cell_type": "markdown",
   "id": "4845e4a1",
   "metadata": {},
   "source": [
    "# Inspecting and visualizing the most trigrams of cleaned readme files"
   ]
  },
  {
   "cell_type": "code",
   "execution_count": 20,
   "id": "3eb8f50d",
   "metadata": {},
   "outputs": [
    {
     "data": {
      "text/plain": [
       "(pacman, sr, mnt)                     154\n",
       "(sh, pacman, noconfirm)                85\n",
       "(v, etclocaltimeetclocaltimero, e)     60\n",
       "(gnu, gener, public)                   54\n",
       "(gener, public, licens)                53\n",
       "(archlinuxcn, server, ini)             50\n",
       "(00, 00, 00)                           36\n",
       "(pleas, consid, buy)                   34\n",
       "(puid0, e, pgid0)                      33\n",
       "(umask000, e, puid0)                   33\n",
       "(e, umask000, e)                       33\n",
       "(e, puid0, e)                          33\n",
       "(p, aligncent, src)                    33\n",
       "(beer, paypal, donat)                  32\n",
       "(buy, beer, paypal)                    32\n",
       "(consid, buy, beer)                    32\n",
       "(appreci, work, pleas)                 32\n",
       "(work, pleas, consid)                  32\n",
       "(issu, follow, command)                31\n",
       "(paypal, donat, document)              31\n",
       "dtype: int64"
      ]
     },
     "execution_count": 20,
     "metadata": {},
     "output_type": "execute_result"
    }
   ],
   "source": [
    "top_20_arch_trigrams = (pd.Series(nltk.ngrams(arch_corpus, 3)).value_counts().head(20))\n",
    "top_20_arch_trigrams"
   ]
  },
  {
   "cell_type": "code",
   "execution_count": 21,
   "id": "7245432a",
   "metadata": {},
   "outputs": [
    {
     "data": {
      "image/png": "[encoded data removed]",
      "text/plain": [
       "<Figure size 720x432 with 1 Axes>"
      ]
     },
     "metadata": {
      "needs_background": "light"
     },
     "output_type": "display_data"
    }
   ],
   "source": [
    "top_20_arch_trigrams.sort_values().plot.barh(color='#00C0DE', width=.9, figsize=(10, 6))\n",
    "\n",
    "plt.title('20 Most frequently occuring arch trigrams')\n",
    "plt.ylabel('Trigram')\n",
    "plt.xlabel('# Occurances')\n",
    "\n",
    "# make the labels pretty\n",
    "ticks, _ = plt.yticks()\n",
    "labels = top_20_arch_trigrams.reset_index().sort_index(ascending=False)['index'].apply(lambda t: t[0] + ' ' + t[1] + ' ' + t[2])\n",
    "_ = plt.yticks(ticks, labels)\n"
   ]
  },
  {
   "cell_type": "markdown",
   "id": "65f9aba1",
   "metadata": {},
   "source": [
    "# Inspecting and visualizing the most quadgrams of cleaned readme files"
   ]
  },
  {
   "cell_type": "code",
   "execution_count": 22,
   "id": "147a2c5e",
   "metadata": {},
   "outputs": [
    {
     "data": {
      "text/plain": [
       "(gnu, gener, public, licens)          50\n",
       "(00, 00, 00, 00)                      34\n",
       "(umask000, e, puid0, e)               33\n",
       "(e, puid0, e, pgid0)                  33\n",
       "(e, umask000, e, puid0)               33\n",
       "(buy, beer, paypal, donat)            32\n",
       "(work, pleas, consid, buy)            32\n",
       "(consid, buy, beer, paypal)           32\n",
       "(appreci, work, pleas, consid)        32\n",
       "(pleas, consid, buy, beer)            32\n",
       "(beer, paypal, donat, document)       31\n",
       "(variabl, command, defin, correct)    28\n",
       "(replac, variabl, command, defin)     28\n",
       "(path, config, filesconfig, v)        28\n",
       "(v, path, config, filesconfig)        28\n",
       "(___, appreci, work, pleas)           28\n",
       "(command, defin, correct, valu)       28\n",
       "(pleas, replac, variabl, command)     28\n",
       "(puid, group, id, pgid)               27\n",
       "(file, e, puiduid, e)                 27\n",
       "dtype: int64"
      ]
     },
     "execution_count": 22,
     "metadata": {},
     "output_type": "execute_result"
    }
   ],
   "source": [
    "top_20_arch_quadgrams = (pd.Series(nltk.ngrams(arch_corpus, 4)).value_counts().head(20))\n",
    "top_20_arch_quadgrams"
   ]
  },
  {
   "cell_type": "code",
   "execution_count": 23,
   "id": "d7664dc5",
   "metadata": {},
   "outputs": [
    {
     "data": {
      "image/png": "[encoded data removed]",
      "text/plain": [
       "<Figure size 720x432 with 1 Axes>"
      ]
     },
     "metadata": {
      "needs_background": "light"
     },
     "output_type": "display_data"
    }
   ],
   "source": [
    "top_20_arch_quadgrams.sort_values().plot.barh(color='#00C0DE', width=.9, figsize=(10, 6))\n",
    "\n",
    "plt.title('20 Most frequently occuring arch quadgrams')\n",
    "plt.ylabel('Quadgram')\n",
    "plt.xlabel('# Occurances')\n",
    "\n",
    "# make the labels pretty\n",
    "ticks, _ = plt.yticks()\n",
    "labels = top_20_arch_quadgrams.reset_index().sort_index(ascending=False)['index'].apply(lambda t: t[0] + ' ' + t[1] + ' ' + t[2] + ' ' + t[3])\n",
    "_ = plt.yticks(ticks, labels)\n"
   ]
  },
  {
   "cell_type": "markdown",
   "id": "ec2ae3ea",
   "metadata": {},
   "source": [
    "# Exploring data grouped by language"
   ]
  },
  {
   "cell_type": "code",
   "execution_count": 24,
   "id": "dbe50e02",
   "metadata": {},
   "outputs": [
    {
     "data": {
      "image/png": "[encoded data removed]",
      "text/plain": [
       "<Figure size 1296x576 with 1 Axes>"
      ]
     },
     "metadata": {
      "needs_background": "light"
     },
     "output_type": "display_data"
    }
   ],
   "source": [
    "plt.figure(figsize=(18, 8))\n",
    "sns.barplot(data = arch_df.groupby('language').mean().reset_index().sort_values('cleaned_length', ascending=False), x = 'cleaned_length', y='language')\n",
    "plt.title('Average Readme length by Language')\n",
    "plt.show()"
   ]
  },
  {
   "cell_type": "code",
   "execution_count": 25,
   "id": "f244120b",
   "metadata": {},
   "outputs": [
    {
     "data": {
      "text/html": [
       "<div>\n",
       "<style scoped>\n",
       "    .dataframe tbody tr th:only-of-type {\n",
       "        vertical-align: middle;\n",
       "    }\n",
       "\n",
       "    .dataframe tbody tr th {\n",
       "        vertical-align: top;\n",
       "    }\n",
       "\n",
       "    .dataframe thead th {\n",
       "        text-align: right;\n",
       "    }\n",
       "</style>\n",
       "<table border=\"1\" class=\"dataframe\">\n",
       "  <thead>\n",
       "    <tr style=\"text-align: right;\">\n",
       "      <th></th>\n",
       "      <th>language</th>\n",
       "      <th>cleaned_length</th>\n",
       "    </tr>\n",
       "  </thead>\n",
       "  <tbody>\n",
       "    <tr>\n",
       "      <th>11</th>\n",
       "      <td>Jinja</td>\n",
       "      <td>765.250000</td>\n",
       "    </tr>\n",
       "    <tr>\n",
       "      <th>18</th>\n",
       "      <td>OCaml</td>\n",
       "      <td>648.000000</td>\n",
       "    </tr>\n",
       "    <tr>\n",
       "      <th>2</th>\n",
       "      <td>C++</td>\n",
       "      <td>453.200000</td>\n",
       "    </tr>\n",
       "    <tr>\n",
       "      <th>0</th>\n",
       "      <td>C</td>\n",
       "      <td>445.739130</td>\n",
       "    </tr>\n",
       "    <tr>\n",
       "      <th>8</th>\n",
       "      <td>Haskell</td>\n",
       "      <td>395.250000</td>\n",
       "    </tr>\n",
       "    <tr>\n",
       "      <th>24</th>\n",
       "      <td>QML</td>\n",
       "      <td>374.400000</td>\n",
       "    </tr>\n",
       "    <tr>\n",
       "      <th>1</th>\n",
       "      <td>C#</td>\n",
       "      <td>339.000000</td>\n",
       "    </tr>\n",
       "    <tr>\n",
       "      <th>6</th>\n",
       "      <td>Go</td>\n",
       "      <td>322.100000</td>\n",
       "    </tr>\n",
       "    <tr>\n",
       "      <th>3</th>\n",
       "      <td>CSS</td>\n",
       "      <td>307.942857</td>\n",
       "    </tr>\n",
       "    <tr>\n",
       "      <th>27</th>\n",
       "      <td>Rust</td>\n",
       "      <td>298.923077</td>\n",
       "    </tr>\n",
       "    <tr>\n",
       "      <th>26</th>\n",
       "      <td>Ruby</td>\n",
       "      <td>296.444444</td>\n",
       "    </tr>\n",
       "    <tr>\n",
       "      <th>4</th>\n",
       "      <td>Dockerfile</td>\n",
       "      <td>276.571429</td>\n",
       "    </tr>\n",
       "    <tr>\n",
       "      <th>10</th>\n",
       "      <td>JavaScript</td>\n",
       "      <td>257.400000</td>\n",
       "    </tr>\n",
       "    <tr>\n",
       "      <th>23</th>\n",
       "      <td>Python</td>\n",
       "      <td>248.734043</td>\n",
       "    </tr>\n",
       "    <tr>\n",
       "      <th>30</th>\n",
       "      <td>Shell</td>\n",
       "      <td>227.860000</td>\n",
       "    </tr>\n",
       "    <tr>\n",
       "      <th>12</th>\n",
       "      <td>Jupyter Notebook</td>\n",
       "      <td>201.000000</td>\n",
       "    </tr>\n",
       "    <tr>\n",
       "      <th>31</th>\n",
       "      <td>TeX</td>\n",
       "      <td>201.000000</td>\n",
       "    </tr>\n",
       "    <tr>\n",
       "      <th>5</th>\n",
       "      <td>Emacs Lisp</td>\n",
       "      <td>194.888889</td>\n",
       "    </tr>\n",
       "    <tr>\n",
       "      <th>25</th>\n",
       "      <td>Roff</td>\n",
       "      <td>191.000000</td>\n",
       "    </tr>\n",
       "    <tr>\n",
       "      <th>32</th>\n",
       "      <td>TypeScript</td>\n",
       "      <td>186.000000</td>\n",
       "    </tr>\n",
       "    <tr>\n",
       "      <th>16</th>\n",
       "      <td>Makefile</td>\n",
       "      <td>174.076923</td>\n",
       "    </tr>\n",
       "    <tr>\n",
       "      <th>7</th>\n",
       "      <td>HTML</td>\n",
       "      <td>167.000000</td>\n",
       "    </tr>\n",
       "    <tr>\n",
       "      <th>9</th>\n",
       "      <td>Java</td>\n",
       "      <td>163.000000</td>\n",
       "    </tr>\n",
       "    <tr>\n",
       "      <th>33</th>\n",
       "      <td>Vim script</td>\n",
       "      <td>132.576923</td>\n",
       "    </tr>\n",
       "    <tr>\n",
       "      <th>14</th>\n",
       "      <td>Lua</td>\n",
       "      <td>125.222222</td>\n",
       "    </tr>\n",
       "    <tr>\n",
       "      <th>17</th>\n",
       "      <td>Nim</td>\n",
       "      <td>107.000000</td>\n",
       "    </tr>\n",
       "    <tr>\n",
       "      <th>21</th>\n",
       "      <td>POV-Ray SDL</td>\n",
       "      <td>96.000000</td>\n",
       "    </tr>\n",
       "    <tr>\n",
       "      <th>34</th>\n",
       "      <td>VimL</td>\n",
       "      <td>73.333333</td>\n",
       "    </tr>\n",
       "    <tr>\n",
       "      <th>20</th>\n",
       "      <td>PHP</td>\n",
       "      <td>72.600000</td>\n",
       "    </tr>\n",
       "    <tr>\n",
       "      <th>29</th>\n",
       "      <td>Scheme</td>\n",
       "      <td>70.000000</td>\n",
       "    </tr>\n",
       "    <tr>\n",
       "      <th>35</th>\n",
       "      <td>YAML</td>\n",
       "      <td>54.000000</td>\n",
       "    </tr>\n",
       "    <tr>\n",
       "      <th>13</th>\n",
       "      <td>Kotlin</td>\n",
       "      <td>48.000000</td>\n",
       "    </tr>\n",
       "    <tr>\n",
       "      <th>22</th>\n",
       "      <td>Perl</td>\n",
       "      <td>24.200000</td>\n",
       "    </tr>\n",
       "    <tr>\n",
       "      <th>19</th>\n",
       "      <td>Objective-C</td>\n",
       "      <td>24.000000</td>\n",
       "    </tr>\n",
       "    <tr>\n",
       "      <th>28</th>\n",
       "      <td>SCSS</td>\n",
       "      <td>19.333333</td>\n",
       "    </tr>\n",
       "    <tr>\n",
       "      <th>15</th>\n",
       "      <td>M4</td>\n",
       "      <td>0.000000</td>\n",
       "    </tr>\n",
       "  </tbody>\n",
       "</table>\n",
       "</div>"
      ],
      "text/plain": [
       "            language  cleaned_length\n",
       "11             Jinja      765.250000\n",
       "18             OCaml      648.000000\n",
       "2                C++      453.200000\n",
       "0                  C      445.739130\n",
       "8            Haskell      395.250000\n",
       "24               QML      374.400000\n",
       "1                 C#      339.000000\n",
       "6                 Go      322.100000\n",
       "3                CSS      307.942857\n",
       "27              Rust      298.923077\n",
       "26              Ruby      296.444444\n",
       "4         Dockerfile      276.571429\n",
       "10        JavaScript      257.400000\n",
       "23            Python      248.734043\n",
       "30             Shell      227.860000\n",
       "12  Jupyter Notebook      201.000000\n",
       "31               TeX      201.000000\n",
       "5         Emacs Lisp      194.888889\n",
       "25              Roff      191.000000\n",
       "32        TypeScript      186.000000\n",
       "16          Makefile      174.076923\n",
       "7               HTML      167.000000\n",
       "9               Java      163.000000\n",
       "33        Vim script      132.576923\n",
       "14               Lua      125.222222\n",
       "17               Nim      107.000000\n",
       "21       POV-Ray SDL       96.000000\n",
       "34              VimL       73.333333\n",
       "20               PHP       72.600000\n",
       "29            Scheme       70.000000\n",
       "35              YAML       54.000000\n",
       "13            Kotlin       48.000000\n",
       "22              Perl       24.200000\n",
       "19       Objective-C       24.000000\n",
       "28              SCSS       19.333333\n",
       "15                M4        0.000000"
      ]
     },
     "execution_count": 25,
     "metadata": {},
     "output_type": "execute_result"
    }
   ],
   "source": [
    "arch_df.groupby('language').mean().reset_index().sort_values('cleaned_length', ascending=False)"
   ]
  },
  {
   "cell_type": "code",
   "execution_count": 26,
   "id": "2bfab66e",
   "metadata": {},
   "outputs": [
    {
     "data": {
      "image/png": "[encoded data removed]",
      "text/plain": [
       "<Figure size 1296x576 with 1 Axes>"
      ]
     },
     "metadata": {
      "needs_background": "light"
     },
     "output_type": "display_data"
    }
   ],
   "source": [
    "plt.figure(figsize=(18, 8))\n",
    "sns.barplot(data = arch_df.groupby('language').max().reset_index().sort_values('cleaned_length', ascending=False), x = 'cleaned_length', y='language')\n",
    "plt.title('Max Readme length by Language')\n",
    "plt.show()"
   ]
  },
  {
   "cell_type": "code",
   "execution_count": 27,
   "id": "c2686c92",
   "metadata": {},
   "outputs": [
    {
     "data": {
      "image/png": "[encoded data removed]",
      "text/plain": [
       "<Figure size 1296x576 with 1 Axes>"
      ]
     },
     "metadata": {
      "needs_background": "light"
     },
     "output_type": "display_data"
    }
   ],
   "source": [
    "plt.figure(figsize=(18, 8))\n",
    "sns.barplot(data = arch_df.groupby('language').min().reset_index().sort_values('cleaned_length', ascending=False), x = 'cleaned_length', y='language')\n",
    "plt.title('Min Readme length by Language')\n",
    "plt.show()"
   ]
  },
  {
   "cell_type": "markdown",
   "id": "07d913e4",
   "metadata": {},
   "source": [
    "# Making new dataframes based on language"
   ]
  },
  {
   "cell_type": "code",
   "execution_count": 28,
   "id": "24a0aa48",
   "metadata": {},
   "outputs": [],
   "source": [
    "shell = arch_df.query('language == \"Shell\"').reset_index()\n",
    "python = arch_df.query('language == \"Python\"').reset_index()\n",
    "css = arch_df.query('language == \"CSS\"').reset_index()\n",
    "other_lang = arch_df.query('language != \"Shell\" & language != \"Python\" & language != \"CSS\"').reset_index()"
   ]
  },
  {
   "cell_type": "code",
   "execution_count": 29,
   "id": "12f26874",
   "metadata": {},
   "outputs": [
    {
     "data": {
      "text/plain": [
       "984"
      ]
     },
     "execution_count": 29,
     "metadata": {},
     "output_type": "execute_result"
    }
   ],
   "source": [
    "len(shell) + len(python) + len(css) + len(other_lang)"
   ]
  },
  {
   "cell_type": "code",
   "execution_count": 30,
   "id": "87ed5764",
   "metadata": {},
   "outputs": [
    {
     "data": {
      "text/html": [
       "<div>\n",
       "<style scoped>\n",
       "    .dataframe tbody tr th:only-of-type {\n",
       "        vertical-align: middle;\n",
       "    }\n",
       "\n",
       "    .dataframe tbody tr th {\n",
       "        vertical-align: top;\n",
       "    }\n",
       "\n",
       "    .dataframe thead th {\n",
       "        text-align: right;\n",
       "    }\n",
       "</style>\n",
       "<table border=\"1\" class=\"dataframe\">\n",
       "  <thead>\n",
       "    <tr style=\"text-align: right;\">\n",
       "      <th></th>\n",
       "      <th>index</th>\n",
       "      <th>repo</th>\n",
       "      <th>language</th>\n",
       "      <th>readme_contents</th>\n",
       "      <th>cleaned_readme</th>\n",
       "      <th>cleaned_length</th>\n",
       "    </tr>\n",
       "  </thead>\n",
       "  <tbody>\n",
       "    <tr>\n",
       "      <th>0</th>\n",
       "      <td>0</td>\n",
       "      <td>ChrisTitusTech/ArchTitus</td>\n",
       "      <td>Shell</td>\n",
       "      <td># ArchTitus Installer Script\\n[![GitHub Super-...</td>\n",
       "      <td>[archtitu, instal, github, superlint, src, rea...</td>\n",
       "      <td>227</td>\n",
       "    </tr>\n",
       "    <tr>\n",
       "      <th>1</th>\n",
       "      <td>1</td>\n",
       "      <td>archlinuxcn/repo</td>\n",
       "      <td>Shell</td>\n",
       "      <td>Arch Linux Chinese Community Repository\\n====\\...</td>\n",
       "      <td>[chines, commun, repositori, packag, consist, ...</td>\n",
       "      <td>71</td>\n",
       "    </tr>\n",
       "    <tr>\n",
       "      <th>2</th>\n",
       "      <td>2</td>\n",
       "      <td>MatMoul/archfi</td>\n",
       "      <td>Shell</td>\n",
       "      <td># archfi\\n\\nJust a simple bash script wizard t...</td>\n",
       "      <td>[archfi, simpl, bash, wizard, instal, boot, of...</td>\n",
       "      <td>98</td>\n",
       "    </tr>\n",
       "    <tr>\n",
       "      <th>3</th>\n",
       "      <td>4</td>\n",
       "      <td>picodotdev/alis</td>\n",
       "      <td>Shell</td>\n",
       "      <td># alis\\n\\n![Arch Linux](https://raw.githubuser...</td>\n",
       "      <td>[ali, bash, instal, ali, also, known, _the, ex...</td>\n",
       "      <td>867</td>\n",
       "    </tr>\n",
       "    <tr>\n",
       "      <th>4</th>\n",
       "      <td>5</td>\n",
       "      <td>windelicato/dotfiles</td>\n",
       "      <td>Shell</td>\n",
       "      <td>Arch Linux configuration files for programs an...</td>\n",
       "      <td>[configur, file, program, bspwm, requir, full,...</td>\n",
       "      <td>52</td>\n",
       "    </tr>\n",
       "  </tbody>\n",
       "</table>\n",
       "</div>"
      ],
      "text/plain": [
       "   index                      repo language  \\\n",
       "0      0  ChrisTitusTech/ArchTitus    Shell   \n",
       "1      1          archlinuxcn/repo    Shell   \n",
       "2      2            MatMoul/archfi    Shell   \n",
       "3      4           picodotdev/alis    Shell   \n",
       "4      5      windelicato/dotfiles    Shell   \n",
       "\n",
       "                                     readme_contents  \\\n",
       "0  # ArchTitus Installer Script\\n[![GitHub Super-...   \n",
       "1  Arch Linux Chinese Community Repository\\n====\\...   \n",
       "2  # archfi\\n\\nJust a simple bash script wizard t...   \n",
       "3  # alis\\n\\n![Arch Linux](https://raw.githubuser...   \n",
       "4  Arch Linux configuration files for programs an...   \n",
       "\n",
       "                                      cleaned_readme  cleaned_length  \n",
       "0  [archtitu, instal, github, superlint, src, rea...             227  \n",
       "1  [chines, commun, repositori, packag, consist, ...              71  \n",
       "2  [archfi, simpl, bash, wizard, instal, boot, of...              98  \n",
       "3  [ali, bash, instal, ali, also, known, _the, ex...             867  \n",
       "4  [configur, file, program, bspwm, requir, full,...              52  "
      ]
     },
     "execution_count": 30,
     "metadata": {},
     "output_type": "execute_result"
    }
   ],
   "source": [
    "shell.head()"
   ]
  },
  {
   "cell_type": "code",
   "execution_count": 31,
   "id": "44f8bd65",
   "metadata": {},
   "outputs": [
    {
     "data": {
      "text/plain": [
       "count     148109\n",
       "unique     18329\n",
       "top       instal\n",
       "freq        2825\n",
       "dtype: object"
      ]
     },
     "execution_count": 31,
     "metadata": {},
     "output_type": "execute_result"
    }
   ],
   "source": [
    "shell_corpus_list = []\n",
    "for entry in range(len(shell)):\n",
    "    shell_corpus_list.extend(shell.cleaned_readme[entry])\n",
    "shell_corpus = pd.Series(shell_corpus_list)\n",
    "shell_corpus.describe()"
   ]
  },
  {
   "cell_type": "code",
   "execution_count": 32,
   "id": "f8d33040",
   "metadata": {},
   "outputs": [
    {
     "data": {
      "text/plain": [
       "count      23381\n",
       "unique      4281\n",
       "top       instal\n",
       "freq         468\n",
       "dtype: object"
      ]
     },
     "execution_count": 32,
     "metadata": {},
     "output_type": "execute_result"
    }
   ],
   "source": [
    "python_corpus_list = []\n",
    "for entry in range(len(python)):\n",
    "    python_corpus_list.extend(python.cleaned_readme[entry])\n",
    "python_corpus = pd.Series(python_corpus_list)\n",
    "python_corpus.describe()"
   ]
  },
  {
   "cell_type": "code",
   "execution_count": 33,
   "id": "301f597f",
   "metadata": {},
   "outputs": [
    {
     "data": {
      "text/plain": [
       "count     10778\n",
       "unique     3215\n",
       "top       color\n",
       "freq        141\n",
       "dtype: object"
      ]
     },
     "execution_count": 33,
     "metadata": {},
     "output_type": "execute_result"
    }
   ],
   "source": [
    "css_corpus_list = []\n",
    "for entry in range(len(css)):\n",
    "    css_corpus_list.extend(css.cleaned_readme[entry])\n",
    "css_corpus = pd.Series(css_corpus_list)\n",
    "css_corpus.describe()"
   ]
  },
  {
   "cell_type": "code",
   "execution_count": 34,
   "id": "3ff0cbcb",
   "metadata": {},
   "outputs": [
    {
     "data": {
      "text/plain": [
       "count      51045\n",
       "unique      8420\n",
       "top       instal\n",
       "freq         813\n",
       "dtype: object"
      ]
     },
     "execution_count": 34,
     "metadata": {},
     "output_type": "execute_result"
    }
   ],
   "source": [
    "other_lang_corpus_list = []\n",
    "for entry in range(len(other_lang)):\n",
    "    other_lang_corpus_list.extend(other_lang.cleaned_readme[entry])\n",
    "other_lang_corpus = pd.Series(other_lang_corpus_list)\n",
    "other_lang_corpus.describe()"
   ]
  },
  {
   "cell_type": "code",
   "execution_count": 35,
   "id": "05297a1f",
   "metadata": {},
   "outputs": [],
   "source": [
    "shell_freq = pd.Series(shell_corpus).value_counts()\n",
    "python_freq = pd.Series(python_corpus).value_counts()\n",
    "css_freq = pd.Series(css_corpus).value_counts()\n",
    "other_lang_freq = pd.Series(other_lang_corpus).value_counts()\n",
    "all_words_freq = pd.Series(arch_corpus).value_counts()"
   ]
  },
  {
   "cell_type": "code",
   "execution_count": 36,
   "id": "47135e6b",
   "metadata": {},
   "outputs": [
    {
     "data": {
      "text/html": [
       "<div>\n",
       "<style scoped>\n",
       "    .dataframe tbody tr th:only-of-type {\n",
       "        vertical-align: middle;\n",
       "    }\n",
       "\n",
       "    .dataframe tbody tr th {\n",
       "        vertical-align: top;\n",
       "    }\n",
       "\n",
       "    .dataframe thead th {\n",
       "        text-align: right;\n",
       "    }\n",
       "</style>\n",
       "<table border=\"1\" class=\"dataframe\">\n",
       "  <thead>\n",
       "    <tr style=\"text-align: right;\">\n",
       "      <th></th>\n",
       "      <th>all</th>\n",
       "      <th>shell</th>\n",
       "      <th>python</th>\n",
       "      <th>css</th>\n",
       "      <th>other_langs</th>\n",
       "    </tr>\n",
       "  </thead>\n",
       "  <tbody>\n",
       "    <tr>\n",
       "      <th>0</th>\n",
       "      <td>266</td>\n",
       "      <td>134</td>\n",
       "      <td>28</td>\n",
       "      <td>44</td>\n",
       "      <td>60</td>\n",
       "    </tr>\n",
       "    <tr>\n",
       "      <th>00</th>\n",
       "      <td>47</td>\n",
       "      <td>44</td>\n",
       "      <td>0</td>\n",
       "      <td>3</td>\n",
       "      <td>0</td>\n",
       "    </tr>\n",
       "    <tr>\n",
       "      <th>000</th>\n",
       "      <td>2</td>\n",
       "      <td>1</td>\n",
       "      <td>0</td>\n",
       "      <td>1</td>\n",
       "      <td>0</td>\n",
       "    </tr>\n",
       "    <tr>\n",
       "      <th>0000</th>\n",
       "      <td>13</td>\n",
       "      <td>13</td>\n",
       "      <td>0</td>\n",
       "      <td>0</td>\n",
       "      <td>0</td>\n",
       "    </tr>\n",
       "    <tr>\n",
       "      <th>000000</th>\n",
       "      <td>1</td>\n",
       "      <td>0</td>\n",
       "      <td>0</td>\n",
       "      <td>0</td>\n",
       "      <td>1</td>\n",
       "    </tr>\n",
       "  </tbody>\n",
       "</table>\n",
       "</div>"
      ],
      "text/plain": [
       "        all  shell  python  css  other_langs\n",
       "0       266    134      28   44           60\n",
       "00       47     44       0    3            0\n",
       "000       2      1       0    1            0\n",
       "0000     13     13       0    0            0\n",
       "000000    1      0       0    0            1"
      ]
     },
     "execution_count": 36,
     "metadata": {},
     "output_type": "execute_result"
    }
   ],
   "source": [
    "word_counts = (pd.concat([all_words_freq, shell_freq, python_freq, css_freq, other_lang_freq], axis=1, sort=True)\n",
    "                .set_axis(['all', 'shell', 'python', 'css', 'other_langs'], axis=1, inplace=False)\n",
    "                .fillna(0)\n",
    "                .apply(lambda s: s.astype(int)))\n",
    "\n",
    "word_counts.head()"
   ]
  },
  {
   "cell_type": "code",
   "execution_count": 37,
   "id": "ae9d00c8",
   "metadata": {},
   "outputs": [
    {
     "data": {
      "text/html": [
       "<div>\n",
       "<style scoped>\n",
       "    .dataframe tbody tr th:only-of-type {\n",
       "        vertical-align: middle;\n",
       "    }\n",
       "\n",
       "    .dataframe tbody tr th {\n",
       "        vertical-align: top;\n",
       "    }\n",
       "\n",
       "    .dataframe thead th {\n",
       "        text-align: right;\n",
       "    }\n",
       "</style>\n",
       "<table border=\"1\" class=\"dataframe\">\n",
       "  <thead>\n",
       "    <tr style=\"text-align: right;\">\n",
       "      <th></th>\n",
       "      <th>all</th>\n",
       "      <th>shell</th>\n",
       "      <th>python</th>\n",
       "      <th>css</th>\n",
       "      <th>other_langs</th>\n",
       "    </tr>\n",
       "  </thead>\n",
       "  <tbody>\n",
       "    <tr>\n",
       "      <th>instal</th>\n",
       "      <td>4202</td>\n",
       "      <td>2825</td>\n",
       "      <td>468</td>\n",
       "      <td>96</td>\n",
       "      <td>813</td>\n",
       "    </tr>\n",
       "    <tr>\n",
       "      <th>packag</th>\n",
       "      <td>2936</td>\n",
       "      <td>1782</td>\n",
       "      <td>466</td>\n",
       "      <td>9</td>\n",
       "      <td>679</td>\n",
       "    </tr>\n",
       "    <tr>\n",
       "      <th>use</th>\n",
       "      <td>1957</td>\n",
       "      <td>1211</td>\n",
       "      <td>203</td>\n",
       "      <td>85</td>\n",
       "      <td>458</td>\n",
       "    </tr>\n",
       "    <tr>\n",
       "      <th>configur</th>\n",
       "      <td>1433</td>\n",
       "      <td>902</td>\n",
       "      <td>169</td>\n",
       "      <td>22</td>\n",
       "      <td>340</td>\n",
       "    </tr>\n",
       "    <tr>\n",
       "      <th>pacman</th>\n",
       "      <td>1268</td>\n",
       "      <td>983</td>\n",
       "      <td>93</td>\n",
       "      <td>3</td>\n",
       "      <td>189</td>\n",
       "    </tr>\n",
       "    <tr>\n",
       "      <th>file</th>\n",
       "      <td>980</td>\n",
       "      <td>581</td>\n",
       "      <td>104</td>\n",
       "      <td>9</td>\n",
       "      <td>286</td>\n",
       "    </tr>\n",
       "    <tr>\n",
       "      <th>bash</th>\n",
       "      <td>905</td>\n",
       "      <td>711</td>\n",
       "      <td>71</td>\n",
       "      <td>3</td>\n",
       "      <td>120</td>\n",
       "    </tr>\n",
       "    <tr>\n",
       "      <th>creat</th>\n",
       "      <td>896</td>\n",
       "      <td>592</td>\n",
       "      <td>112</td>\n",
       "      <td>6</td>\n",
       "      <td>186</td>\n",
       "    </tr>\n",
       "    <tr>\n",
       "      <th>1</th>\n",
       "      <td>852</td>\n",
       "      <td>597</td>\n",
       "      <td>78</td>\n",
       "      <td>33</td>\n",
       "      <td>144</td>\n",
       "    </tr>\n",
       "    <tr>\n",
       "      <th>boot</th>\n",
       "      <td>829</td>\n",
       "      <td>693</td>\n",
       "      <td>41</td>\n",
       "      <td>1</td>\n",
       "      <td>94</td>\n",
       "    </tr>\n",
       "  </tbody>\n",
       "</table>\n",
       "</div>"
      ],
      "text/plain": [
       "           all  shell  python  css  other_langs\n",
       "instal    4202   2825     468   96          813\n",
       "packag    2936   1782     466    9          679\n",
       "use       1957   1211     203   85          458\n",
       "configur  1433    902     169   22          340\n",
       "pacman    1268    983      93    3          189\n",
       "file       980    581     104    9          286\n",
       "bash       905    711      71    3          120\n",
       "creat      896    592     112    6          186\n",
       "1          852    597      78   33          144\n",
       "boot       829    693      41    1           94"
      ]
     },
     "execution_count": 37,
     "metadata": {},
     "output_type": "execute_result"
    }
   ],
   "source": [
    "word_counts.sort_values(by='all', ascending=False).head(10)"
   ]
  },
  {
   "cell_type": "code",
   "execution_count": 38,
   "id": "4409b3a7",
   "metadata": {},
   "outputs": [
    {
     "data": {
      "text/plain": [
       "<Figure size 1296x576 with 0 Axes>"
      ]
     },
     "metadata": {},
     "output_type": "display_data"
    },
    {
     "data": {
      "image/png": "[encoded data removed]",
      "text/plain": [
       "<Figure size 432x288 with 1 Axes>"
      ]
     },
     "metadata": {
      "needs_background": "light"
     },
     "output_type": "display_data"
    }
   ],
   "source": [
    "# figure out the percentage of shell vs python vs css vs other\n",
    "plt.figure(figsize=(18,8))\n",
    "(word_counts\n",
    " .assign(p_shell=word_counts.shell / word_counts['all'],\n",
    "         p_python=word_counts.python / word_counts['all'],\n",
    "         p_css=word_counts.css / word_counts['all'],\n",
    "         p_other_langs=word_counts.other_langs / word_counts['all'])\n",
    " .sort_values(by='all')\n",
    " [['p_shell', 'p_python', 'p_css', 'p_other_langs']]\n",
    " .tail(20)\n",
    " .sort_values('p_shell')\n",
    " .plot.barh(stacked=True))\n",
    "\n",
    "plt.title('Proportion of Shell vs Python vs CSS vs Other Languages for the 20 most common words')\n",
    "plt.show()"
   ]
  },
  {
   "cell_type": "code",
   "execution_count": 39,
   "id": "91e40372",
   "metadata": {},
   "outputs": [],
   "source": [
    "top_20 = pd.Series(word_counts.sort_values(by='all', ascending=False).head(20).index)"
   ]
  },
  {
   "cell_type": "code",
   "execution_count": 40,
   "id": "a6281f87",
   "metadata": {},
   "outputs": [],
   "source": [
    "top_20_totals = []\n",
    "for i in top_20:\n",
    "    total = 0\n",
    "    for j in range(len(shell)):\n",
    "        if i in shell.cleaned_readme[j]:\n",
    "            total +=1\n",
    "    top_20_totals.append(round(total /len(shell), 4))\n",
    "shell_top_20_percentages = top_20_totals"
   ]
  },
  {
   "cell_type": "code",
   "execution_count": 41,
   "id": "d18175b4",
   "metadata": {
    "scrolled": true
   },
   "outputs": [],
   "source": [
    "top_20_totals = []\n",
    "for i in top_20:\n",
    "    total = 0\n",
    "    for j in range(len(python)):\n",
    "        if i in python.cleaned_readme[j]:\n",
    "            total +=1\n",
    "    top_20_totals.append(round(total /len(python), 4))\n",
    "python_top_20_percentages = top_20_totals"
   ]
  },
  {
   "cell_type": "code",
   "execution_count": 42,
   "id": "7d322a7f",
   "metadata": {},
   "outputs": [],
   "source": [
    "top_20_totals = []\n",
    "for i in top_20:\n",
    "    total = 0\n",
    "    for j in range(len(css)):\n",
    "        if i in css.cleaned_readme[j]:\n",
    "            total +=1\n",
    "    top_20_totals.append(round(total /len(css), 4))\n",
    "css_top_20_percentages = top_20_totals"
   ]
  },
  {
   "cell_type": "code",
   "execution_count": 43,
   "id": "770a7ed9",
   "metadata": {},
   "outputs": [],
   "source": [
    "top_20_totals = []\n",
    "for i in top_20:\n",
    "    total = 0\n",
    "    for j in range(len(other_lang)):\n",
    "        if i in other_lang.cleaned_readme[j]:\n",
    "            total +=1\n",
    "    top_20_totals.append(round(total /len(other_lang), 4))\n",
    "other_lang_top_20_percentages = top_20_totals"
   ]
  },
  {
   "cell_type": "code",
   "execution_count": 44,
   "id": "0302026d",
   "metadata": {},
   "outputs": [],
   "source": [
    "top_20_percentage = pd.DataFrame({\"top_20_words\": top_20, 'shell': shell_top_20_percentages, 'python': python_top_20_percentages, 'css': css_top_20_percentages, 'other_langs': other_lang_top_20_percentages})"
   ]
  },
  {
   "cell_type": "code",
   "execution_count": 45,
   "id": "a65a0ac4",
   "metadata": {},
   "outputs": [
    {
     "data": {
      "text/plain": [
       "<AxesSubplot:>"
      ]
     },
     "execution_count": 45,
     "metadata": {},
     "output_type": "execute_result"
    },
    {
     "data": {
      "image/png": "[encoded data removed]",
      "text/plain": [
       "<Figure size 432x288 with 1 Axes>"
      ]
     },
     "metadata": {
      "needs_background": "light"
     },
     "output_type": "display_data"
    }
   ],
   "source": [
    "top_20_percentage.plot.barh(stacked=True)"
   ]
  },
  {
   "cell_type": "markdown",
   "id": "17bfacee",
   "metadata": {},
   "source": [
    "# Pulling in all jsons to one large dataframe"
   ]
  },
  {
   "cell_type": "code",
   "execution_count": 47,
   "id": "4f47c683",
   "metadata": {},
   "outputs": [
    {
     "data": {
      "text/html": [
       "<div>\n",
       "<style scoped>\n",
       "    .dataframe tbody tr th:only-of-type {\n",
       "        vertical-align: middle;\n",
       "    }\n",
       "\n",
       "    .dataframe tbody tr th {\n",
       "        vertical-align: top;\n",
       "    }\n",
       "\n",
       "    .dataframe thead th {\n",
       "        text-align: right;\n",
       "    }\n",
       "</style>\n",
       "<table border=\"1\" class=\"dataframe\">\n",
       "  <thead>\n",
       "    <tr style=\"text-align: right;\">\n",
       "      <th></th>\n",
       "      <th>repo</th>\n",
       "      <th>language</th>\n",
       "      <th>readme_contents</th>\n",
       "    </tr>\n",
       "  </thead>\n",
       "  <tbody>\n",
       "    <tr>\n",
       "      <th>0</th>\n",
       "      <td>ChrisTitusTech/ArchTitus</td>\n",
       "      <td>Shell</td>\n",
       "      <td># ArchTitus Installer Script\\n[![GitHub Super-...</td>\n",
       "    </tr>\n",
       "    <tr>\n",
       "      <th>1</th>\n",
       "      <td>archlinuxcn/repo</td>\n",
       "      <td>Shell</td>\n",
       "      <td>Arch Linux Chinese Community Repository\\n====\\...</td>\n",
       "    </tr>\n",
       "    <tr>\n",
       "      <th>2</th>\n",
       "      <td>MatMoul/archfi</td>\n",
       "      <td>Shell</td>\n",
       "      <td># archfi\\n\\nJust a simple bash script wizard t...</td>\n",
       "    </tr>\n",
       "    <tr>\n",
       "      <th>3</th>\n",
       "      <td>archlinux/archinstall</td>\n",
       "      <td>Python</td>\n",
       "      <td>&lt;!-- &lt;div align=\"center\"&gt; --&gt;\\n&lt;img src=\"https...</td>\n",
       "    </tr>\n",
       "    <tr>\n",
       "      <th>4</th>\n",
       "      <td>picodotdev/alis</td>\n",
       "      <td>Shell</td>\n",
       "      <td># alis\\n\\n![Arch Linux](https://raw.githubuser...</td>\n",
       "    </tr>\n",
       "    <tr>\n",
       "      <th>...</th>\n",
       "      <td>...</td>\n",
       "      <td>...</td>\n",
       "      <td>...</td>\n",
       "    </tr>\n",
       "    <tr>\n",
       "      <th>1095</th>\n",
       "      <td>gmas/home-router-ansible</td>\n",
       "      <td>Ruby</td>\n",
       "      <td># home-router-ansible\\nAnsible scripts for set...</td>\n",
       "    </tr>\n",
       "    <tr>\n",
       "      <th>1096</th>\n",
       "      <td>Voltasalt/tial</td>\n",
       "      <td>Shell</td>\n",
       "      <td># tial\\nTwitch Installs Arch Linux: Scripts\\n</td>\n",
       "    </tr>\n",
       "    <tr>\n",
       "      <th>1097</th>\n",
       "      <td>Caesim404/sikulix-git</td>\n",
       "      <td>Shell</td>\n",
       "      <td></td>\n",
       "    </tr>\n",
       "    <tr>\n",
       "      <th>1098</th>\n",
       "      <td>danboid/ZALARM-install</td>\n",
       "      <td>None</td>\n",
       "      <td># Installing Arch Linux ARM (ALARM) on the SHA...</td>\n",
       "    </tr>\n",
       "    <tr>\n",
       "      <th>1099</th>\n",
       "      <td>BiteDasher/pacadd</td>\n",
       "      <td>Shell</td>\n",
       "      <td># pacadd\\nA simple tool for managing repositor...</td>\n",
       "    </tr>\n",
       "  </tbody>\n",
       "</table>\n",
       "<p>1100 rows × 3 columns</p>\n",
       "</div>"
      ],
      "text/plain": [
       "                          repo language  \\\n",
       "0     ChrisTitusTech/ArchTitus    Shell   \n",
       "1             archlinuxcn/repo    Shell   \n",
       "2               MatMoul/archfi    Shell   \n",
       "3        archlinux/archinstall   Python   \n",
       "4              picodotdev/alis    Shell   \n",
       "...                        ...      ...   \n",
       "1095  gmas/home-router-ansible     Ruby   \n",
       "1096            Voltasalt/tial    Shell   \n",
       "1097     Caesim404/sikulix-git    Shell   \n",
       "1098    danboid/ZALARM-install     None   \n",
       "1099         BiteDasher/pacadd    Shell   \n",
       "\n",
       "                                        readme_contents  \n",
       "0     # ArchTitus Installer Script\\n[![GitHub Super-...  \n",
       "1     Arch Linux Chinese Community Repository\\n====\\...  \n",
       "2     # archfi\\n\\nJust a simple bash script wizard t...  \n",
       "3     <!-- <div align=\"center\"> -->\\n<img src=\"https...  \n",
       "4     # alis\\n\\n![Arch Linux](https://raw.githubuser...  \n",
       "...                                                 ...  \n",
       "1095  # home-router-ansible\\nAnsible scripts for set...  \n",
       "1096      # tial\\nTwitch Installs Arch Linux: Scripts\\n  \n",
       "1097                                                     \n",
       "1098  # Installing Arch Linux ARM (ALARM) on the SHA...  \n",
       "1099  # pacadd\\nA simple tool for managing repositor...  \n",
       "\n",
       "[1100 rows x 3 columns]"
      ]
     },
     "execution_count": 47,
     "metadata": {},
     "output_type": "execute_result"
    }
   ],
   "source": [
    "arch_df = pd.read_json('arch_linux_data.json')\n",
    "arch_df"
   ]
  },
  {
   "cell_type": "code",
   "execution_count": 49,
   "id": "24086c0e",
   "metadata": {},
   "outputs": [
    {
     "data": {
      "text/html": [
       "<div>\n",
       "<style scoped>\n",
       "    .dataframe tbody tr th:only-of-type {\n",
       "        vertical-align: middle;\n",
       "    }\n",
       "\n",
       "    .dataframe tbody tr th {\n",
       "        vertical-align: top;\n",
       "    }\n",
       "\n",
       "    .dataframe thead th {\n",
       "        text-align: right;\n",
       "    }\n",
       "</style>\n",
       "<table border=\"1\" class=\"dataframe\">\n",
       "  <thead>\n",
       "    <tr style=\"text-align: right;\">\n",
       "      <th></th>\n",
       "      <th>repo</th>\n",
       "      <th>language</th>\n",
       "      <th>readme_contents</th>\n",
       "    </tr>\n",
       "  </thead>\n",
       "  <tbody>\n",
       "    <tr>\n",
       "      <th>0</th>\n",
       "      <td>boxcutter/debian</td>\n",
       "      <td>Shell</td>\n",
       "      <td># Packer templates for Debian written in legac...</td>\n",
       "    </tr>\n",
       "    <tr>\n",
       "      <th>1</th>\n",
       "      <td>wszqkzqk/deepin-wine-ubuntu</td>\n",
       "      <td>C</td>\n",
       "      <td># Deepin wine for Ubuntu and Debian\\n\\n## 一、项目...</td>\n",
       "    </tr>\n",
       "    <tr>\n",
       "      <th>2</th>\n",
       "      <td>openfans-community-offical/Debian-Pi-Aarch64</td>\n",
       "      <td>Shell</td>\n",
       "      <td># Notice !!!!!!!!!\\n\\n## Notify:\\n\\n## Stateme...</td>\n",
       "    </tr>\n",
       "    <tr>\n",
       "      <th>3</th>\n",
       "      <td>AdnanHodzic/displaylink-debian</td>\n",
       "      <td>Shell</td>\n",
       "      <td># displaylink-debian\\n\\nDisplayLink driver ins...</td>\n",
       "    </tr>\n",
       "    <tr>\n",
       "      <th>4</th>\n",
       "      <td>teddysun/shadowsocks_install</td>\n",
       "      <td>Shell</td>\n",
       "      <td>![Shadowsocks](https://github.com/teddysun/sha...</td>\n",
       "    </tr>\n",
       "    <tr>\n",
       "      <th>...</th>\n",
       "      <td>...</td>\n",
       "      <td>...</td>\n",
       "      <td>...</td>\n",
       "    </tr>\n",
       "    <tr>\n",
       "      <th>1095</th>\n",
       "      <td>activecm/bro-install</td>\n",
       "      <td>Shell</td>\n",
       "      <td># Bro-Install\\nAn Installation Script for Bro ...</td>\n",
       "    </tr>\n",
       "    <tr>\n",
       "      <th>1096</th>\n",
       "      <td>protonet/nginx-debian</td>\n",
       "      <td>Perl</td>\n",
       "      <td>wget http://archive.ubuntu.com/ubuntu/pool/uni...</td>\n",
       "    </tr>\n",
       "    <tr>\n",
       "      <th>1097</th>\n",
       "      <td>Yubico/pam-u2f-dpkg</td>\n",
       "      <td>Shell</td>\n",
       "      <td>Pluggable Authentication Module (PAM) Universa...</td>\n",
       "    </tr>\n",
       "    <tr>\n",
       "      <th>1098</th>\n",
       "      <td>Yubico/libu2f-server-dpkg</td>\n",
       "      <td>Shell</td>\n",
       "      <td>Yubico Universal 2nd Factor (U2F) Server C Lib...</td>\n",
       "    </tr>\n",
       "    <tr>\n",
       "      <th>1099</th>\n",
       "      <td>senorpinguino/chip-mali-userspace</td>\n",
       "      <td>C</td>\n",
       "      <td></td>\n",
       "    </tr>\n",
       "  </tbody>\n",
       "</table>\n",
       "<p>1100 rows × 3 columns</p>\n",
       "</div>"
      ],
      "text/plain": [
       "                                              repo language  \\\n",
       "0                                 boxcutter/debian    Shell   \n",
       "1                      wszqkzqk/deepin-wine-ubuntu        C   \n",
       "2     openfans-community-offical/Debian-Pi-Aarch64    Shell   \n",
       "3                   AdnanHodzic/displaylink-debian    Shell   \n",
       "4                     teddysun/shadowsocks_install    Shell   \n",
       "...                                            ...      ...   \n",
       "1095                          activecm/bro-install    Shell   \n",
       "1096                         protonet/nginx-debian     Perl   \n",
       "1097                           Yubico/pam-u2f-dpkg    Shell   \n",
       "1098                     Yubico/libu2f-server-dpkg    Shell   \n",
       "1099             senorpinguino/chip-mali-userspace        C   \n",
       "\n",
       "                                        readme_contents  \n",
       "0     # Packer templates for Debian written in legac...  \n",
       "1     # Deepin wine for Ubuntu and Debian\\n\\n## 一、项目...  \n",
       "2     # Notice !!!!!!!!!\\n\\n## Notify:\\n\\n## Stateme...  \n",
       "3     # displaylink-debian\\n\\nDisplayLink driver ins...  \n",
       "4     ![Shadowsocks](https://github.com/teddysun/sha...  \n",
       "...                                                 ...  \n",
       "1095  # Bro-Install\\nAn Installation Script for Bro ...  \n",
       "1096  wget http://archive.ubuntu.com/ubuntu/pool/uni...  \n",
       "1097  Pluggable Authentication Module (PAM) Universa...  \n",
       "1098  Yubico Universal 2nd Factor (U2F) Server C Lib...  \n",
       "1099                                                     \n",
       "\n",
       "[1100 rows x 3 columns]"
      ]
     },
     "execution_count": 49,
     "metadata": {},
     "output_type": "execute_result"
    }
   ],
   "source": [
    "debian_df = pd.read_json('debian_data.json')\n",
    "debian_df"
   ]
  },
  {
   "cell_type": "code",
   "execution_count": 50,
   "id": "ad072a8d",
   "metadata": {},
   "outputs": [
    {
     "data": {
      "text/html": [
       "<div>\n",
       "<style scoped>\n",
       "    .dataframe tbody tr th:only-of-type {\n",
       "        vertical-align: middle;\n",
       "    }\n",
       "\n",
       "    .dataframe tbody tr th {\n",
       "        vertical-align: top;\n",
       "    }\n",
       "\n",
       "    .dataframe thead th {\n",
       "        text-align: right;\n",
       "    }\n",
       "</style>\n",
       "<table border=\"1\" class=\"dataframe\">\n",
       "  <thead>\n",
       "    <tr style=\"text-align: right;\">\n",
       "      <th></th>\n",
       "      <th>repo</th>\n",
       "      <th>language</th>\n",
       "      <th>readme_contents</th>\n",
       "    </tr>\n",
       "  </thead>\n",
       "  <tbody>\n",
       "    <tr>\n",
       "      <th>0</th>\n",
       "      <td>dockerfile/ubuntu</td>\n",
       "      <td>Shell</td>\n",
       "      <td>## Ubuntu Dockerfile\\n\\n\\nThis repository cont...</td>\n",
       "    </tr>\n",
       "    <tr>\n",
       "      <th>1</th>\n",
       "      <td>boxcutter/ubuntu</td>\n",
       "      <td>Shell</td>\n",
       "      <td># Packer templates for Ubuntu written in legac...</td>\n",
       "    </tr>\n",
       "    <tr>\n",
       "      <th>2</th>\n",
       "      <td>wszqkzqk/deepin-wine-ubuntu</td>\n",
       "      <td>C</td>\n",
       "      <td># Deepin wine for Ubuntu and Debian\\n\\n## 一、项目...</td>\n",
       "    </tr>\n",
       "    <tr>\n",
       "      <th>3</th>\n",
       "      <td>fcwu/docker-ubuntu-vnc-desktop</td>\n",
       "      <td>HTML</td>\n",
       "      <td># docker-ubuntu-vnc-desktop\\n\\n[![Docker Pulls...</td>\n",
       "    </tr>\n",
       "    <tr>\n",
       "      <th>4</th>\n",
       "      <td>docker-32bit/ubuntu</td>\n",
       "      <td>Shell</td>\n",
       "      <td>ubuntu\\n======\\n\\nBuild a docker image for ubu...</td>\n",
       "    </tr>\n",
       "    <tr>\n",
       "      <th>...</th>\n",
       "      <td>...</td>\n",
       "      <td>...</td>\n",
       "      <td>...</td>\n",
       "    </tr>\n",
       "    <tr>\n",
       "      <th>1095</th>\n",
       "      <td>kurniawandata/nasihosting</td>\n",
       "      <td>PHP</td>\n",
       "      <td># nasihosting\\n\\nNasihosting v5.2\\n-----------...</td>\n",
       "    </tr>\n",
       "    <tr>\n",
       "      <th>1096</th>\n",
       "      <td>mastermindg/trac-docker-ubuntu</td>\n",
       "      <td>Shell</td>\n",
       "      <td># trac-ubuntu\\n\\n[![](https://images.microbadg...</td>\n",
       "    </tr>\n",
       "    <tr>\n",
       "      <th>1097</th>\n",
       "      <td>hortonworks/docker-protractor</td>\n",
       "      <td>Shell</td>\n",
       "      <td>**General Docker image for executing headless ...</td>\n",
       "    </tr>\n",
       "    <tr>\n",
       "      <th>1098</th>\n",
       "      <td>rubiojr/surface3-kernel</td>\n",
       "      <td>C</td>\n",
       "      <td>Linux kernel release 3.x &lt;http://kerne...</td>\n",
       "    </tr>\n",
       "    <tr>\n",
       "      <th>1099</th>\n",
       "      <td>sh0rez/vSphere-terraform_ubuntu-cloud-ova</td>\n",
       "      <td>HCL</td>\n",
       "      <td># :cloud: vSphere Terraform Ubuntu-cloud OVA/O...</td>\n",
       "    </tr>\n",
       "  </tbody>\n",
       "</table>\n",
       "<p>1100 rows × 3 columns</p>\n",
       "</div>"
      ],
      "text/plain": [
       "                                           repo language  \\\n",
       "0                             dockerfile/ubuntu    Shell   \n",
       "1                              boxcutter/ubuntu    Shell   \n",
       "2                   wszqkzqk/deepin-wine-ubuntu        C   \n",
       "3                fcwu/docker-ubuntu-vnc-desktop     HTML   \n",
       "4                           docker-32bit/ubuntu    Shell   \n",
       "...                                         ...      ...   \n",
       "1095                  kurniawandata/nasihosting      PHP   \n",
       "1096             mastermindg/trac-docker-ubuntu    Shell   \n",
       "1097              hortonworks/docker-protractor    Shell   \n",
       "1098                    rubiojr/surface3-kernel        C   \n",
       "1099  sh0rez/vSphere-terraform_ubuntu-cloud-ova      HCL   \n",
       "\n",
       "                                        readme_contents  \n",
       "0     ## Ubuntu Dockerfile\\n\\n\\nThis repository cont...  \n",
       "1     # Packer templates for Ubuntu written in legac...  \n",
       "2     # Deepin wine for Ubuntu and Debian\\n\\n## 一、项目...  \n",
       "3     # docker-ubuntu-vnc-desktop\\n\\n[![Docker Pulls...  \n",
       "4     ubuntu\\n======\\n\\nBuild a docker image for ubu...  \n",
       "...                                                 ...  \n",
       "1095  # nasihosting\\n\\nNasihosting v5.2\\n-----------...  \n",
       "1096  # trac-ubuntu\\n\\n[![](https://images.microbadg...  \n",
       "1097  **General Docker image for executing headless ...  \n",
       "1098          Linux kernel release 3.x <http://kerne...  \n",
       "1099  # :cloud: vSphere Terraform Ubuntu-cloud OVA/O...  \n",
       "\n",
       "[1100 rows x 3 columns]"
      ]
     },
     "execution_count": 50,
     "metadata": {},
     "output_type": "execute_result"
    }
   ],
   "source": [
    "ubuntu_df = pd.read_json('ubuntu_data.json')\n",
    "ubuntu_df"
   ]
  },
  {
   "cell_type": "code",
   "execution_count": 53,
   "id": "810e8fa9",
   "metadata": {},
   "outputs": [],
   "source": [
    "master_list = pd.concat([ubuntu_df, debian_df, arch_df])"
   ]
  },
  {
   "cell_type": "code",
   "execution_count": 54,
   "id": "c3d0a60a",
   "metadata": {},
   "outputs": [],
   "source": [
    "master_list.to_csv('master_list.csv')"
   ]
  }
 ],
 "metadata": {
  "kernelspec": {
   "display_name": "Python 3 (ipykernel)",
   "language": "python",
   "name": "python3"
  },
  "language_info": {
   "codemirror_mode": {
    "name": "ipython",
    "version": 3
   },
   "file_extension": ".py",
   "mimetype": "text/x-python",
   "name": "python",
   "nbconvert_exporter": "python",
   "pygments_lexer": "ipython3",
   "version": "3.9.7"
  }
 },
 "nbformat": 4,
 "nbformat_minor": 5
}
